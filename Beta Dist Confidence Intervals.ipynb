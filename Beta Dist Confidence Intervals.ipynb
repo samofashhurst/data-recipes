{
 "cells": [
  {
   "cell_type": "markdown",
   "metadata": {
    "colab_type": "text",
    "id": "BWf7MNd705U6"
   },
   "source": [
    "# Intro"
   ]
  },
  {
   "cell_type": "markdown",
   "metadata": {
    "colab_type": "text",
    "id": "_VTBwR6azcQo"
   },
   "source": [
    "Let's say you run a test with *n* trials (e.g. sessions) and *a* successes (e.g. conversions), and you want to figure out the distribution of possible values for *p* (e.g. conversion rate).\n",
    "\n",
    "For instance, what's a range of likely values if you run this test again? This calculator will help.\n",
    "\n",
    "--\n",
    "\n",
    "See [here](https://www.countbayesie.com/blog/2015/3/17/interrogating-probability-distributions) for an introduction to beta distributions, and [here](https://www.countbayesie.com/blog/2015/4/4/parameter-estimation-the-pdf-cdf-and-quantile-function) for an application of this to confidence intervals."
   ]
  },
  {
   "cell_type": "markdown",
   "metadata": {
    "colab_type": "text",
    "id": "tfIf8Fr909fE"
   },
   "source": [
    "# Beta Distribution Calculator"
   ]
  },
  {
   "cell_type": "markdown",
   "metadata": {
    "colab_type": "text",
    "id": "fu325K_J1I2G"
   },
   "source": [
    "Fill out the input values in the second cell below, and then hover over each code cell in order and press the play icon - where there is output, that will update."
   ]
  },
  {
   "cell_type": "code",
   "execution_count": 0,
   "metadata": {
    "colab": {},
    "colab_type": "code",
    "id": "-phSX1OElGcT"
   },
   "outputs": [],
   "source": [
    "# See https://www.countbayesie.com/blog/2015/4/4/parameter-estimation-the-pdf-cdf-and-quantile-function\n",
    "# http://stats.stackexchange.com/questions/47771/what-is-the-intuition-behind-beta-distribution/47782#47782\n",
    "from scipy.special import btdtr,btdtri\n",
    "import numpy as np\n",
    "from scipy.stats import beta\n",
    "import matplotlib.pyplot as plt"
   ]
  },
  {
   "cell_type": "code",
   "execution_count": 0,
   "metadata": {
    "colab": {},
    "colab_type": "code",
    "id": "XO7GXte7o2G9"
   },
   "outputs": [],
   "source": [
    "# Input number of trials, number of successes, and forecast trials (e.g. for next month)\n",
    "trials = 2099\n",
    "successes = 135\n",
    "forecast_trials = 2099"
   ]
  },
  {
   "cell_type": "code",
   "execution_count": 0,
   "metadata": {
    "colab": {
     "base_uri": "https://localhost:8080/",
     "height": 204
    },
    "colab_type": "code",
    "id": "0BnuULmXlXzY",
    "outputId": "7e0b9270-fe73-48d2-e8bc-fce2bde69bac"
   },
   "outputs": [
    {
     "name": "stdout",
     "output_type": "stream",
     "text": [
      "p vals\n",
      "======\n",
      "Lower bound: 0.0542\n",
      "Median:      0.0642\n",
      "Upper bound: 0.0752\n",
      "\n",
      "Forecast successes (for #forecast trials = 2099)\n",
      "==================\n",
      "Lower bound: 114\n",
      "Median:      135\n",
      "Upper bound: 158\n"
     ]
    }
   ],
   "source": [
    "# Use beta distribution to give median and confidence intervals\n",
    "a = successes\n",
    "b = trials - a\n",
    "lower_bound = btdtri(a,b,0.025)\n",
    "median = btdtri(a,b,0.5)\n",
    "upper_bound = btdtri(a,b,0.975)\n",
    "\n",
    "print(\"p vals\")\n",
    "print(\"======\")\n",
    "print(\"Lower bound: %.4f\" % lower_bound)\n",
    "print(\"Median:      %.4f\" % median)\n",
    "print(\"Upper bound: %.4f\\n\" % upper_bound)\n",
    "\n",
    "print(\"Forecast successes (for #forecast trials = %d)\" % forecast_trials)\n",
    "print(\"==================\")\n",
    "print(\"Lower bound: %.0f\" % (lower_bound * forecast_trials))\n",
    "print(\"Median:      %.0f\" % (median * forecast_trials))\n",
    "print(\"Upper bound: %.0f\" % (upper_bound * forecast_trials))"
   ]
  },
  {
   "cell_type": "markdown",
   "metadata": {
    "colab_type": "text",
    "id": "PdvmVNPsNEXJ"
   },
   "source": [
    "Viewed another way, you can also represent the range of likely p values using a probability density function:"
   ]
  },
  {
   "cell_type": "code",
   "execution_count": 0,
   "metadata": {
    "colab": {
     "base_uri": "https://localhost:8080/",
     "height": 286
    },
    "colab_type": "code",
    "id": "7sznyE7Nmj0b",
    "outputId": "cbd7b7bb-62c4-4fe6-8eab-191420e462d7"
   },
   "outputs": [
    {
     "data": {
      "text/plain": [
       "[<matplotlib.lines.Line2D at 0x7fa933354f98>]"
      ]
     },
     "execution_count": 71,
     "metadata": {
      "tags": []
     },
     "output_type": "execute_result"
    },
    {
     "data": {
      "image/png": "[encoded data removed]",
      "text/plain": [
       "<Figure size 432x288 with 1 Axes>"
      ]
     },
     "metadata": {
      "tags": []
     },
     "output_type": "display_data"
    }
   ],
   "source": [
    "# Probability density function (pdf) - read x axis as the p value\n",
    "# y axis scales so that the area under the graph sums to 1\n",
    "x = np.arange(0.00, 1, 0.01)\n",
    "y = beta.pdf(x,a,b)\n",
    "plt.plot(x,y)"
   ]
  },
  {
   "cell_type": "markdown",
   "metadata": {
    "colab_type": "text",
    "id": "hbloy-WTNgTP"
   },
   "source": [
    "Or cumulatively as a cumulative density function:"
   ]
  },
  {
   "cell_type": "code",
   "execution_count": 0,
   "metadata": {
    "colab": {
     "base_uri": "https://localhost:8080/",
     "height": 286
    },
    "colab_type": "code",
    "id": "TRmFRaxOlwfV",
    "outputId": "32d981be-417b-49f5-cb27-304509bc2139"
   },
   "outputs": [
    {
     "data": {
      "text/plain": [
       "[<matplotlib.lines.Line2D at 0x7fa93335d470>]"
      ]
     },
     "execution_count": 72,
     "metadata": {
      "tags": []
     },
     "output_type": "execute_result"
    },
    {
     "data": {
      "image/png": "[encoded data removed]",
      "text/plain": [
       "<Figure size 432x288 with 1 Axes>"
      ]
     },
     "metadata": {
      "tags": []
     },
     "output_type": "display_data"
    }
   ],
   "source": [
    "# Cumulative density function with 95% confidence bounds\n",
    "# x axis is the p value, y axis is the cumulative area under the pdf\n",
    "y = beta.cdf(x,a,b)\n",
    "plt.plot(x,y)\n",
    "upper_bound = np.full((100,1),0.975)\n",
    "lower_bound = np.full((100,1),0.025)\n",
    "plt.plot(x,upper_bound,linestyle='dashed')\n",
    "plt.plot(x,lower_bound,linestyle='dashed')"
   ]
  }
 ],
 "metadata": {
  "colab": {
   "collapsed_sections": [],
   "name": "Confidence Intervals.ipynb",
   "provenance": []
  },
  "kernelspec": {
   "display_name": "Python 3",
   "language": "python",
   "name": "python3"
  },
  "language_info": {
   "codemirror_mode": {
    "name": "ipython",
    "version": 3
   },
   "file_extension": ".py",
   "mimetype": "text/x-python",
   "name": "python",
   "nbconvert_exporter": "python",
   "pygments_lexer": "ipython3",
   "version": "3.7.4"
  }
 },
 "nbformat": 4,
 "nbformat_minor": 1
}
