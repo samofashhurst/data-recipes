{
 "cells": [
  {
   "cell_type": "markdown",
   "metadata": {
    "colab_type": "text",
    "id": "eotE66KSkPJw"
   },
   "source": [
    "# Intro"
   ]
  },
  {
   "cell_type": "markdown",
   "metadata": {
    "colab_type": "text",
    "id": "3Kj8eeCtkPJx"
   },
   "source": [
    "This notebook compares sample reviews from Capterra with competitors' reviews from the perspective of someone at 'Accelo' (a piece of software chosen at random). The reviews in this study were made up of the following quantities:\n",
    "*   Accelo: https://www.capterra.co.nz/reviews/135686/accelo (129)\n",
    "*   GreenRope: https://www.capterra.co.nz/reviews/130598/greenrope (138)\n",
    "*   NiceJob: https://www.capterra.co.nz/reviews/142037/nicejob (60)\n",
    "\n",
    "The data from these reviews include the following data points:\n",
    " - title\n",
    " - date\n",
    " - overall stars (/5)\n",
    " - ease of use (/5)\n",
    " - customer support (/5)\n",
    " - features (/5)\n",
    " - value (/5)\n",
    " - likelihood to recommend (/10)\n",
    " - comments (text)\n",
    " - pros (text)\n",
    " - cons (text)\n",
    "\n",
    "In this example, the data was stored in .jl files."
   ]
  },
  {
   "cell_type": "markdown",
   "metadata": {
    "colab_type": "text",
    "heading_collapsed": true,
    "id": "AmVULkdVkPJy"
   },
   "source": [
    "# Load Data"
   ]
  },
  {
   "cell_type": "markdown",
   "metadata": {
    "colab_type": "text",
    "hidden": true,
    "id": "lU7DDjD-kPJz"
   },
   "source": [
    "Sample data was scraped off Capterra and saved in json lines (.jl) files.\n",
    "\n",
    "Examples of the final data are shown in the output below."
   ]
  },
  {
   "cell_type": "code",
   "execution_count": 131,
   "metadata": {
    "cellView": "both",
    "colab": {
     "base_uri": "https://localhost:8080/",
     "height": 1000,
     "resources": {
      "http://localhost:8080/nbextensions/google.colab/files.js": {
       "data": "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",
       "headers": [
        [
         "content-type",
         "application/javascript"
        ]
       ],
       "ok": true,
       "status": 200,
       "status_text": ""
      }
     }
    },
    "colab_type": "code",
    "hidden": true,
    "id": "sN2gJlGvkPJ2",
    "outputId": "1502b158-87e4-482c-8cc5-b858681a654e"
   },
   "outputs": [
    {
     "data": {
      "text/html": [
       "<div>\n",
       "<style scoped>\n",
       "    .dataframe tbody tr th:only-of-type {\n",
       "        vertical-align: middle;\n",
       "    }\n",
       "\n",
       "    .dataframe tbody tr th {\n",
       "        vertical-align: top;\n",
       "    }\n",
       "\n",
       "    .dataframe thead th {\n",
       "        text-align: right;\n",
       "    }\n",
       "</style>\n",
       "<table border=\"1\" class=\"dataframe\">\n",
       "  <thead>\n",
       "    <tr style=\"text-align: right;\">\n",
       "      <th></th>\n",
       "      <th>index</th>\n",
       "      <th>title</th>\n",
       "      <th>date</th>\n",
       "      <th>overall-stars</th>\n",
       "      <th>ease-of-use</th>\n",
       "      <th>customer-support</th>\n",
       "      <th>features</th>\n",
       "      <th>value</th>\n",
       "      <th>likelihood</th>\n",
       "      <th>comments</th>\n",
       "      <th>pros</th>\n",
       "      <th>cons</th>\n",
       "      <th>company</th>\n",
       "      <th>is_accelo</th>\n",
       "    </tr>\n",
       "  </thead>\n",
       "  <tbody>\n",
       "    <tr>\n",
       "      <td>73</td>\n",
       "      <td>11</td>\n",
       "      <td>The Best CRM!</td>\n",
       "      <td>2019-11-06</td>\n",
       "      <td>5</td>\n",
       "      <td>5</td>\n",
       "      <td>5.0</td>\n",
       "      <td>5.0</td>\n",
       "      <td>5.0</td>\n",
       "      <td>10.0</td>\n",
       "      <td>We've centralized several different services i...</td>\n",
       "      <td>Ease of use, completely customizable, thoughtf...</td>\n",
       "      <td>I wish I would have found it so much earlier t...</td>\n",
       "      <td>Accelo</td>\n",
       "      <td>Accelo</td>\n",
       "    </tr>\n",
       "    <tr>\n",
       "      <td>74</td>\n",
       "      <td>37</td>\n",
       "      <td>The Greenrope Team ROCKS!</td>\n",
       "      <td>2019-11-09</td>\n",
       "      <td>5</td>\n",
       "      <td>5</td>\n",
       "      <td>5.0</td>\n",
       "      <td>5.0</td>\n",
       "      <td>5.0</td>\n",
       "      <td>10.0</td>\n",
       "      <td>VERY POSITIVE. The best part about this is the...</td>\n",
       "      <td>A ton, the organization of elements, I also li...</td>\n",
       "      <td>Nothing, I am new to GR so alot of my problems...</td>\n",
       "      <td>GreenRope</td>\n",
       "      <td>Others (GreenRope, NiceJob)</td>\n",
       "    </tr>\n",
       "  </tbody>\n",
       "</table>\n",
       "</div>"
      ],
      "text/plain": [
       "    index                      title       date  overall-stars  ease-of-use  \\\n",
       "73     11              The Best CRM! 2019-11-06              5            5   \n",
       "74     37  The Greenrope Team ROCKS! 2019-11-09              5            5   \n",
       "\n",
       "    customer-support  features  value  likelihood  \\\n",
       "73               5.0       5.0    5.0        10.0   \n",
       "74               5.0       5.0    5.0        10.0   \n",
       "\n",
       "                                             comments  \\\n",
       "73  We've centralized several different services i...   \n",
       "74  VERY POSITIVE. The best part about this is the...   \n",
       "\n",
       "                                                 pros  \\\n",
       "73  Ease of use, completely customizable, thoughtf...   \n",
       "74  A ton, the organization of elements, I also li...   \n",
       "\n",
       "                                                 cons    company  \\\n",
       "73  I wish I would have found it so much earlier t...     Accelo   \n",
       "74  Nothing, I am new to GR so alot of my problems...  GreenRope   \n",
       "\n",
       "                      is_accelo  \n",
       "73                       Accelo  \n",
       "74  Others (GreenRope, NiceJob)  "
      ]
     },
     "execution_count": 131,
     "metadata": {},
     "output_type": "execute_result"
    }
   ],
   "source": [
    "#@title\n",
    "# To run this notebook, upload the data sets for each of the companies in the order below\n",
    "\n",
    "import json\n",
    "import pandas as pd\n",
    "import numpy as np\n",
    "import re\n",
    "from datetime import datetime, timedelta\n",
    "\n",
    "companies = [('Accelo', '/Users/sam/Documents/projects/Scrapy/reviews/accelo.jl'),\n",
    "             ('GreenRope', '/Users/sam/Documents/projects/Scrapy/reviews/greenrope.jl'),\n",
    "             ('NiceJob', '/Users/sam/Documents/projects/Scrapy/reviews/nicejob.jl')]\n",
    "\n",
    "IS_MAIN_COMPANY = 'is_accelo'\n",
    "MAIN_COMPANY_NAME = 'Accelo'\n",
    "OTHER_COMPANY_NAMES = 'Others (GreenRope, NiceJob)'\n",
    "\n",
    "# from google.colab import files # if using Google Colaboratory\n",
    "# import io\n",
    "# uploaded = files.upload()\n",
    "# data = pd.read_json(uploaded[file], lines=True, orient='columns', encoding='utf-8')\n",
    "# data = pd.read_csv(io.StringIO(uploaded[file].decode('utf-8'))) # for csv\n",
    "\n",
    "reviews = []\n",
    "\n",
    "# Open each file in turn\n",
    "for (name, file) in companies:\n",
    "  data = []\n",
    "  with open(file) as f:\n",
    "    for line in f:\n",
    "        data.append(json.loads(line))\n",
    "\n",
    "  # Load reviews into dataframe\n",
    "  for x in data:\n",
    "      review = {}\n",
    "      review['title'] = x['title'] if type(x['title'] == 'str') else None\n",
    "      review['date'] = datetime.strptime(x['date'], 'Reviewed on %d/%m/%Y')\n",
    "      review['overall-stars'] = int(re.findall('\\d+', x['overall-stars'])[0]) if x['overall-stars'] else None\n",
    "      review['ease-of-use'] = int(re.findall('\\d+', x['ease-of-use'])[0]) if x['ease-of-use'] else None\n",
    "      review['customer-support'] = int(re.findall('\\d+', x['customer-support'])[0]) if x['customer-support'] else None\n",
    "      review['features'] = int(re.findall('\\d+', x['features'])[0]) if x['features'] else None\n",
    "      review['value'] = int(re.findall('\\d+', x['value'])[0]) if x['value'] else None\n",
    "      review['likelihood'] = int(re.search('/capterra/images/reviews/gauge-(\\d+).*',x['likelihood']).group(1)) if x['likelihood'] else None\n",
    "      review['comments'] = x['comments'] if x['comments'] != np.NaN else ''\n",
    "      review['pros'] = x['pros'] if x['pros'] else ''\n",
    "      review['cons'] = x['cons'] if x['cons'] else ''\n",
    "      review['company'] = name\n",
    "\n",
    "      # Only include reviews that have a title\n",
    "      if review['title']:\n",
    "          reviews.append(review)\n",
    "\n",
    "# Tidy up dataframe\n",
    "df = pd.DataFrame(reviews)\n",
    "df['comments'] = df['comments'].fillna('')\n",
    "df = df.sort_values(by='date').reset_index()\n",
    "df[IS_MAIN_COMPANY] = np.where(df[\"company\"]==MAIN_COMPANY_NAME, MAIN_COMPANY_NAME, OTHER_COMPANY_NAMES)\n",
    "df.tail(2)"
   ]
  },
  {
   "cell_type": "markdown",
   "metadata": {
    "colab_type": "text",
    "id": "SBGBnULNv_ZP"
   },
   "source": [
    "# Data Set"
   ]
  },
  {
   "cell_type": "markdown",
   "metadata": {
    "colab_type": "text",
    "id": "P3ceZn3mwCSg"
   },
   "source": [
    "There were 25 reviews for Accelo; these were to be compared against a total of 50 reviews for the other two companies combined."
   ]
  },
  {
   "cell_type": "code",
   "execution_count": 132,
   "metadata": {
    "cellView": "form",
    "colab": {
     "base_uri": "https://localhost:8080/",
     "height": 153
    },
    "colab_type": "code",
    "id": "jEGhBoNKPPIo",
    "outputId": "b90544e4-a419-4035-9080-a15fb52b5224"
   },
   "outputs": [
    {
     "data": {
      "text/plain": [
       "Accelo       25\n",
       "NiceJob      25\n",
       "GreenRope    25\n",
       "Name: company, dtype: int64"
      ]
     },
     "execution_count": 132,
     "metadata": {},
     "output_type": "execute_result"
    }
   ],
   "source": [
    "#@title\n",
    "company_counts = df['company'].value_counts()\n",
    "company_counts"
   ]
  },
  {
   "cell_type": "markdown",
   "metadata": {
    "colab_type": "text",
    "heading_collapsed": true,
    "id": "x8LhMYF2kPJ5"
   },
   "source": [
    "# Descriptive Statistics"
   ]
  },
  {
   "cell_type": "markdown",
   "metadata": {
    "colab_type": "text",
    "id": "xw3jE86WghS9"
   },
   "source": [
    "## Overall Ratings"
   ]
  },
  {
   "cell_type": "markdown",
   "metadata": {
    "colab_type": "text",
    "hidden": true,
    "id": "EF90aeZ7kPJ6"
   },
   "source": [
    "The Accelo reviews had a median overall rating of 4/5 stars, which was less than GreenRope and NiceJob, which both had median reviews of 5/5.  "
   ]
  },
  {
   "cell_type": "code",
   "execution_count": 133,
   "metadata": {
    "cellView": "form",
    "colab": {
     "base_uri": "https://localhost:8080/",
     "height": 297
    },
    "colab_type": "code",
    "id": "bh7ilqK_fHFC",
    "outputId": "38f1bcd6-4003-4f3f-b471-b1d52de93ff6"
   },
   "outputs": [
    {
     "data": {
      "text/html": [
       "<div>\n",
       "<style scoped>\n",
       "    .dataframe tbody tr th:only-of-type {\n",
       "        vertical-align: middle;\n",
       "    }\n",
       "\n",
       "    .dataframe tbody tr th {\n",
       "        vertical-align: top;\n",
       "    }\n",
       "\n",
       "    .dataframe thead th {\n",
       "        text-align: right;\n",
       "    }\n",
       "</style>\n",
       "<table border=\"1\" class=\"dataframe\">\n",
       "  <thead>\n",
       "    <tr style=\"text-align: right;\">\n",
       "      <th></th>\n",
       "      <th>overall-stars</th>\n",
       "    </tr>\n",
       "    <tr>\n",
       "      <th>company</th>\n",
       "      <th></th>\n",
       "    </tr>\n",
       "  </thead>\n",
       "  <tbody>\n",
       "    <tr>\n",
       "      <td>Accelo</td>\n",
       "      <td>4</td>\n",
       "    </tr>\n",
       "    <tr>\n",
       "      <td>GreenRope</td>\n",
       "      <td>5</td>\n",
       "    </tr>\n",
       "    <tr>\n",
       "      <td>NiceJob</td>\n",
       "      <td>5</td>\n",
       "    </tr>\n",
       "  </tbody>\n",
       "</table>\n",
       "</div>"
      ],
      "text/plain": [
       "           overall-stars\n",
       "company                 \n",
       "Accelo                 4\n",
       "GreenRope              5\n",
       "NiceJob                5"
      ]
     },
     "execution_count": 133,
     "metadata": {},
     "output_type": "execute_result"
    }
   ],
   "source": [
    "#@title\n",
    "df.groupby(df.company)[['overall-stars']].median()"
   ]
  },
  {
   "cell_type": "markdown",
   "metadata": {
    "colab_type": "text",
    "id": "r4nDTMUOgDdO"
   },
   "source": [
    "Accelo also had a higher proportion of negative reviews than most of the companies in the study, as can be seen from the boxplots below (one company had so little variation that the 'box' in their boxplot shows as just a straight line): "
   ]
  },
  {
   "cell_type": "code",
   "execution_count": 134,
   "metadata": {
    "cellView": "form",
    "colab": {
     "base_uri": "https://localhost:8080/",
     "height": 797
    },
    "colab_type": "code",
    "hidden": true,
    "id": "jBsfV7Q0kPJ6",
    "outputId": "1b1ed1e0-24ba-484a-85dc-7f3d4480b2a9"
   },
   "outputs": [
    {
     "data": {
      "image/png": "[encoded data removed]",
      "text/plain": [
       "<Figure size 1296x720 with 1 Axes>"
      ]
     },
     "metadata": {},
     "output_type": "display_data"
    }
   ],
   "source": [
    "#@title\n",
    "import seaborn as sns\n",
    "\n",
    "# Reformat company name to include count of reviews\n",
    "long_company = []\n",
    "for i, row in df.iterrows():\n",
    "    name = row['company'] + \" (\" + str(company_counts[row['company']]) + \")\"\n",
    "    long_company.append(name)  \n",
    "df['long_company'] = long_company\n",
    "\n",
    "# Box plot of overall ratings frequencies, possible values 1 to 5\n",
    "sns.set(font_scale=1.8,rc={'figure.figsize':(18,10)})\n",
    "ax = sns.boxplot(x='long_company',\n",
    "                 y='overall-stars', \n",
    "                 data=df, \n",
    "                 width=0.5,\n",
    "                 palette=\"colorblind\")\n",
    "ax.set(xlabel='',ylabel='Overall Rating', title=\"Overall Ratings\")\n",
    "ax.set_xticklabels(ax.get_xticklabels(),rotation=15)\n",
    "ax = sns.swarmplot(x='long_company',\n",
    "                   y='overall-stars', \n",
    "                   data=df)"
   ]
  },
  {
   "cell_type": "markdown",
   "metadata": {
    "colab_type": "text",
    "id": "iZu-U8DJgTjL"
   },
   "source": [
    "The following boxplot compares the Accelo ratings to all of the competitors grouped together."
   ]
  },
  {
   "cell_type": "code",
   "execution_count": 135,
   "metadata": {
    "cellView": "form",
    "colab": {
     "base_uri": "https://localhost:8080/",
     "height": 393
    },
    "colab_type": "code",
    "id": "CwZYm4zlGI6F",
    "outputId": "a571f22d-d5cc-4f61-a21f-7d01b3d12686"
   },
   "outputs": [
    {
     "data": {
      "image/png": "[encoded data removed]",
      "text/plain": [
       "<Figure size 648x432 with 1 Axes>"
      ]
     },
     "metadata": {},
     "output_type": "display_data"
    }
   ],
   "source": [
    "#@title\n",
    "# Reformat company name to include count of reviews\n",
    "count_others = company_counts.sum() - company_counts[MAIN_COMPANY_NAME]\n",
    "long_format = []\n",
    "for i, row in df.iterrows():\n",
    "    if row[IS_MAIN_COMPANY] == MAIN_COMPANY_NAME:\n",
    "        name = MAIN_COMPANY_NAME + \" (\" + str(company_counts[row['company']]) + \")\"\n",
    "    else:\n",
    "        name = \"Others (\" + str(count_others) + \")\"\n",
    "    long_format.append(name)  \n",
    "df['long_format'] = long_format\n",
    "\n",
    "# Box plot of overall ratings frequencies, possible values 1 to 5\n",
    "sns.set(rc={'figure.figsize':(9,6)})\n",
    "bplot = sns.boxplot(x='long_format',\n",
    "                 y='overall-stars', \n",
    "                 data=df, \n",
    "                 width=0.5,\n",
    "                 palette=\"colorblind\").set(xlabel='',title=\"Overall Ratings\")\n",
    "ax = sns.swarmplot(x='long_format',\n",
    "                   y='overall-stars', \n",
    "                   data=df)"
   ]
  },
  {
   "cell_type": "markdown",
   "metadata": {
    "colab_type": "text",
    "hidden": true,
    "id": "qk71_NikkPJ9"
   },
   "source": [
    "Again, when comparing the breakdown of Accelo ratings against competitor rankings, it is clear that competitors overall had a much heavier concentration of 5/5 ratings, as well as no 2/5 and 3/5 ratings:"
   ]
  },
  {
   "cell_type": "code",
   "execution_count": 136,
   "metadata": {
    "cellView": "form",
    "colab": {
     "base_uri": "https://localhost:8080/",
     "height": 355
    },
    "colab_type": "code",
    "hidden": true,
    "id": "ztglsRZCkPJ9",
    "outputId": "8b235852-67b6-48d4-d0da-006972d93ed8"
   },
   "outputs": [
    {
     "data": {
      "text/plain": [
       "<matplotlib.axes._subplots.AxesSubplot at 0x1a33bc7e90>"
      ]
     },
     "execution_count": 136,
     "metadata": {},
     "output_type": "execute_result"
    },
    {
     "data": {
      "image/png": "[encoded data removed]",
      "text/plain": [
       "<Figure size 720x360 with 1 Axes>"
      ]
     },
     "metadata": {},
     "output_type": "display_data"
    }
   ],
   "source": [
    "#@title\n",
    "# Bar chart of overall main company ratings\n",
    "df[df[IS_MAIN_COMPANY]==MAIN_COMPANY_NAME]['overall-stars'].value_counts() \\\n",
    "    .sort_index().plot(kind='barh',figsize=(10,5),xlim=[0, 80], \\\n",
    "                       title=\"Overal Ratings / 5: \" + MAIN_COMPANY_NAME)"
   ]
  },
  {
   "cell_type": "code",
   "execution_count": 138,
   "metadata": {
    "cellView": "form",
    "colab": {
     "base_uri": "https://localhost:8080/",
     "height": 355
    },
    "colab_type": "code",
    "id": "kh2cYGIiOasy",
    "outputId": "954f06b0-85c0-43ac-ab4b-10a589cda5bd"
   },
   "outputs": [
    {
     "data": {
      "text/plain": [
       "<matplotlib.axes._subplots.AxesSubplot at 0x1a33e32d50>"
      ]
     },
     "execution_count": 138,
     "metadata": {},
     "output_type": "execute_result"
    },
    {
     "data": {
      "image/png": "[encoded data removed]",
      "text/plain": [
       "<Figure size 720x360 with 1 Axes>"
      ]
     },
     "metadata": {},
     "output_type": "display_data"
    }
   ],
   "source": [
    "#@title\n",
    "# Bar chart of overall non-main company ratings\n",
    "df[df[IS_MAIN_COMPANY]!=MAIN_COMPANY_NAME]['overall-stars'].value_counts() \\\n",
    "    .sort_index().plot(kind='barh',figsize=(10,5),color=\"red\",xlim=[0, 80], \\\n",
    "                       title=\"Overall Ratings / 5: Others\")"
   ]
  },
  {
   "cell_type": "markdown",
   "metadata": {
    "colab_type": "text",
    "id": "a645GGApmoTu"
   },
   "source": [
    "In fact, over 95% of reviews for NiceJob were 5/5, as well as 50%+ for GreenRope. In contrast, under 45% of Accelo reviews were 5/5."
   ]
  },
  {
   "cell_type": "code",
   "execution_count": 140,
   "metadata": {
    "cellView": "form",
    "colab": {
     "base_uri": "https://localhost:8080/",
     "height": 266
    },
    "colab_type": "code",
    "id": "4xQl9eh0hxQn",
    "outputId": "8377dd2f-2a80-4280-a3ca-3927c5e53a7e"
   },
   "outputs": [
    {
     "data": {
      "text/html": [
       "<div>\n",
       "<style scoped>\n",
       "    .dataframe tbody tr th:only-of-type {\n",
       "        vertical-align: middle;\n",
       "    }\n",
       "\n",
       "    .dataframe tbody tr th {\n",
       "        vertical-align: top;\n",
       "    }\n",
       "\n",
       "    .dataframe thead th {\n",
       "        text-align: right;\n",
       "    }\n",
       "</style>\n",
       "<table border=\"1\" class=\"dataframe\">\n",
       "  <thead>\n",
       "    <tr style=\"text-align: right;\">\n",
       "      <th></th>\n",
       "      <th>index</th>\n",
       "      <th>five_counts</th>\n",
       "      <th>all_counts</th>\n",
       "      <th>percent</th>\n",
       "    </tr>\n",
       "  </thead>\n",
       "  <tbody>\n",
       "    <tr>\n",
       "      <td>0</td>\n",
       "      <td>Accelo</td>\n",
       "      <td>11</td>\n",
       "      <td>25</td>\n",
       "      <td>44.0</td>\n",
       "    </tr>\n",
       "    <tr>\n",
       "      <td>1</td>\n",
       "      <td>GreenRope</td>\n",
       "      <td>13</td>\n",
       "      <td>25</td>\n",
       "      <td>52.0</td>\n",
       "    </tr>\n",
       "    <tr>\n",
       "      <td>2</td>\n",
       "      <td>NiceJob</td>\n",
       "      <td>24</td>\n",
       "      <td>25</td>\n",
       "      <td>96.0</td>\n",
       "    </tr>\n",
       "  </tbody>\n",
       "</table>\n",
       "</div>"
      ],
      "text/plain": [
       "       index  five_counts  all_counts  percent\n",
       "0     Accelo           11          25     44.0\n",
       "1  GreenRope           13          25     52.0\n",
       "2    NiceJob           24          25     96.0"
      ]
     },
     "execution_count": 140,
     "metadata": {},
     "output_type": "execute_result"
    }
   ],
   "source": [
    "#@title\n",
    "five_counts = df[df['overall-stars']==5]['company'].value_counts()\n",
    "all_counts = df['company'].value_counts()\n",
    "fives_ratio_df = pd.DataFrame(dict(five_counts = five_counts.astype('Int64'), all_counts = all_counts)).reset_index()\n",
    "fives_ratio_df.fillna(0, inplace=True)\n",
    "fives_ratio_df['percent'] = round(fives_ratio_df['five_counts']/fives_ratio_df['all_counts'] * 100,1)\n",
    "fives_ratio_df"
   ]
  },
  {
   "cell_type": "markdown",
   "metadata": {
    "colab_type": "text",
    "id": "qixaQlvsgyhJ"
   },
   "source": [
    "## Metric Breakdowns: Accelo vs. Combined"
   ]
  },
  {
   "cell_type": "markdown",
   "metadata": {
    "colab_type": "text",
    "hidden": true,
    "id": "DFWKbCCDkPJ_"
   },
   "source": [
    "The chart below reports the means for the numeric data fields in the reviews: likelihood to recommend, overall rating, value, features, customer support, and ease of use.\n",
    "\n",
    "The score for likelihood to recommend has been halved from (/10) in order to align with the scale for the other metrics (/5)."
   ]
  },
  {
   "cell_type": "code",
   "execution_count": 142,
   "metadata": {
    "cellView": "form",
    "colab": {
     "base_uri": "https://localhost:8080/",
     "height": 508
    },
    "colab_type": "code",
    "hidden": true,
    "id": "vgjzl_WCkPKA",
    "outputId": "76baeab8-616c-495a-feb7-3b0aff1ec450"
   },
   "outputs": [
    {
     "data": {
      "text/plain": [
       "<matplotlib.axes._subplots.AxesSubplot at 0x1a340af250>"
      ]
     },
     "execution_count": 142,
     "metadata": {},
     "output_type": "execute_result"
    },
    {
     "data": {
      "image/png": "[encoded data removed]",
      "text/plain": [
       "<Figure size 1152x576 with 1 Axes>"
      ]
     },
     "metadata": {},
     "output_type": "display_data"
    }
   ],
   "source": [
    "#@title\n",
    "# Mean values (halve likelihood to match scale for other metrics)\n",
    "df['temp'] = df['likelihood'].replace(r'^\\s*$', np.nan, regex=True)\n",
    "df['adjusted-likelihood'] = df['temp']/2\n",
    "columns = ['ease-of-use','customer-support','features','value','overall-stars','adjusted-likelihood']\n",
    "ac_means = df[df[IS_MAIN_COMPANY]==MAIN_COMPANY_NAME][columns].mean()\n",
    "other_means = df[df[IS_MAIN_COMPANY]!=MAIN_COMPANY_NAME][columns].mean()\n",
    "\n",
    "combined_df = pd.DataFrame(list(map(list,zip(columns,ac_means.tolist(),other_means.tolist()))),columns=[\"metric\",MAIN_COMPANY_NAME,\"Other\"])\n",
    "combined_df.set_index('metric', inplace=True)\n",
    "combined_df.plot(kind='barh',figsize=(16,8),xlim=(0,5))"
   ]
  },
  {
   "cell_type": "markdown",
   "metadata": {
    "colab_type": "text",
    "id": "2O_aFwYuNso6"
   },
   "source": [
    "Accelo scored lower across all numeric fields. The biggest difference was for value, where the combined competitors' average score was 4.82 (/5) as opposed to Accelo's average score of 3.90:"
   ]
  },
  {
   "cell_type": "code",
   "execution_count": 144,
   "metadata": {
    "cellView": "form",
    "colab": {
     "base_uri": "https://localhost:8080/",
     "height": 136
    },
    "colab_type": "code",
    "id": "sdNX0UlZKnSi",
    "outputId": "b9dba6e0-670b-4bf8-d251-f7fcecb5fc8f"
   },
   "outputs": [
    {
     "name": "stdout",
     "output_type": "stream",
     "text": [
      "                          Accelo                      Others\n",
      "Adjusted likelihood:       4.17                        4.77\n",
      "Overall stars:             4.24                        4.74\n",
      "Value:                     3.90                        4.82\n",
      "Features:                  4.38                        4.64\n",
      "Customer support:          4.27                        4.85\n",
      "Ease of use:               3.96                        4.58\n"
     ]
    }
   ],
   "source": [
    "#@title\n",
    "print(\"                          \" + MAIN_COMPANY_NAME + \"                      Others\")\n",
    "print(\"Adjusted likelihood:       %.2f                        %.2f\" % (ac_means['adjusted-likelihood'], other_means['adjusted-likelihood']))\n",
    "print(\"Overall stars:             %.2f                        %.2f\" % (ac_means['overall-stars'], other_means['overall-stars']))\n",
    "print(\"Value:                     %.2f                        %.2f\" % (ac_means['value'], other_means['value']))\n",
    "print(\"Features:                  %.2f                        %.2f\" % (ac_means['features'], other_means['features']))\n",
    "print(\"Customer support:          %.2f                        %.2f\" % (ac_means['customer-support'], other_means['customer-support']))\n",
    "print(\"Ease of use:               %.2f                        %.2f\" % (ac_means['ease-of-use'], other_means['ease-of-use']))  "
   ]
  },
  {
   "cell_type": "markdown",
   "metadata": {
    "colab_type": "text",
    "id": "N2ePCvcPxXIs"
   },
   "source": [
    "## Metric Breakdowns: Accelo vs. GreenRope, NiceJob"
   ]
  },
  {
   "cell_type": "markdown",
   "metadata": {
    "colab_type": "text",
    "id": "a7EpG4ovxoaj"
   },
   "source": [
    "Drilling down into specific strengths/weaknesses of Accelo vs. competitors GreenRope and NiceJob, the charts below report the respective company means for value, features, customer support, and ease of use."
   ]
  },
  {
   "cell_type": "code",
   "execution_count": 152,
   "metadata": {
    "cellView": "form",
    "colab": {
     "base_uri": "https://localhost:8080/",
     "height": 581
    },
    "colab_type": "code",
    "id": "nfse68g205PJ",
    "outputId": "19e175a9-4172-44ab-cf94-e32b7fb29a76"
   },
   "outputs": [
    {
     "data": {
      "image/png": "[encoded data removed]",
      "text/plain": [
       "<Figure size 864x576 with 4 Axes>"
      ]
     },
     "metadata": {},
     "output_type": "display_data"
    }
   ],
   "source": [
    "#@title\n",
    "import matplotlib.pyplot as plt\n",
    "\n",
    "metrics_df = df.loc[df['company'].isin([i[0] for i in companies])] # (could constrain which companies)  \n",
    "\n",
    "gridsize = (2, 2)\n",
    "fig, ax = plt.subplots(nrows=2, ncols=2, figsize=(12, 8))\n",
    "sns.set(font_scale=1)\n",
    "ax1, ax2, ax3, ax4 = ax.flatten()\n",
    "my_colors = ['green', '#dd8351','#4c72b0']\n",
    "\n",
    "ax1.set_title('Value', fontsize=18)\n",
    "metrics_df.groupby(['company'])['value'].mean().plot(ax=ax1, kind='barh', color=my_colors)\n",
    "ax1.set_xlabel('')\n",
    "ax1.set_xticks(range(1,6))\n",
    "ax1.set_ylabel('')\n",
    "ax1.xaxis.grid(linestyle='-', linewidth=0.5)\n",
    "\n",
    "ax2.set_title('Features', fontsize=18)\n",
    "metrics_df.groupby(['company'])['features'].mean().plot(ax=ax2, kind='barh', color=my_colors)\n",
    "ax2.set_xlabel('')\n",
    "ax2.set_xticks(range(1,6))\n",
    "ax2.set_ylabel('')\n",
    "ax2.xaxis.grid(linestyle='-', linewidth=0.5)\n",
    "\n",
    "ax3.set_title('Customer Support', fontsize=18)\n",
    "metrics_df.groupby(['company'])['customer-support'].mean().plot(ax=ax3, kind='barh', color=my_colors)\n",
    "ax3.set_xlabel('')\n",
    "ax3.set_xticks(range(1,6))\n",
    "ax3.set_ylabel('')\n",
    "ax3.xaxis.grid(linestyle='-', linewidth=0.5)\n",
    "\n",
    "ax4.set_title('Ease Of Use', fontsize=18)\n",
    "metrics_df.groupby(['company'])['ease-of-use'].mean().plot(ax=ax4, kind='barh', color=my_colors)\n",
    "ax4.set_xlabel('')\n",
    "ax4.set_xticks(range(1,6))\n",
    "ax4.set_ylabel('')\n",
    "ax4.xaxis.grid(linestyle='-', linewidth=0.5)\n",
    "fig.tight_layout()"
   ]
  },
  {
   "cell_type": "markdown",
   "metadata": {
    "colab_type": "text",
    "heading_collapsed": true,
    "id": "tfdP2gIckPKC"
   },
   "source": [
    "# Rolling Means"
   ]
  },
  {
   "cell_type": "markdown",
   "metadata": {
    "colab_type": "text",
    "hidden": true,
    "id": "3A1vKRGJkPKD"
   },
   "source": [
    "This section shows how the means for likelihood to recommend have changed over time, using an expanding window (allowing a one-week buffer at the start of the graph).\n",
    "\n",
    "Likelihood scores have been adjusted from (/10) to (/5) in order to align with the other numeric fields."
   ]
  },
  {
   "cell_type": "code",
   "execution_count": 153,
   "metadata": {
    "cellView": "form",
    "colab": {
     "base_uri": "https://localhost:8080/",
     "height": 577
    },
    "colab_type": "code",
    "hidden": true,
    "id": "Q5wUURaHkPKE",
    "outputId": "8ec3dd11-c363-4e04-9c07-067527b4f18b"
   },
   "outputs": [
    {
     "data": {
      "image/png": "[encoded data removed]",
      "text/plain": [
       "<Figure size 2160x720 with 1 Axes>"
      ]
     },
     "metadata": {},
     "output_type": "display_data"
    }
   ],
   "source": [
    "#@title\n",
    "from datetime import datetime, timedelta, date\n",
    "import matplotlib.pyplot as plt\n",
    "import matplotlib.dates as mdates\n",
    "\n",
    "ac_rolling_means = df[df[IS_MAIN_COMPANY] == MAIN_COMPANY_NAME].copy()\n",
    "other_rolling_means = df[df[IS_MAIN_COMPANY] != MAIN_COMPANY_NAME].copy()\n",
    "\n",
    "ac_rolling_means['adjusted-likelihood'] = ac_rolling_means['likelihood'] / 2\n",
    "ac_rolling_means['adjusted-likelihood-rolling-mean'] = ac_rolling_means['adjusted-likelihood'].expanding().mean()\n",
    "\n",
    "other_rolling_means['adjusted-likelihood'] = other_rolling_means['likelihood'] / 2\n",
    "other_rolling_means['adjusted-likelihood-rolling-mean'] = other_rolling_means['adjusted-likelihood'].expanding().mean()\n",
    "\n",
    "plt.figure(figsize=(30,10))\n",
    "plt.plot('date','adjusted-likelihood-rolling-mean',data=ac_rolling_means[datetime.strptime(\"2018-01-01\",\"%Y-%m-%d\") <= ac_rolling_means['date']],label=\"Accelo\")\n",
    "plt.plot('date','adjusted-likelihood-rolling-mean',data=other_rolling_means[datetime.strptime(\"2018-01-01\",\"%Y-%m-%d\") <= other_rolling_means['date']],label=\"Others\")\n",
    "plt.legend(loc='best')\n",
    "\n",
    "ax = plt.gca()\n",
    "ax.xaxis.set_major_locator(mdates.DayLocator(interval=28))\n",
    "ax.xaxis.set_major_formatter(mdates.DateFormatter('%d-%m-%Y'))\n",
    "plt.gcf().autofmt_xdate() # Rotation\n",
    "plt.show()"
   ]
  },
  {
   "cell_type": "markdown",
   "metadata": {
    "colab_type": "text",
    "hidden": true,
    "id": "XSnwY2jUkPKH"
   },
   "source": [
    "As can be seen above, both Accelo and GreenRope/NiceJob review ratings have remained largely steady. On average, Accelo scores consistently lower than the competitors. "
   ]
  },
  {
   "cell_type": "markdown",
   "metadata": {
    "colab_type": "text",
    "heading_collapsed": true,
    "id": "B4PmX95nkPKI"
   },
   "source": [
    "# Review Frequency By Week"
   ]
  },
  {
   "cell_type": "markdown",
   "metadata": {
    "colab_type": "text",
    "hidden": true,
    "id": "-kTRgVX3kPKI"
   },
   "source": [
    "Note the large spike in Accelo reviews around the end of Oct 2016:"
   ]
  },
  {
   "cell_type": "code",
   "execution_count": 196,
   "metadata": {
    "cellView": "form",
    "colab": {
     "base_uri": "https://localhost:8080/",
     "height": 577
    },
    "colab_type": "code",
    "hidden": true,
    "id": "Kl_b_GttkPKJ",
    "outputId": "f2f2364c-c01b-4c03-ef4d-90369f64c9cf"
   },
   "outputs": [
    {
     "data": {
      "image/png": "[encoded data removed]",
      "text/plain": [
       "<Figure size 1440x720 with 1 Axes>"
      ]
     },
     "metadata": {},
     "output_type": "display_data"
    }
   ],
   "source": [
    "#@title\n",
    "import matplotlib.dates as mdates\n",
    "\n",
    "# First create empty data frame with all the weeks from the period\n",
    "start = df.iloc[0]['date'] - timedelta(days=df.iloc[0]['date'].weekday())\n",
    "end = df.iloc[-1]['date'] - timedelta(days=df.iloc[-1]['date'].weekday()) + timedelta(days=6)\n",
    "dates = pd.date_range(start, end, freq='w')\n",
    "ac_big_df = pd.DataFrame()\n",
    "ac_big_df['dates'] = dates\n",
    "ac_big_df.set_index('dates', inplace=True)\n",
    "ac_big_df['count'] = 0\n",
    "\n",
    "other_big_df = ac_big_df.copy()\n",
    "\n",
    "# Loop through the data and populate the number of reviews for each week\n",
    "for index, row in df.iterrows():\n",
    "    end_of_week = row['date'] - timedelta(days=row['date'].weekday()) + timedelta(days=6)\n",
    "    if row[IS_MAIN_COMPANY] == MAIN_COMPANY_NAME:\n",
    "        ac_big_df.loc[end_of_week.strftime(\"%Y-%m-%d\")]['count'] += 1\n",
    "    else:\n",
    "        other_big_df.loc[end_of_week.strftime(\"%Y-%m-%d\")]['count'] += 1\n",
    "\n",
    "plt.figure(figsize=(20,10))\n",
    "plt.plot(ac_big_df.index,ac_big_df['count'],label=MAIN_COMPANY_NAME)\n",
    "plt.plot(other_big_df.index,other_big_df['count'],label=\"Others\")\n",
    "plt.legend(loc='best')\n",
    "\n",
    "plt.annotate('Something happened!', xy=(\"2016-11-07\", 7), \n",
    "             xytext=(\"2016-12-20\", 7.15), \n",
    "             arrowprops=dict(facecolor='black', shrink=0.05)\n",
    "            )\n",
    "\n",
    "ax = plt.gca()\n",
    "ax.xaxis.set_major_locator(mdates.DayLocator(interval=60))\n",
    "ax.xaxis.set_major_formatter(mdates.DateFormatter('%d-%m-%Y'))\n",
    "plt.gcf().autofmt_xdate() # Rotation\n",
    "plt.show()"
   ]
  },
  {
   "cell_type": "markdown",
   "metadata": {
    "colab_type": "text",
    "heading_collapsed": true,
    "id": "Bj4fZFPdkPKM"
   },
   "source": [
    "# Correlations"
   ]
  },
  {
   "cell_type": "markdown",
   "metadata": {
    "colab_type": "text",
    "hidden": true,
    "id": "zFK_8ohdkPKN"
   },
   "source": [
    "The fact that we have data points about several different aspects of reviewers' experiences with Accelo and competitors, as well as their overall likelihood to recommend, gives us a fascinating insight into what users value most.\n",
    "\n",
    "The chart below shows correlations between the numeric responses in the Accelo data: ease of use, customer support, features, value, overall rating, and likelihood to recommend. For example, there was a fairly strong positive correlation of 0.77 between customer support and ease of use - note that all of these correlations are positive.\n",
    "\n",
    "Of particular note are the correlations between likelihood to recommend and the most granular metrics of ease of use, customer support, features, and value. Which of those four granular metrics would have the strongest relationship with a customer's likelihood to recommend?"
   ]
  },
  {
   "cell_type": "code",
   "execution_count": 169,
   "metadata": {
    "cellView": "form",
    "colab": {
     "base_uri": "https://localhost:8080/",
     "height": 488
    },
    "colab_type": "code",
    "hidden": true,
    "id": "FDHk-CtckPKN",
    "outputId": "0b50802c-1320-49b8-bfde-4411d97d36a8",
    "scrolled": false
   },
   "outputs": [
    {
     "data": {
      "image/png": "[encoded data removed]",
      "text/plain": [
       "<Figure size 648x432 with 2 Axes>"
      ]
     },
     "metadata": {},
     "output_type": "display_data"
    }
   ],
   "source": [
    "#@title\n",
    "import seaborn as sns\n",
    "import numpy as np\n",
    "\n",
    "def do_correlations(corr_df, title):\n",
    "    corr = corr_df[['ease-of-use','customer-support','features','value','overall-stars','adjusted-likelihood']].corr()\n",
    "    mask = np.zeros_like(corr)\n",
    "    mask[np.triu_indices_from(mask)] = True\n",
    "    sns.set(rc={'figure.figsize':(9,6)})\n",
    "    sns.heatmap(corr, \n",
    "                xticklabels=corr.columns.values,\n",
    "                yticklabels=corr.columns.values,\n",
    "                annot=True,\n",
    "                fmt=\".2f\",\n",
    "                mask=mask).set(title=title)\n",
    "    \n",
    "ac_df = df[df[IS_MAIN_COMPANY]==MAIN_COMPANY_NAME]\n",
    "do_correlations(ac_df, \"Response Correlations: \" + MAIN_COMPANY_NAME)\n",
    "\n",
    "# 15/12/2019, currently a formatting error in Seaborn - https://github.com/mwaskom/seaborn/issues/1773"
   ]
  },
  {
   "cell_type": "markdown",
   "metadata": {
    "colab_type": "text",
    "hidden": true,
    "id": "bR3-pBwNkPKQ"
   },
   "source": [
    "In fact, the metric with the highest correlation to likelihood to recommend for Accelo reviews was <b>overall-stars</b>, at <b>0.60</b>. <b>Customer support</b> was the least significant predictor of likelihood to recommend, at <b>0.51</b>.\n",
    "\n",
    "These are the response correlations for the others:"
   ]
  },
  {
   "cell_type": "code",
   "execution_count": 170,
   "metadata": {
    "cellView": "form",
    "colab": {
     "base_uri": "https://localhost:8080/",
     "height": 488
    },
    "colab_type": "code",
    "id": "hX-Dx4kag7dG",
    "outputId": "015fad99-356c-430d-ea9a-802d46bfafcc"
   },
   "outputs": [
    {
     "data": {
      "image/png": "[encoded data removed]",
      "text/plain": [
       "<Figure size 648x432 with 2 Axes>"
      ]
     },
     "metadata": {},
     "output_type": "display_data"
    }
   ],
   "source": [
    "#@title\n",
    "other_df = df[df[IS_MAIN_COMPANY]!=MAIN_COMPANY_NAME]\n",
    "do_correlations(other_df, \"Response Correlations: Others\")"
   ]
  },
  {
   "cell_type": "markdown",
   "metadata": {
    "colab_type": "text",
    "id": "YH7h8_ETcbiQ"
   },
   "source": [
    "For competitors, <b>value</b> was the strongest predictor of likelihood to recommend at <b>0.68</b>.\n",
    "\n",
    "The weakest correlation with likelihood to recommend was also <b>customer support</b>, at <b>0.13</b>."
   ]
  },
  {
   "cell_type": "markdown",
   "metadata": {
    "colab_type": "text",
    "heading_collapsed": true,
    "id": "OzOrt9HYkPKQ"
   },
   "source": [
    "# Language in Responses"
   ]
  },
  {
   "cell_type": "markdown",
   "metadata": {
    "colab_type": "text",
    "hidden": true,
    "id": "X08D5L7akPKR"
   },
   "source": [
    "## Word Counts"
   ]
  },
  {
   "cell_type": "markdown",
   "metadata": {
    "colab_type": "text",
    "hidden": true,
    "id": "2OLVZVhPkPKR"
   },
   "source": [
    "For each of the free-text fields ('title', 'comments', 'pros', and 'cons'), what were the most common words in reviewer responses?\n",
    "\n",
    "Common 'stopwords' (i.e. \"the\", \"and\", \"to\" etc.) have been removed, as well as brand-specific references.\n",
    "\n",
    "First, here are the most common words for Accelo reviews:"
   ]
  },
  {
   "cell_type": "code",
   "execution_count": 172,
   "metadata": {
    "cellView": "form",
    "colab": {},
    "colab_type": "code",
    "id": "EAnY7QX86pQz"
   },
   "outputs": [],
   "source": [
    "#@title\n",
    "!pip install -q nltk"
   ]
  },
  {
   "cell_type": "code",
   "execution_count": 173,
   "metadata": {
    "cellView": "form",
    "colab": {
     "base_uri": "https://localhost:8080/",
     "height": 187
    },
    "colab_type": "code",
    "id": "aTiu77u-68Lb",
    "outputId": "4dea940a-66cd-4ddc-e98e-fbf19c82facc"
   },
   "outputs": [
    {
     "name": "stderr",
     "output_type": "stream",
     "text": [
      "[nltk_data] Downloading package stopwords to /Users/sam/nltk_data...\n",
      "[nltk_data]   Package stopwords is already up-to-date!\n",
      "[nltk_data] Downloading package punkt to /Users/sam/nltk_data...\n",
      "[nltk_data]   Package punkt is already up-to-date!\n",
      "[nltk_data] Downloading package wordnet to /Users/sam/nltk_data...\n",
      "[nltk_data]   Package wordnet is already up-to-date!\n",
      "[nltk_data] Downloading package averaged_perceptron_tagger to\n",
      "[nltk_data]     /Users/sam/nltk_data...\n",
      "[nltk_data]   Package averaged_perceptron_tagger is already up-to-\n",
      "[nltk_data]       date!\n"
     ]
    },
    {
     "data": {
      "text/plain": [
       "True"
      ]
     },
     "execution_count": 173,
     "metadata": {},
     "output_type": "execute_result"
    }
   ],
   "source": [
    "#@title\n",
    "import nltk\n",
    "\n",
    "nltk.download('stopwords')\n",
    "nltk.download('punkt')\n",
    "nltk.download('wordnet')\n",
    "nltk.download('averaged_perceptron_tagger')"
   ]
  },
  {
   "cell_type": "code",
   "execution_count": 174,
   "metadata": {
    "cellView": "form",
    "colab": {
     "base_uri": "https://localhost:8080/",
     "height": 548
    },
    "colab_type": "code",
    "hidden": true,
    "id": "Kms8_BLDkPKS",
    "outputId": "0118dc05-4be2-4b14-8919-3707fa231de3"
   },
   "outputs": [
    {
     "name": "stdout",
     "output_type": "stream",
     "text": [
      "Word Counts: Accelo\n",
      "===================\n"
     ]
    },
    {
     "data": {
      "text/html": [
       "<div>\n",
       "<style scoped>\n",
       "    .dataframe tbody tr th:only-of-type {\n",
       "        vertical-align: middle;\n",
       "    }\n",
       "\n",
       "    .dataframe tbody tr th {\n",
       "        vertical-align: top;\n",
       "    }\n",
       "\n",
       "    .dataframe thead th {\n",
       "        text-align: right;\n",
       "    }\n",
       "</style>\n",
       "<table border=\"1\" class=\"dataframe\">\n",
       "  <thead>\n",
       "    <tr style=\"text-align: right;\">\n",
       "      <th></th>\n",
       "      <th>title_words</th>\n",
       "      <th>title_counts</th>\n",
       "      <th>comments_words</th>\n",
       "      <th>comments_counts</th>\n",
       "      <th>pros_words</th>\n",
       "      <th>pros_counts</th>\n",
       "      <th>cons_words</th>\n",
       "      <th>cons_counts</th>\n",
       "    </tr>\n",
       "  </thead>\n",
       "  <tbody>\n",
       "    <tr>\n",
       "      <td>0</td>\n",
       "      <td>management</td>\n",
       "      <td>5</td>\n",
       "      <td>work</td>\n",
       "      <td>12</td>\n",
       "      <td>project</td>\n",
       "      <td>20</td>\n",
       "      <td>time</td>\n",
       "      <td>12</td>\n",
       "    </tr>\n",
       "    <tr>\n",
       "      <td>1</td>\n",
       "      <td>tool</td>\n",
       "      <td>4</td>\n",
       "      <td>business</td>\n",
       "      <td>9</td>\n",
       "      <td>u</td>\n",
       "      <td>10</td>\n",
       "      <td>need</td>\n",
       "      <td>9</td>\n",
       "    </tr>\n",
       "    <tr>\n",
       "      <td>2</td>\n",
       "      <td>lot</td>\n",
       "      <td>3</td>\n",
       "      <td>client</td>\n",
       "      <td>7</td>\n",
       "      <td>time</td>\n",
       "      <td>10</td>\n",
       "      <td>day</td>\n",
       "      <td>9</td>\n",
       "    </tr>\n",
       "    <tr>\n",
       "      <td>3</td>\n",
       "      <td>crm</td>\n",
       "      <td>3</td>\n",
       "      <td>use</td>\n",
       "      <td>6</td>\n",
       "      <td>use</td>\n",
       "      <td>8</td>\n",
       "      <td>company</td>\n",
       "      <td>8</td>\n",
       "    </tr>\n",
       "    <tr>\n",
       "      <td>4</td>\n",
       "      <td>excellent</td>\n",
       "      <td>3</td>\n",
       "      <td>project</td>\n",
       "      <td>6</td>\n",
       "      <td>track</td>\n",
       "      <td>7</td>\n",
       "      <td>use</td>\n",
       "      <td>7</td>\n",
       "    </tr>\n",
       "    <tr>\n",
       "      <td>5</td>\n",
       "      <td>agency</td>\n",
       "      <td>3</td>\n",
       "      <td>team</td>\n",
       "      <td>5</td>\n",
       "      <td>business</td>\n",
       "      <td>7</td>\n",
       "      <td>work</td>\n",
       "      <td>6</td>\n",
       "    </tr>\n",
       "    <tr>\n",
       "      <td>6</td>\n",
       "      <td>business</td>\n",
       "      <td>3</td>\n",
       "      <td>platform</td>\n",
       "      <td>5</td>\n",
       "      <td>client</td>\n",
       "      <td>6</td>\n",
       "      <td>view</td>\n",
       "      <td>6</td>\n",
       "    </tr>\n",
       "    <tr>\n",
       "      <td>7</td>\n",
       "      <td>project</td>\n",
       "      <td>3</td>\n",
       "      <td>system</td>\n",
       "      <td>5</td>\n",
       "      <td>task</td>\n",
       "      <td>6</td>\n",
       "      <td>like</td>\n",
       "      <td>6</td>\n",
       "    </tr>\n",
       "    <tr>\n",
       "      <td>8</td>\n",
       "      <td>process</td>\n",
       "      <td>2</td>\n",
       "      <td>help</td>\n",
       "      <td>5</td>\n",
       "      <td>love</td>\n",
       "      <td>5</td>\n",
       "      <td>take</td>\n",
       "      <td>6</td>\n",
       "    </tr>\n",
       "    <tr>\n",
       "      <td>9</td>\n",
       "      <td>easy</td>\n",
       "      <td>2</td>\n",
       "      <td>sale</td>\n",
       "      <td>5</td>\n",
       "      <td>also</td>\n",
       "      <td>5</td>\n",
       "      <td>1</td>\n",
       "      <td>6</td>\n",
       "    </tr>\n",
       "    <tr>\n",
       "      <td>10</td>\n",
       "      <td>best</td>\n",
       "      <td>2</td>\n",
       "      <td>support</td>\n",
       "      <td>4</td>\n",
       "      <td>team</td>\n",
       "      <td>5</td>\n",
       "      <td>make</td>\n",
       "      <td>6</td>\n",
       "    </tr>\n",
       "    <tr>\n",
       "      <td>11</td>\n",
       "      <td>marketing</td>\n",
       "      <td>2</td>\n",
       "      <td>need</td>\n",
       "      <td>4</td>\n",
       "      <td>work</td>\n",
       "      <td>5</td>\n",
       "      <td>system</td>\n",
       "      <td>5</td>\n",
       "    </tr>\n",
       "    <tr>\n",
       "      <td>12</td>\n",
       "      <td>helpful</td>\n",
       "      <td>2</td>\n",
       "      <td>time</td>\n",
       "      <td>4</td>\n",
       "      <td>help</td>\n",
       "      <td>5</td>\n",
       "      <td>still</td>\n",
       "      <td>5</td>\n",
       "    </tr>\n",
       "    <tr>\n",
       "      <td>13</td>\n",
       "      <td>still</td>\n",
       "      <td>2</td>\n",
       "      <td>much</td>\n",
       "      <td>4</td>\n",
       "      <td>manage</td>\n",
       "      <td>5</td>\n",
       "      <td>task</td>\n",
       "      <td>5</td>\n",
       "    </tr>\n",
       "    <tr>\n",
       "      <td>14</td>\n",
       "      <td>function</td>\n",
       "      <td>2</td>\n",
       "      <td>also</td>\n",
       "      <td>4</td>\n",
       "      <td>one</td>\n",
       "      <td>4</td>\n",
       "      <td>one</td>\n",
       "      <td>5</td>\n",
       "    </tr>\n",
       "  </tbody>\n",
       "</table>\n",
       "</div>"
      ],
      "text/plain": [
       "   title_words  title_counts comments_words  comments_counts pros_words  \\\n",
       "0   management             5           work               12    project   \n",
       "1         tool             4       business                9          u   \n",
       "2          lot             3         client                7       time   \n",
       "3          crm             3            use                6        use   \n",
       "4    excellent             3        project                6      track   \n",
       "5       agency             3           team                5   business   \n",
       "6     business             3       platform                5     client   \n",
       "7      project             3         system                5       task   \n",
       "8      process             2           help                5       love   \n",
       "9         easy             2           sale                5       also   \n",
       "10        best             2        support                4       team   \n",
       "11   marketing             2           need                4       work   \n",
       "12     helpful             2           time                4       help   \n",
       "13       still             2           much                4     manage   \n",
       "14    function             2           also                4        one   \n",
       "\n",
       "    pros_counts cons_words  cons_counts  \n",
       "0            20       time           12  \n",
       "1            10       need            9  \n",
       "2            10        day            9  \n",
       "3             8    company            8  \n",
       "4             7        use            7  \n",
       "5             7       work            6  \n",
       "6             6       view            6  \n",
       "7             6       like            6  \n",
       "8             5       take            6  \n",
       "9             5          1            6  \n",
       "10            5       make            6  \n",
       "11            5     system            5  \n",
       "12            5      still            5  \n",
       "13            5       task            5  \n",
       "14            4        one            5  "
      ]
     },
     "execution_count": 174,
     "metadata": {},
     "output_type": "execute_result"
    }
   ],
   "source": [
    "#@title\n",
    "from nltk import word_tokenize\n",
    "from nltk.corpus import stopwords\n",
    "from nltk.stem import WordNetLemmatizer\n",
    "from nltk.corpus import wordnet\n",
    "import string\n",
    "\n",
    "def get_words(series, extra_stop=[]):\n",
    "    # Remove any stop words and remaining punctuation\n",
    "    stop = set(stopwords.words('english') + \\\n",
    "           [\"accelo\",\"greenrope\",\"nicejob\"] + extra_stop)    \n",
    "    words = [i.translate(str.maketrans('', '', string.punctuation)) for i in ' '.join(series).lower().split() if i not in stop]\n",
    "    \n",
    "    # Reduce to lemmas, see https://www.datacamp.com/community/tutorials/stemming-lemmatization-python\n",
    "    wordnet_lemmatizer = WordNetLemmatizer()\n",
    "    return [wordnet_lemmatizer.lemmatize(i, get_wordnet_pos(i)) for i in words if i]\n",
    "\n",
    "def get_wordnet_pos(word):\n",
    "    \"\"\"Map POS tag to first character lemmatize() accepts\"\"\"\n",
    "\n",
    "    tag = nltk.pos_tag([word])[0][1][0].upper()\n",
    "    tag_dict = {\"J\": wordnet.ADJ,\n",
    "                \"N\": wordnet.NOUN,\n",
    "                \"V\": wordnet.VERB,\n",
    "                \"R\": wordnet.ADV}\n",
    "\n",
    "    return tag_dict.get(tag, wordnet.NOUN)\n",
    "\n",
    "def get_frequency_table(title_words, comments_words, pros_words, cons_words):\n",
    "    series = pd.Series(title_words).value_counts()[:15]\n",
    "    titles = series.rename_axis('title_words').to_frame('title_counts').reset_index()\n",
    "    \n",
    "    series = pd.Series(comments_words).value_counts()[:15]\n",
    "    comments = series.rename_axis('comments_words').to_frame('comments_counts').reset_index()\n",
    "    \n",
    "    series = pd.Series(pros_words).value_counts()[:15]\n",
    "    pros = series.rename_axis('pros_words').to_frame('pros_counts').reset_index()\n",
    "    \n",
    "    series = pd.Series(cons_words).value_counts()[:15]\n",
    "    cons = series.rename_axis('cons_words').to_frame('cons_counts').reset_index()\n",
    "\n",
    "    # Make a data frame with most common words for each free-text field\n",
    "    text_df = pd.DataFrame()\n",
    "    text_df = titles.join(comments, how='outer').join(pros, how='outer').join(cons, how='outer')\n",
    "    return text_df\n",
    "  \n",
    "def find_and_print_reviews(company, search_term, field):\n",
    "    # TODO - accept multiple fields etc.\n",
    "    t = df[(df[field].str.contains(search_term)) & (df['company']==company)]\n",
    "    for index, row in t.iterrows():\n",
    "        print(\"%s: %s\" % (row['company'],row[field]))\n",
    "  \n",
    "# For each of the free-text fields, get the most common words in reviewers' responses  \n",
    "ac_title_words = get_words(ac_df['title'])\n",
    "ac_comments_words = get_words(ac_df['comments'])\n",
    "ac_pros_words = get_words(ac_df['pros'])\n",
    "ac_cons_words = get_words(ac_df['cons'])\n",
    "    \n",
    "print(\"Word Counts: Accelo\")\n",
    "print(\"===================\")\n",
    "ac_text_df = get_frequency_table(ac_title_words, ac_comments_words, ac_pros_words, ac_cons_words)\n",
    "ac_text_df"
   ]
  },
  {
   "cell_type": "markdown",
   "metadata": {
    "colab_type": "text",
    "id": "oZUWLJCOdaTi"
   },
   "source": [
    "As shown above, many terms in Accelo reviews related to features.\n",
    "\n",
    "Following are the word counts for competitor reviews:"
   ]
  },
  {
   "cell_type": "code",
   "execution_count": 175,
   "metadata": {
    "cellView": "form",
    "colab": {
     "base_uri": "https://localhost:8080/",
     "height": 548
    },
    "colab_type": "code",
    "id": "MRqd-eP3V1Sz",
    "outputId": "923bf2a3-3e8e-4cb5-c18d-10bd20858772"
   },
   "outputs": [
    {
     "name": "stdout",
     "output_type": "stream",
     "text": [
      "Word Counts: Others\n",
      "===================\n"
     ]
    },
    {
     "data": {
      "text/html": [
       "<div>\n",
       "<style scoped>\n",
       "    .dataframe tbody tr th:only-of-type {\n",
       "        vertical-align: middle;\n",
       "    }\n",
       "\n",
       "    .dataframe tbody tr th {\n",
       "        vertical-align: top;\n",
       "    }\n",
       "\n",
       "    .dataframe thead th {\n",
       "        text-align: right;\n",
       "    }\n",
       "</style>\n",
       "<table border=\"1\" class=\"dataframe\">\n",
       "  <thead>\n",
       "    <tr style=\"text-align: right;\">\n",
       "      <th></th>\n",
       "      <th>title_words</th>\n",
       "      <th>title_counts</th>\n",
       "      <th>comments_words</th>\n",
       "      <th>comments_counts</th>\n",
       "      <th>pros_words</th>\n",
       "      <th>pros_counts</th>\n",
       "      <th>cons_words</th>\n",
       "      <th>cons_counts</th>\n",
       "    </tr>\n",
       "  </thead>\n",
       "  <tbody>\n",
       "    <tr>\n",
       "      <td>0</td>\n",
       "      <td>great</td>\n",
       "      <td>11</td>\n",
       "      <td>review</td>\n",
       "      <td>17</td>\n",
       "      <td>use</td>\n",
       "      <td>23</td>\n",
       "      <td>like</td>\n",
       "      <td>14</td>\n",
       "    </tr>\n",
       "    <tr>\n",
       "      <td>1</td>\n",
       "      <td>best</td>\n",
       "      <td>6</td>\n",
       "      <td>customer</td>\n",
       "      <td>15</td>\n",
       "      <td>easy</td>\n",
       "      <td>18</td>\n",
       "      <td>use</td>\n",
       "      <td>13</td>\n",
       "    </tr>\n",
       "    <tr>\n",
       "      <td>2</td>\n",
       "      <td>review</td>\n",
       "      <td>5</td>\n",
       "      <td>make</td>\n",
       "      <td>15</td>\n",
       "      <td>review</td>\n",
       "      <td>17</td>\n",
       "      <td>email</td>\n",
       "      <td>10</td>\n",
       "    </tr>\n",
       "    <tr>\n",
       "      <td>3</td>\n",
       "      <td>business</td>\n",
       "      <td>5</td>\n",
       "      <td>business</td>\n",
       "      <td>14</td>\n",
       "      <td>work</td>\n",
       "      <td>16</td>\n",
       "      <td>work</td>\n",
       "      <td>10</td>\n",
       "    </tr>\n",
       "    <tr>\n",
       "      <td>4</td>\n",
       "      <td>software</td>\n",
       "      <td>4</td>\n",
       "      <td>easy</td>\n",
       "      <td>12</td>\n",
       "      <td>make</td>\n",
       "      <td>15</td>\n",
       "      <td>easy</td>\n",
       "      <td>9</td>\n",
       "    </tr>\n",
       "    <tr>\n",
       "      <td>5</td>\n",
       "      <td>customer</td>\n",
       "      <td>4</td>\n",
       "      <td>use</td>\n",
       "      <td>12</td>\n",
       "      <td>customer</td>\n",
       "      <td>11</td>\n",
       "      <td>customer</td>\n",
       "      <td>9</td>\n",
       "    </tr>\n",
       "    <tr>\n",
       "      <td>6</td>\n",
       "      <td>marketing</td>\n",
       "      <td>4</td>\n",
       "      <td>get</td>\n",
       "      <td>10</td>\n",
       "      <td>ability</td>\n",
       "      <td>11</td>\n",
       "      <td>nothing</td>\n",
       "      <td>8</td>\n",
       "    </tr>\n",
       "    <tr>\n",
       "      <td>7</td>\n",
       "      <td>well</td>\n",
       "      <td>4</td>\n",
       "      <td>website</td>\n",
       "      <td>10</td>\n",
       "      <td>software</td>\n",
       "      <td>11</td>\n",
       "      <td>feature</td>\n",
       "      <td>7</td>\n",
       "    </tr>\n",
       "    <tr>\n",
       "      <td>8</td>\n",
       "      <td>crm</td>\n",
       "      <td>4</td>\n",
       "      <td>one</td>\n",
       "      <td>10</td>\n",
       "      <td>email</td>\n",
       "      <td>10</td>\n",
       "      <td>new</td>\n",
       "      <td>7</td>\n",
       "    </tr>\n",
       "    <tr>\n",
       "      <td>9</td>\n",
       "      <td>year</td>\n",
       "      <td>4</td>\n",
       "      <td>marketing</td>\n",
       "      <td>9</td>\n",
       "      <td>well</td>\n",
       "      <td>10</td>\n",
       "      <td>review</td>\n",
       "      <td>7</td>\n",
       "    </tr>\n",
       "    <tr>\n",
       "      <td>10</td>\n",
       "      <td>service</td>\n",
       "      <td>4</td>\n",
       "      <td>company</td>\n",
       "      <td>9</td>\n",
       "      <td>everything</td>\n",
       "      <td>10</td>\n",
       "      <td>make</td>\n",
       "      <td>7</td>\n",
       "    </tr>\n",
       "    <tr>\n",
       "      <td>11</td>\n",
       "      <td>platform</td>\n",
       "      <td>3</td>\n",
       "      <td>crm</td>\n",
       "      <td>9</td>\n",
       "      <td>get</td>\n",
       "      <td>9</td>\n",
       "      <td>would</td>\n",
       "      <td>7</td>\n",
       "    </tr>\n",
       "    <tr>\n",
       "      <td>12</td>\n",
       "      <td>money</td>\n",
       "      <td>3</td>\n",
       "      <td>also</td>\n",
       "      <td>8</td>\n",
       "      <td>like</td>\n",
       "      <td>9</td>\n",
       "      <td>get</td>\n",
       "      <td>7</td>\n",
       "    </tr>\n",
       "    <tr>\n",
       "      <td>13</td>\n",
       "      <td>company</td>\n",
       "      <td>3</td>\n",
       "      <td>work</td>\n",
       "      <td>8</td>\n",
       "      <td>service</td>\n",
       "      <td>8</td>\n",
       "      <td>wish</td>\n",
       "      <td>6</td>\n",
       "    </tr>\n",
       "    <tr>\n",
       "      <td>14</td>\n",
       "      <td>help</td>\n",
       "      <td>3</td>\n",
       "      <td>email</td>\n",
       "      <td>8</td>\n",
       "      <td>time</td>\n",
       "      <td>8</td>\n",
       "      <td>time</td>\n",
       "      <td>6</td>\n",
       "    </tr>\n",
       "  </tbody>\n",
       "</table>\n",
       "</div>"
      ],
      "text/plain": [
       "   title_words  title_counts comments_words  comments_counts  pros_words  \\\n",
       "0        great            11         review               17         use   \n",
       "1         best             6       customer               15        easy   \n",
       "2       review             5           make               15      review   \n",
       "3     business             5       business               14        work   \n",
       "4     software             4           easy               12        make   \n",
       "5     customer             4            use               12    customer   \n",
       "6    marketing             4            get               10     ability   \n",
       "7         well             4        website               10    software   \n",
       "8          crm             4            one               10       email   \n",
       "9         year             4      marketing                9        well   \n",
       "10     service             4        company                9  everything   \n",
       "11    platform             3            crm                9         get   \n",
       "12       money             3           also                8        like   \n",
       "13     company             3           work                8     service   \n",
       "14        help             3          email                8        time   \n",
       "\n",
       "    pros_counts cons_words  cons_counts  \n",
       "0            23       like           14  \n",
       "1            18        use           13  \n",
       "2            17      email           10  \n",
       "3            16       work           10  \n",
       "4            15       easy            9  \n",
       "5            11   customer            9  \n",
       "6            11    nothing            8  \n",
       "7            11    feature            7  \n",
       "8            10        new            7  \n",
       "9            10     review            7  \n",
       "10           10       make            7  \n",
       "11            9      would            7  \n",
       "12            9        get            7  \n",
       "13            8       wish            6  \n",
       "14            8       time            6  "
      ]
     },
     "execution_count": 175,
     "metadata": {},
     "output_type": "execute_result"
    }
   ],
   "source": [
    "#@title\n",
    "# For each of the free-text fields, get the most common words in reviewers' responses  \n",
    "other_title_words = get_words(other_df['title'], extra_stop=[\"insight\",\"gps\"])\n",
    "other_comments_words = get_words(other_df['comments'], extra_stop=[\"insight\",\"gps\"])\n",
    "other_pros_words = get_words(other_df['pros'], extra_stop=[\"insight\",\"gps\"])\n",
    "other_cons_words = get_words(other_df['cons'], extra_stop=[\"insight\",\"gps\"])\n",
    "\n",
    "print(\"Word Counts: Others\")\n",
    "print(\"===================\")\n",
    "other_text_df = get_frequency_table(other_title_words, other_comments_words, other_pros_words, other_cons_words)\n",
    "other_text_df"
   ]
  },
  {
   "cell_type": "markdown",
   "metadata": {
    "colab_type": "text",
    "hidden": true,
    "id": "huEQwjd5kPKW"
   },
   "source": [
    "Use the code block below to find specific reviews (you will need to load the data first, as per the \"Load Data\" section)."
   ]
  },
  {
   "cell_type": "code",
   "execution_count": 176,
   "metadata": {
    "cellView": "form",
    "colab": {},
    "colab_type": "code",
    "id": "C65oyX6ZhoZJ"
   },
   "outputs": [
    {
     "name": "stdout",
     "output_type": "stream",
     "text": [
      "Accelo: Accelo is one of the most systematic and organized application. I opted for the free trial and was very much pleased with what it offered. It a system or strategy that helped me managing client interactions, dealing with future and current customers, optimizing and systematizing relationships between them. It is a cloud-based CRM platform, which allows me to stay connected with the client information whenever and from wherever. All the requirements to satisfy a client could be done online through the AffinityLive application. It also integrates nicely with other applications such as Google related applications (Google Mail, Contacts, and Calendar). The user interface is easy to use and navigate. Glad I came across it. I am so relieved all the work is done easily with this.\n"
     ]
    }
   ],
   "source": [
    "#@title\n",
    "# To find specific reviews, enter company, fieldname, and search term below\n",
    "company = MAIN_COMPANY_NAME\n",
    "search_term = \"nice\"\n",
    "field = \"comments\" # title, comments, pros, or cons\n",
    "find_and_print_reviews(company, search_term, field)"
   ]
  },
  {
   "cell_type": "markdown",
   "metadata": {
    "colab_type": "text",
    "hidden": true,
    "id": "Lmh91C7VkPKX"
   },
   "source": [
    "## Bigrams (Word Pairs)"
   ]
  },
  {
   "cell_type": "markdown",
   "metadata": {
    "colab_type": "text",
    "hidden": true,
    "id": "iVuAVoR7kPKY"
   },
   "source": [
    "What were the most common pairs of words across the different text fields, firstly for Accelo reviews and secondly for competitor reviews?"
   ]
  },
  {
   "cell_type": "code",
   "execution_count": 177,
   "metadata": {
    "cellView": "form",
    "colab": {
     "base_uri": "https://localhost:8080/",
     "height": 357
    },
    "colab_type": "code",
    "hidden": true,
    "id": "fZfpCWiZkPKY",
    "outputId": "f2ec0261-4ed5-4821-b41e-7145d8d027d1"
   },
   "outputs": [
    {
     "name": "stdout",
     "output_type": "stream",
     "text": [
      "Word Pairs for Accelo\n",
      "=====================\n",
      "\n",
      "Titles                         Comments                       Pros                           Cons\n",
      "\n",
      "(project, management), 3       (help, manage), 2              (project, management), 3       (schedule, view), 5           \n",
      "(management, tool), 2          (business, grow), 2            (allows, u), 3                 (learn, curve), 3             \n",
      "(marketing, agency), 2         (ongoing, work), 2             (one, place), 2                (feel, like), 3               \n",
      "(easy, learn), 1               (application, google), 2       (crm, sale), 2                 (take, time), 2               \n",
      "(learn, helpful), 1            (pro, first), 1                (use, accelo), 2               (within, accelo), 2           \n",
      "(helpful, staff), 1            (first, reason), 1             (project, template), 2         (quickbooks, online), 2       \n",
      "(staff, run), 1                (reason, chose), 1             (extremely, helpful), 2        (much, else), 2               \n",
      "(run, away), 1                 (chose, affinitylive), 1       (track, time), 2               (hour, work), 2               \n",
      "(away, terrible), 1            (affinitylive, due), 1         (manage, retainer), 2          (3, hour), 2                  \n",
      "(terrible, quality), 1         (due, great), 1                (project, minute), 2           (1, hour), 2                  \n",
      "(quality, update), 1           (great, set), 1                (make, easy), 2                (curve, quite), 1             \n",
      "(update, bad), 1               (set, tutorial), 1             (lead, project), 1             (quite, high), 1              \n",
      "(bad, customer), 1             (tutorial, video), 1           (management, one), 1           (high, boarding), 1           \n",
      "(customer, service), 1         (video, demo), 1               (place, allows), 1             (boarding, new), 1            \n",
      "(service, false), 1            (demo, small), 1               (u, follow), 1                 (new, employee), 1            \n"
     ]
    }
   ],
   "source": [
    "#@title\n",
    "import nltk\n",
    "import operator\n",
    "\n",
    "# Compute frequency distribution for all the bigrams in the text\n",
    "# (Remember that stopwords + brand references have already been removed by this stage)\n",
    "def print_bigrams(title_words, comments_words, pros_words, cons_words):\n",
    "    bgs = nltk.bigrams(title_words)\n",
    "    fdist = nltk.FreqDist(bgs)\n",
    "    titles = sorted(fdist.items(), key=operator.itemgetter(1), reverse=True)[:15]\n",
    "    bgs = nltk.bigrams(comments_words)\n",
    "    fdist = nltk.FreqDist(bgs)\n",
    "    comments = sorted(fdist.items(), key=operator.itemgetter(1), reverse=True)[:15]\n",
    "    bgs = nltk.bigrams(pros_words)\n",
    "    fdist = nltk.FreqDist(bgs)\n",
    "    pros = sorted(fdist.items(), key=operator.itemgetter(1), reverse=True)[:15]\n",
    "    bgs = nltk.bigrams(cons_words)\n",
    "    fdist = nltk.FreqDist(bgs)\n",
    "    cons = sorted(fdist.items(), key=operator.itemgetter(1), reverse=True)[:15]\n",
    "\n",
    "    print(\"Titles                         Comments                       Pros                           Cons\\n\")\n",
    "    for i in range(0,15):\n",
    "        title = \"(\" + titles[i][0][0] + \", \" + titles[i][0][1] + \"), \" + str(titles[i][1])\n",
    "        comment = \"(\" + comments[i][0][0] + \", \" + comments[i][0][1] + \"), \" + str(comments[i][1])\n",
    "        pro = \"(\" + pros[i][0][0] + \", \" + pros[i][0][1] + \"), \" + str(pros[i][1])\n",
    "        con = \"(\" + cons[i][0][0] + \", \" + cons[i][0][1] + \"), \" + str(cons[i][1])\n",
    "        print(\"%-30s %-30s %-30s %-30s\" % (title,comment,pro,con))\n",
    "        \n",
    "print(\"Word Pairs for Accelo\")\n",
    "print(\"=====================\\n\")\n",
    "print_bigrams(ac_title_words, ac_comments_words, ac_pros_words, ac_cons_words)"
   ]
  },
  {
   "cell_type": "code",
   "execution_count": 178,
   "metadata": {
    "cellView": "form",
    "colab": {
     "base_uri": "https://localhost:8080/",
     "height": 357
    },
    "colab_type": "code",
    "id": "kXmeOKbJlnvW",
    "outputId": "2184a724-2a79-45aa-eb98-57e796acf36e"
   },
   "outputs": [
    {
     "name": "stdout",
     "output_type": "stream",
     "text": [
      "Word Pairs for Others\n",
      "=====================\n",
      "\n",
      "Titles                         Comments                       Pros                           Cons\n",
      "\n",
      "(customer, service), 4         (5, star), 5                   (easy, use), 7                 (feel, like), 4               \n",
      "(great, software), 3           (social, medium), 4            (ease, use), 4                 (leave, review), 3            \n",
      "(great, customer), 2           (customer, service), 4         (customer, service), 4         (feature, feel), 2            \n",
      "(small, business), 2           (nice, job), 4                 (one, place), 3                (learn, curve), 2             \n",
      "(business, great), 2           (ease, use), 3                 (make, sure), 3                (easy, use), 2                \n",
      "(help, u), 1                   (one, place), 3                (work, well), 3                (like, need), 2               \n",
      "(u, book), 1                   (email, marketing), 2          (email, marketing), 3          (basic, feature), 2           \n",
      "(book, revenue), 1             (crm, system), 2               (make, easy), 2                (come, across), 2             \n",
      "(revenue, year), 1             (feature, easy), 2             (easy, add), 2                 (customer, leave), 2          \n",
      "(year, last), 1                (highly, recommend), 2         (lot, feature), 2              (customer, service), 2        \n",
      "(last, 3), 1                   (old, site), 2                 (great, need), 2               (work, business), 2           \n",
      "(3, year), 1                   (look, good), 2                (customer, support), 2         (send, email), 2              \n",
      "(year, combine), 1             (marketing, platform), 2       (roi, easy), 2                 (email, template), 2          \n",
      "(combine, finally), 1          (review, management), 2        (email, read), 2               (format, email), 2            \n",
      "(finally, crm), 1              (small, company), 2            (company, work), 2             (would, like), 2              \n"
     ]
    }
   ],
   "source": [
    "#@title\n",
    "print(\"Word Pairs for Others\")\n",
    "print(\"=====================\\n\")\n",
    "print_bigrams(other_title_words, other_comments_words, other_pros_words, other_cons_words)"
   ]
  },
  {
   "cell_type": "markdown",
   "metadata": {
    "colab_type": "text",
    "hidden": true,
    "id": "3igMqFG7kPKi"
   },
   "source": [
    "## Bigrams with \"Not\""
   ]
  },
  {
   "cell_type": "markdown",
   "metadata": {
    "colab_type": "text",
    "hidden": true,
    "id": "2RdHkcP-kPKj"
   },
   "source": [
    "Some words that sound positive are actually negative if preceded by \"not\" (or vice versa). \n",
    "\n",
    "What were the most common word pairs (bigrams) for Accelo and competitiors where the the first word in the pair was \"not\"?"
   ]
  },
  {
   "cell_type": "code",
   "execution_count": 179,
   "metadata": {
    "cellView": "form",
    "colab": {
     "base_uri": "https://localhost:8080/",
     "height": 238
    },
    "colab_type": "code",
    "hidden": true,
    "id": "sVSM5GaSkPKk",
    "outputId": "d262fa27-360f-4504-be96-7f85926fb344"
   },
   "outputs": [
    {
     "name": "stdout",
     "output_type": "stream",
     "text": [
      "Word Pairs with \"Not\" for Accelo\n",
      "================================\n"
     ]
    },
    {
     "data": {
      "text/plain": [
       "[(('not', 'much'), 2),\n",
       " (('not', 'great'), 1),\n",
       " (('not', 'only'), 1),\n",
       " (('not', 'be'), 1),\n",
       " (('not', 'user'), 1),\n",
       " (('not', 'populate....'), 1),\n",
       " (('not', 'so'), 1),\n",
       " (('not', 'set'), 1),\n",
       " (('not', 'for'), 1),\n",
       " (('not', 'have'), 1)]"
      ]
     },
     "execution_count": 179,
     "metadata": {},
     "output_type": "execute_result"
    }
   ],
   "source": [
    "#@title\n",
    "# (Need to use unstopped words so that \"not\" is included)\n",
    "def get_not_bigrams(text_df):\n",
    "    unstopped_words = [i for i in ' '.join(text_df['title']+text_df['comments']+text_df['pros']+text_df['cons']).lower().split()]\n",
    "    bgs = nltk.bigrams(unstopped_words)\n",
    "    fdist = nltk.FreqDist(bgs)\n",
    "    return [((a,b),c) for ((a,b),c) in fdist.items() if a == 'not']\n",
    "    \n",
    "not_bigrams = get_not_bigrams(ac_df)\n",
    "print(\"Word Pairs with \\\"Not\\\" for Accelo\")\n",
    "print(\"================================\")\n",
    "sorted(not_bigrams, key=operator.itemgetter(1), reverse=True)[:10]"
   ]
  },
  {
   "cell_type": "code",
   "execution_count": 180,
   "metadata": {
    "cellView": "form",
    "colab": {
     "base_uri": "https://localhost:8080/",
     "height": 238
    },
    "colab_type": "code",
    "id": "ASXJjVCz0FUS",
    "outputId": "65bbbc39-5dca-4bb8-f6d8-676130a46e37"
   },
   "outputs": [
    {
     "name": "stdout",
     "output_type": "stream",
     "text": [
      "Word Pairs with \"Not\" for Others\n",
      "================================\n"
     ]
    },
    {
     "data": {
      "text/plain": [
       "[(('not', 'as'), 3),\n",
       " (('not', 'had'), 1),\n",
       " (('not', 'exactly'), 1),\n",
       " (('not', 'look'), 1),\n",
       " (('not', 'smart!!!'), 1),\n",
       " (('not', 'highlight'), 1),\n",
       " (('not', 'being'), 1),\n",
       " (('not', 'doing'), 1),\n",
       " (('not', 'send'), 1),\n",
       " (('not', 'able'), 1)]"
      ]
     },
     "execution_count": 180,
     "metadata": {},
     "output_type": "execute_result"
    }
   ],
   "source": [
    "#@title\n",
    "not_bigrams = get_not_bigrams(other_df)\n",
    "print(\"Word Pairs with \\\"Not\\\" for Others\")\n",
    "print(\"================================\")\n",
    "sorted(not_bigrams, key=operator.itemgetter(1), reverse=True)[:10]"
   ]
  },
  {
   "cell_type": "markdown",
   "metadata": {
    "colab_type": "text",
    "hidden": true,
    "id": "dwHQ5KiykPKn"
   },
   "source": [
    "## Trigrams"
   ]
  },
  {
   "cell_type": "markdown",
   "metadata": {
    "colab_type": "text",
    "hidden": true,
    "id": "o5452e3NkPKn"
   },
   "source": [
    "What were the most common sets of three words (trigrams) that occur together in Accelo/competitor reviews?"
   ]
  },
  {
   "cell_type": "code",
   "execution_count": 181,
   "metadata": {
    "cellView": "form",
    "colab": {
     "base_uri": "https://localhost:8080/",
     "height": 323
    },
    "colab_type": "code",
    "hidden": true,
    "id": "fVPPobThkPKo",
    "outputId": "6cf9b154-dbe1-4f01-c737-19deff53b17b"
   },
   "outputs": [
    {
     "name": "stdout",
     "output_type": "stream",
     "text": [
      "Word Trios for Accelo\n",
      "=====================\n"
     ]
    },
    {
     "data": {
      "text/plain": [
       "[(('project', 'management', 'tool'), 2),\n",
       " (('time', 'online', 'tool'), 2),\n",
       " (('online', 'tool', 'come'), 2),\n",
       " (('tool', 'come', 'box'), 2),\n",
       " (('come', 'box', 'ready'), 2),\n",
       " (('box', 'ready', 'run'), 2),\n",
       " (('ready', 'run', 'play'), 2),\n",
       " (('run', 'play', 'also'), 2),\n",
       " (('play', 'also', 'allows'), 2),\n",
       " (('also', 'allows', 'business'), 2),\n",
       " (('allows', 'business', 'customize'), 2),\n",
       " (('business', 'customize', 'workflow'), 2),\n",
       " (('customize', 'workflow', 'project'), 2),\n",
       " (('workflow', 'project', 'skeleton'), 2),\n",
       " (('project', 'skeleton', 'shape'), 2)]"
      ]
     },
     "execution_count": 181,
     "metadata": {},
     "output_type": "execute_result"
    }
   ],
   "source": [
    "#@title\n",
    "bgs = nltk.trigrams(ac_title_words + ac_comments_words + ac_pros_words + ac_cons_words)\n",
    "fdist = nltk.FreqDist(bgs)\n",
    "print(\"Word Trios for Accelo\")\n",
    "print(\"=====================\")\n",
    "sorted(fdist.items(), key=operator.itemgetter(1), reverse=True)[:15]"
   ]
  },
  {
   "cell_type": "code",
   "execution_count": 182,
   "metadata": {
    "cellView": "form",
    "colab": {
     "base_uri": "https://localhost:8080/",
     "height": 323
    },
    "colab_type": "code",
    "id": "kb5PhUdy0UQs",
    "outputId": "0ac649de-db72-42da-e100-a1d678fbf2a0"
   },
   "outputs": [
    {
     "name": "stdout",
     "output_type": "stream",
     "text": [
      "Word Trios for Others\n",
      "=====================\n"
     ]
    },
    {
     "data": {
      "text/plain": [
       "[(('last', '3', 'year'), 2),\n",
       " (('3', 'year', 'combine'), 2),\n",
       " (('great', 'customer', 'service'), 2),\n",
       " (('send', 'automate', 'email'), 2),\n",
       " (('excellent', 'response', 'time'), 2),\n",
       " (('feel', 'like', 'lot'), 2),\n",
       " (('get', 'job', 'do'), 2),\n",
       " (('everything', 'one', 'place'), 2),\n",
       " (('review', 'management', 'software'), 2),\n",
       " (('5', 'star', 'business'), 2),\n",
       " (('great', 'work', 'with'), 2),\n",
       " (('website', 'look', 'great'), 2),\n",
       " (('look', 'great', 'easy'), 2),\n",
       " (('software', 'easy', 'use'), 2),\n",
       " (('feature', 'feel', 'like'), 2)]"
      ]
     },
     "execution_count": 182,
     "metadata": {},
     "output_type": "execute_result"
    }
   ],
   "source": [
    "#@title\n",
    "bgs = nltk.trigrams(other_title_words + other_comments_words + other_pros_words + other_cons_words)\n",
    "fdist = nltk.FreqDist(bgs)\n",
    "print(\"Word Trios for Others\")\n",
    "print(\"=====================\")\n",
    "sorted(fdist.items(), key=operator.itemgetter(1), reverse=True)[:15]"
   ]
  },
  {
   "cell_type": "markdown",
   "metadata": {
    "colab_type": "text",
    "hidden": true,
    "id": "e5oI0nR_kPKr"
   },
   "source": [
    "## Sentiment Analysis"
   ]
  },
  {
   "cell_type": "markdown",
   "metadata": {
    "colab_type": "text",
    "hidden": true,
    "id": "WGpc9XeRkPKr"
   },
   "source": [
    "Using sentiment analysis, it is possible to rate each review according to how positive/negative the content of its text is - e.g. this technique is also often applied to analysing the tone of social media comments.\n",
    "\n",
    "The package used for this analysis is Vader, described on http://t-redactyl.io/blog/2017/04/using-vader-to-handle-sentiment-analysis-with-social-media-text.html."
   ]
  },
  {
   "cell_type": "code",
   "execution_count": 183,
   "metadata": {
    "cellView": "form",
    "colab": {
     "base_uri": "https://localhost:8080/",
     "height": 102
    },
    "colab_type": "code",
    "id": "IOK0xI_2iVYo",
    "outputId": "be9c0289-0949-4395-f05d-8d077b057a70"
   },
   "outputs": [
    {
     "name": "stdout",
     "output_type": "stream",
     "text": [
      "Requirement already satisfied: vaderSentiment in /Users/sam/opt/anaconda3/lib/python3.7/site-packages (3.2.1)\r\n"
     ]
    }
   ],
   "source": [
    "#@title\n",
    "!pip install vaderSentiment"
   ]
  },
  {
   "cell_type": "code",
   "execution_count": 184,
   "metadata": {
    "cellView": "form",
    "colab": {},
    "colab_type": "code",
    "id": "Mnh2A_H-iFa0"
   },
   "outputs": [],
   "source": [
    "#@title\n",
    "from vaderSentiment.vaderSentiment import SentimentIntensityAnalyzer\n",
    "from nltk import tokenize\n",
    "\n",
    "analyser = SentimentIntensityAnalyzer()\n",
    "\n",
    "# Add empty column\n",
    "df['vader_compound'] = 0.0\n",
    "\n",
    "# Loops through each row\n",
    "for index, row in df.iterrows():       \n",
    "    compounds = []\n",
    "    \n",
    "    # Break up each text field in the row into sentences and take sentiment score for each\n",
    "    for (field, weight) in [('title',3),('comments',1),('pros',1),('cons',2)]:\n",
    "        lines_list = tokenize.sent_tokenize(df.iloc[index][field])\n",
    "        for sentence in lines_list:\n",
    "            score = analyser.polarity_scores(sentence)['compound']\n",
    "            \n",
    "            # Count 'title' and 'cons' scores multiple times in order to increase weight for these fields\n",
    "            for i in range(1, weight):\n",
    "                compounds.append(score)    \n",
    "            \n",
    "    # Take average sentiment score for row        \n",
    "    df['vader_compound'].at[index] = sum(compounds)/len(compounds)"
   ]
  },
  {
   "cell_type": "markdown",
   "metadata": {
    "colab_type": "text",
    "id": "TbTz_c4mo0QX"
   },
   "source": [
    "In this case we give extra weight to the sentiment scores for 'title' (3x) and 'cons' (2x) in each review, as these appear to be most indicative fields of the overall tone."
   ]
  },
  {
   "cell_type": "markdown",
   "metadata": {
    "colab_type": "text",
    "id": "d2Fg9OnMX_Ms"
   },
   "source": [
    "## Positive Reviews"
   ]
  },
  {
   "cell_type": "markdown",
   "metadata": {
    "colab_type": "text",
    "id": "dYu4dYW1k7GG"
   },
   "source": [
    "Having calculated the sentiment scores, what were some of the most positive reviews for Accelo?"
   ]
  },
  {
   "cell_type": "code",
   "execution_count": 185,
   "metadata": {
    "cellView": "form",
    "colab": {
     "base_uri": "https://localhost:8080/",
     "height": 751
    },
    "colab_type": "code",
    "id": "ybBpYIM4jQjE",
    "outputId": "0cad56d0-d94b-4b57-aa60-1324f4ad952f"
   },
   "outputs": [
    {
     "name": "stdout",
     "output_type": "stream",
     "text": [
      "Title: Ongoing clever innovation keeps this product fresh\n",
      "Sentiment Analysis Score: 0.7744333333333332\n",
      "Company: Accelo\n",
      "Comments: Accelo solves the problem of double handling data when progressing clients from sales to work in progress and maintaining ongoing work for that client. This saves time and cost... In the past we had to re-enter the contact details from a CRM, after the lead became a client, into a Project Management system, for service delivery, then into a Support tool, to manage ongoing work. A single license with Accelo was cheaper, than other software systems combined.\n",
      "Pros: I like that Accelo combines almost all facets of my business in one application. Not only do I get CRM & sales capability, I also get job/task tracking, project management, support ticketing, and billing! There is integration with key third party apps so I rarely have to go anywhere else to run the business.\n",
      "Cons: It is hard to dislike anything given all the recent improvements, but next I'd like to see a payroll feature, so either I can export timesheet data to a third party application or run a payroll process within Accelo.\n",
      "Overall Stars: 5\n",
      "\n",
      "Title: Easy to learn with helpful staff\n",
      "Sentiment Analysis Score: 0.6908\n",
      "Company: Accelo\n",
      "Comments: Pros \n",
      "Pros: \n",
      "Cons: \n",
      "Overall Stars: 4\n",
      "\n",
      "Title: Excellent tool for a Marketing Agency looking to get hold of productivity\n",
      "Sentiment Analysis Score: 0.65135\n",
      "Company: Accelo\n",
      "Comments: We are solving many problems with Accelo, from project scheduling and timesheeting through to sales forecasting and email tracking.\n",
      "Pros: Before we used Accelo, time spent on work was gathered via a rather ugly Outlook task list workaround, which was neither practical nor scaleable. Accelo's project and retainer scheduling functionality allows us to book-in large projects much more easily than before, and also ensures that time is tracked more accurately, allowing senior management to find true profitability of projects and marketing services.\n",
      "Cons: Of course there are a few elements of Accelo that could be improved, but one of the benefits of working with Accelo is that they listen to their clients. I am constantly in touch with Geoff and the team to offer ideas and help with beta testing, which makes me feel like a valued customer.\n",
      "Overall Stars: 5\n",
      "\n",
      "Title: The Best CRM!\n",
      "Sentiment Analysis Score: 0.5988666666666667\n",
      "Company: Accelo\n",
      "Comments: We've centralized several different services into a single place with Accelo streamlining our work and eliminating loss of data.\n",
      "Pros: Ease of use, completely customizable, thoughtful and useful features!\n",
      "Cons: I wish I would have found it so much earlier than I did!\n",
      "Overall Stars: 5\n",
      "\n",
      "Title: An excellent all-rounder\n",
      "Sentiment Analysis Score: 0.5719\n",
      "Company: Accelo\n",
      "Comments: In our business we can have a long sales cycle, we also have consulting work, training, software we resell, support level agreements, adhoc support tickets, and we have larger project work as well. It is a lot to manage with a small team.\n",
      "Pros: \n",
      "Cons: \n",
      "Overall Stars: 5\n",
      "\n"
     ]
    }
   ],
   "source": [
    "#@title\n",
    "def print_sentiments(df, i):\n",
    "    print(\"Title: \" + df.iloc[i]['title'])\n",
    "    print(\"Sentiment Analysis Score: \" + str(df.iloc[i]['vader_compound']))\n",
    "    print(\"Company: \" + df.iloc[i]['company'])\n",
    "    print(\"Comments: \" + df.iloc[i]['comments'])\n",
    "    print(\"Pros: \" + df.iloc[i]['pros'])\n",
    "    print(\"Cons: \" + df.iloc[i]['cons'])\n",
    "    print(\"Overall Stars: \" + str(df.iloc[i]['overall-stars']))\n",
    "    print('')\n",
    "\n",
    "vader_pos_df = df[df[IS_MAIN_COMPANY]==MAIN_COMPANY_NAME].sort_values(by='vader_compound', ascending=False)[:5]\n",
    "for i, row in vader_pos_df.iterrows():\n",
    "    print_sentiments(df, i)"
   ]
  },
  {
   "cell_type": "markdown",
   "metadata": {
    "colab_type": "text",
    "id": "apCSd4dtmon7"
   },
   "source": [
    "And for the competitors:"
   ]
  },
  {
   "cell_type": "code",
   "execution_count": 186,
   "metadata": {
    "cellView": "form",
    "colab": {
     "base_uri": "https://localhost:8080/",
     "height": 697
    },
    "colab_type": "code",
    "id": "bb5e-mfu14xX",
    "outputId": "4e3a5700-985d-4a7c-f1cf-8849302fa596"
   },
   "outputs": [
    {
     "name": "stdout",
     "output_type": "stream",
     "text": [
      "Title: Great software and great customer service\n",
      "Sentiment Analysis Score: 0.63215\n",
      "Company: NiceJob\n",
      "Comments: It is very cool to see a company that cares about it customers like nicejob does\n",
      "Pros: How easy it is to use. The results are of the charts with the convert website and the ability of nicejob to get reviews.\n",
      "Cons: nothing i don't like so far. It is a great product\n",
      "Overall Stars: 5\n",
      "\n",
      "Title: This is a Great marketing platform\n",
      "Sentiment Analysis Score: 0.6249\n",
      "Company: NiceJob\n",
      "Comments: My old website cost nearly $ and then a monthly fee to have SEO and it did not look as good as my NiceJob site and barely produced any inbound customer requests. I've had the  NiceJob marketing platform for about 2 years now and from day one it blew the doors off my old site as far as customer leads, it looks 10 times more professional and it also makes staying on top of social media almost effortless. To say that I am Super Impressed would be an understatement. I highly recommend the NiceJob marketing platform.\n",
      "Pros: \n",
      "Cons: \n",
      "Overall Stars: 5\n",
      "\n",
      "Title: Feel like there is a LOT i don't know still and bit overwhelmed but pretty happy with what I do know\n",
      "Sentiment Analysis Score: 0.6002000000000001\n",
      "Company: GreenRope\n",
      "Comments: Our team is on the same page and we have one place to store all the correct data. This has been a lifesaver time and time again! Also like the templates for emails so one person can create them and others can follow suite. \n",
      "Pros: Keeps our company on the same page and is very good for keeping detailed info about our contacts. Like the app but I feel like I ran into some confusion with it and couldn't find all the info I needed for the particular group of contacts I was working with. \n",
      "Cons: I see quite a few areas of improvement. I like that we can use our email to send emails out to contacts but I don't like that it doesn't get captured in our Gmail account sent folder. Would like to be able to copy and paste someone's full address including zipcode from the list view Contact section without having to click to go into their account. I still am not able to edit Vendor Companies info although the Super User supposedly gave me permission to do so. It seems like there are quite a few quirks to work out still. \n",
      "Overall Stars: 4\n",
      "\n",
      "Title: Great SEO and company display! \n",
      "Sentiment Analysis Score: 0.586\n",
      "Company: NiceJob\n",
      "Comments: We have used Hatch for the last few years to show off our cleaning company to potential customers. We have had nothing but success in attracting a steady flow of new business. Also sharing our latest projects on social media is easy with Hatchs features. We really do feel we are getting full value for our investment with Hatch. \n",
      "Pros: Display and easy to add new projects. We are getting great SEO and ranking is great. \n",
      "Cons: Accessing videos and uploading could be better. \n",
      "Overall Stars: 4\n",
      "\n",
      "Title: Creating emails is easy, customer service is excellent, backend is intuitive & clear\n",
      "Sentiment Analysis Score: 0.543475\n",
      "Company: GreenRope\n",
      "Comments: I use GreenRope and Ontraport. GreenRope is fast and seamless, if I don't know something either the documentation or Customer Service gets me the answer. In OntraPort, it is not as intuitive so I'm always wasting time consulting their piss-poor documentation or going round and round with their customer service who think that I'm just not doing things the way OntraPort designed it versus what OntrPort is theoretically capable of doing. Can you guys buy out OntraPort and fix it or kill it? I know this is asking a lot...\n",
      "Pros: The ability to help customers restart drip campaigns; the ability to easily clean up the database; the flexibility of the API; customer service doesn't have to be explained a problem three times - they come back with the helpful response the first time; the ability to easily set up a new list with forms and autoresponders is the best; the ability to check the stats on sent emails and signup history; and the ability to help people stuck in the sign-up procedure. We deal with a lot of 55 - 75 year old people and the ability to go in and help them with their newsletter subscriptions as if I was them is superb. Other software I've used act like the end user is 23 and grew up on computers, which only adds to the customer service burden.\n",
      "Cons: We deal a lot with membership sites and wish GreenRope had a membership plugin to WordPress. It may have a work-around, I may just have to get with customer service to figure it out.\n",
      "Overall Stars: 5\n",
      "\n"
     ]
    }
   ],
   "source": [
    "#@title\n",
    "vader_pos_df = df[df[IS_MAIN_COMPANY]!=MAIN_COMPANY_NAME].sort_values(by='vader_compound', ascending=False)[:5]\n",
    "for i, row in vader_pos_df.iterrows():\n",
    "    print_sentiments(df, i)"
   ]
  },
  {
   "cell_type": "markdown",
   "metadata": {
    "colab_type": "text",
    "id": "GsQ4rlOSYK97"
   },
   "source": [
    "## Negative Reviews"
   ]
  },
  {
   "cell_type": "markdown",
   "metadata": {
    "colab_type": "text",
    "hidden": true,
    "id": "FMIzK1qukPKv"
   },
   "source": [
    "On the other hand, what were some of the most negative reviews for Accelo?"
   ]
  },
  {
   "cell_type": "code",
   "execution_count": 187,
   "metadata": {
    "cellView": "form",
    "colab": {
     "base_uri": "https://localhost:8080/",
     "height": 717
    },
    "colab_type": "code",
    "id": "pm_4pMF-jWxL",
    "outputId": "f3216837-f8fe-4c58-eeb3-ddfb7239d9f5"
   },
   "outputs": [
    {
     "name": "stdout",
     "output_type": "stream",
     "text": [
      "Title: Customized Agency CRM with lots of ongoing Changes but might not be best fit\n",
      "Sentiment Analysis Score: -0.5352666666666667\n",
      "Company: Accelo\n",
      "Comments: ordering and keeping track of our client base - with specific notes and stream or history of conversations and emails with each of them attached.\n",
      "Pros: We transitioned away from an Excel Spreadsheet to Accelo and the transition was amazing. Just forcing us to cleanup our accounts in order to transition saved us thousands in internal errors, missed billing etc.\n",
      "Cons: Our biggest issues with Accelo were integration and Price: \n",
      "Overall Stars: 4\n",
      "\n",
      "Title: Run away! Terrible quality updates and the worst customer service. False advertising of integrations\n",
      "Sentiment Analysis Score: -0.26733333333333337\n",
      "Company: Accelo\n",
      "Comments: The first reason we chose AffinityLive, now Accelo due to what was a great set of tutorials and video demos.\n",
      "Pros: \n",
      "Cons: \n",
      "Overall Stars: 2\n",
      "\n",
      "Title: Lots of Potential\n",
      "Sentiment Analysis Score: -0.182025\n",
      "Company: Accelo\n",
      "Comments: Overall, I like using Accelo and will continue to use it. I hope expand how we use it and explore new areas of the tool.\n",
      "Pros: This is one of the few tools out there that has been extremely helpful in managing retainer work. Our team appreciate the tool's ability to track time and tasks within projects. I also really like the triggers for alerts on budget/usage %, this automation has been very helpful.\n",
      "Cons: There is a lot of rigidness about the system, with lots of work arounds, but still some aspects of it do not have the flexibility you want it to. Task are more difficult to manage and assign than just a task management/checklist type system. \n",
      "Overall Stars: 4\n",
      "\n",
      "Title: Effective tool but missing some key functionality for management of a team\n",
      "Sentiment Analysis Score: -0.14744\n",
      "Company: Accelo\n",
      "Comments: The company is good to work with.  They try to be accommodating with requests.  Their support team is responsive.  There are some fundamental functionality missing from the system such as the ability to apply a discount to a quote.  Also the way margins are calculated is incorrect.  I need to recalculate by myself.  Some of the dashboards are not meaningful.  I would love to see the company spend time understanding reporting needs, and update the software to provide more meaningful information.\n",
      "Pros: The ability to create an opportunity, quote, and then close it into a project where we can assign resources and log time is very convenient.\n",
      "Cons: Reporting capabilities are severely lacking.  I have to try many different ways to pull out data into excel and further manipulate it to do the type of analysis I need to do as the leader of a team.  When I filter data, it doesn't always make sense and it doesn't leave me confident that the data is accurate.   \n",
      "Overall Stars: 4\n",
      "\n",
      "Title: Full of functions which provides compliexity\n",
      "Sentiment Analysis Score: -0.06808333333333333\n",
      "Company: Accelo\n",
      "Comments: They have tried to satisfy so many requirements in enterprises. This became their system complicated and difficult to work.\n",
      "Pros: 1.\tIt Supports a comprehensive variety of activities in an enterprise including CRM, Sales, Projects, Tickets & Requests, Contracts & Retainers, Tasks & Activities (Operations)\n",
      "Cons: 1.\tThey tried to have a good responsive web application, but they were not fully successful in this case. Some of the icons on the upper toolbar will not accessible when the size of browser is in its minimum width. Alternatively, when the “List of Activities” is open and I change the width of browser, some of the texts will be override on each other. \n",
      "Overall Stars: 4\n",
      "\n"
     ]
    }
   ],
   "source": [
    "#@title\n",
    "vader_neg_df = df[df[IS_MAIN_COMPANY]==MAIN_COMPANY_NAME].sort_values(by='vader_compound', ascending=True)[:5]\n",
    "for i, row in vader_neg_df.iterrows():\n",
    "    print_sentiments(df, i)"
   ]
  },
  {
   "cell_type": "markdown",
   "metadata": {
    "colab_type": "text",
    "id": "3vMXncivm1oP"
   },
   "source": [
    "And for the competitors:"
   ]
  },
  {
   "cell_type": "code",
   "execution_count": 188,
   "metadata": {
    "cellView": "form",
    "colab": {
     "base_uri": "https://localhost:8080/",
     "height": 751
    },
    "colab_type": "code",
    "id": "HlcUhcgz2LkP",
    "outputId": "0bc23f78-9cbf-4257-9acb-4a19ccd47fb1"
   },
   "outputs": [
    {
     "name": "stdout",
     "output_type": "stream",
     "text": [
      "Title: The Greenrope Team ROCKS!\n",
      "Sentiment Analysis Score: -0.23343333333333335\n",
      "Company: GreenRope\n",
      "Comments: VERY POSITIVE. The best part about this is the support team behind the software. I am new to GR so it is so CLUTCH having a team  to reach out to when I am stuck in the mud. They have each helped me at various stages in implementing marketing funnels for my client. They are very responsive and I can always count on them to help me get things to the finish line. You guys make me look good! Thank you very much for your help and support. You guys rock!\n",
      "Pros: A ton, the organization of elements, I also like how user friendly it is to jump from section to section. \n",
      "Cons: Nothing, I am new to GR so alot of my problems are more about me being new to it, than anything wrong with the software....\n",
      "Overall Stars: 5\n",
      "\n",
      "Title: From 20 to 130 reviews in just a few months! And our social media marketing had never looked better.\n",
      "Sentiment Analysis Score: -0.16676666666666665\n",
      "Company: NiceJob\n",
      "Comments: It has changed our SEM, SEO and reputation for the better. We're getting client and prospect engagement on social media through the automated posts and regularly get compliments on our high level of communication.\n",
      "Pros: The software guides our clients thorough what some feel is the arduous task of leaving a positive review. It helps remind them if they wanted to leave a review and then shows then the review sites that they already use.\n",
      "Cons: Someones the AI doesn't detect that a review had been left by a particular client and it continues to nudge them, much to their annoyance. These are few and far between, though.\n",
      "Overall Stars: 5\n",
      "\n",
      "Title: My experience with GreenRope is mixed. I like it and it gets the job done but sometimes it kills me\n",
      "Sentiment Analysis Score: -0.13632857142857144\n",
      "Company: GreenRope\n",
      "Comments: \n",
      "Pros: It has sooooo many features its just crazy what you can do with it.  The possibilities are really countless. I haven't even been able to use GreenRope to half of his capability I'm sure. Definitely gets the job done.\n",
      "Cons: It is hard to understand sometimes. Things that should be simple like email templates are actually not that simple at all to delete and change. Seems like some things are really easy to do, but others are so complicated and make no sense sometimes. \n",
      "Overall Stars: 4\n",
      "\n",
      "Title: This CRM suits our current needs.\n",
      "Sentiment Analysis Score: -0.057\n",
      "Company: GreenRope\n",
      "Comments: \n",
      "Pros: It is very flexible. This CRM has the ability to create custom \"Groups\". These can be customized for your business or, even work for organizing a little league team. \n",
      "Cons: Workflows, while there, are clunky. Automatic workflows were one of the most important selling points for us however, we have abandoned using them.\n",
      "Overall Stars: 5\n",
      "\n",
      "Title: GreenRope has helped us book more revenue this year than the last 3 years combined !\n",
      "Sentiment Analysis Score: -0.03763333333333333\n",
      "Company: GreenRope\n",
      "Comments: We have been using GreenRope for the last four years.  GreenRope has significantly simplified and streamlined many of our basic business operations and marketing (such as our web site, CRM activities, email marketing, project management, document sharing, etc.).  Now my small, technology-based company can concentrate on its core business and significantly improve our business development.   During our first year using GreenRope, our revenue nearly doubled.  This year, revenue is more than the last 3 years combined.\n",
      "Pros: GreenRope's features are extremely well-integrated with an intuitive, easy-to-use interface without the unnecessary complexity and long learning curve of other solutions.  Furthermore, tech support has been top notch (e.g., responses often within minutes, personal attention). \n",
      "Cons: I suppose that the only drawback is that there are so many features that I feel like I am missing out since I have not had a chance to explore or experiment with several of them. \n",
      "Overall Stars: 5\n",
      "\n"
     ]
    }
   ],
   "source": [
    "#@title\n",
    "vader_neg_df = df[df[IS_MAIN_COMPANY]!=MAIN_COMPANY_NAME].sort_values(by='vader_compound', ascending=True)[:5]\n",
    "for i, row in vader_neg_df.iterrows():\n",
    "    print_sentiments(df, i)"
   ]
  },
  {
   "cell_type": "markdown",
   "metadata": {
    "colab_type": "text",
    "id": "c0aiBcPZYaPF"
   },
   "source": [
    "## Comparison: Accelo vs. Competitors"
   ]
  },
  {
   "cell_type": "markdown",
   "metadata": {
    "colab_type": "text",
    "id": "IAqbuAm_Yf6G"
   },
   "source": [
    "So, how did the sentiment scores for Accelo compare to the scores for the competitors?"
   ]
  },
  {
   "cell_type": "code",
   "execution_count": 194,
   "metadata": {
    "cellView": "form",
    "colab": {
     "base_uri": "https://localhost:8080/",
     "height": 51
    },
    "colab_type": "code",
    "id": "AEuFssiEYm7E",
    "outputId": "8e897044-f452-450f-c05e-f14c78ef7a0e"
   },
   "outputs": [
    {
     "name": "stdout",
     "output_type": "stream",
     "text": [
      "Mean sentiment score for Accelo: 0.19\n",
      "Mean sentiment score for Others: 0.26\n"
     ]
    }
   ],
   "source": [
    "#@title\n",
    "main_company_mean = df[df['company']==MAIN_COMPANY_NAME]['vader_compound'].mean()\n",
    "print(\"Mean sentiment score for \" + MAIN_COMPANY_NAME + \": %.2f\" % main_company_mean)\n",
    "other_mean = df[df['company']!=MAIN_COMPANY_NAME]['vader_compound'].mean()\n",
    "print(\"Mean sentiment score for Others: %.2f\" % other_mean)"
   ]
  },
  {
   "cell_type": "markdown",
   "metadata": {
    "colab_type": "text",
    "id": "XbR3_Wp6N-2L"
   },
   "source": [
    "Competitors have a mean sentiment score (can range from -1 to 1) of 0.26, as opposed to Accelo of 0.19, which is mildly positive."
   ]
  },
  {
   "cell_type": "markdown",
   "metadata": {
    "colab_type": "text",
    "id": "FYLxpAbnYQt1"
   },
   "source": [
    "## Analysis Accuracy"
   ]
  },
  {
   "cell_type": "markdown",
   "metadata": {
    "colab_type": "text",
    "id": "ZusKiy5FmJ6e"
   },
   "source": [
    "So, how did the sentiment analysis perform? One way to measure this is to compare the sentiment scores for each review to their overall rating out of 5, which is also part of the data for each review, to see if this indicates a positive relationship.\n",
    "\n",
    "Below is a scatter plot of overall rating (from 1 to 5) vs. sentiment score (from -1 to 1)."
   ]
  },
  {
   "cell_type": "code",
   "execution_count": 190,
   "metadata": {
    "cellView": "form",
    "colab": {
     "base_uri": "https://localhost:8080/",
     "height": 417
    },
    "colab_type": "code",
    "id": "9M_IYF6_jgip",
    "outputId": "1489b151-bb19-472b-cc09-4f98c0935f98"
   },
   "outputs": [
    {
     "data": {
      "text/plain": [
       "<matplotlib.axes._subplots.AxesSubplot at 0x1a3331e350>"
      ]
     },
     "execution_count": 190,
     "metadata": {},
     "output_type": "execute_result"
    },
    {
     "data": {
      "image/png": "[encoded data removed]",
      "text/plain": [
       "<Figure size 648x432 with 1 Axes>"
      ]
     },
     "metadata": {},
     "output_type": "display_data"
    }
   ],
   "source": [
    "#@title\n",
    "df.plot(x='overall-stars', y='vader_compound', style='o')"
   ]
  },
  {
   "cell_type": "markdown",
   "metadata": {
    "colab_type": "text",
    "id": "K9WfFcT8mmoU"
   },
   "source": [
    "As you can see, as the overall rating increases, so does the sentiment score, which indicates a positive relationship.\n",
    "\n",
    "Or, viewed another way, let's take the mean sentiment score for each overall rating from 1 to 5, and then plot a line of best fit:"
   ]
  },
  {
   "cell_type": "code",
   "execution_count": 191,
   "metadata": {
    "cellView": "form",
    "colab": {
     "base_uri": "https://localhost:8080/",
     "height": 383
    },
    "colab_type": "code",
    "id": "TMuHwO4XjrmY",
    "outputId": "6ee96442-da53-4f07-e4bb-231a4577bfe8"
   },
   "outputs": [
    {
     "data": {
      "image/png": "[encoded data removed]",
      "text/plain": [
       "<Figure size 648x432 with 1 Axes>"
      ]
     },
     "metadata": {},
     "output_type": "display_data"
    }
   ],
   "source": [
    "#@title\n",
    "import numpy as np\n",
    "from sklearn import datasets, linear_model\n",
    "import matplotlib.pyplot as plt\n",
    "\n",
    "ratings = []\n",
    "means = []\n",
    "for i in range(1,6):\n",
    "    if len(df[df['overall-stars'] == i]) > 0:\n",
    "        ratings.append(i)\n",
    "        means.append(df[df['overall-stars'] == i]['vader_compound'].mean())\n",
    "\n",
    "regr = linear_model.LinearRegression()\n",
    "x = np.array(ratings).reshape(-1,1)\n",
    "y = np.array(means)\n",
    "regr.fit(x, y)\n",
    "\n",
    "# Plot it as in the example at http://scikit-learn.org/\n",
    "plt.scatter(x, y,  color='black')\n",
    "plt.plot(x, regr.predict(x), color='blue', linewidth=3)\n",
    "plt.show()"
   ]
  },
  {
   "cell_type": "code",
   "execution_count": 192,
   "metadata": {
    "cellView": "form",
    "colab": {
     "base_uri": "https://localhost:8080/",
     "height": 34
    },
    "colab_type": "code",
    "id": "LucODElSm2iH",
    "outputId": "5af76255-8812-4abf-93ce-ad1b95614e35"
   },
   "outputs": [
    {
     "data": {
      "text/plain": [
       "0.9610008074860004"
      ]
     },
     "execution_count": 192,
     "metadata": {},
     "output_type": "execute_result"
    }
   ],
   "source": [
    "#@title\n",
    "from sklearn.metrics import mean_squared_error, r2_score\n",
    "\n",
    "y_predicted = regr.predict(x)\n",
    "rmse = mean_squared_error(y, y_predicted)\n",
    "r2 = r2_score(y, y_predicted)\n",
    "r2"
   ]
  },
  {
   "cell_type": "markdown",
   "metadata": {
    "colab_type": "text",
    "id": "R5-MjQUWm8Q_"
   },
   "source": [
    "As can be seen above, the line of best fit is a close match to the actual values, which suggests that the sentiment analysis performs well.\n",
    "\n",
    "The R<sup>2</sup> value for the regression line is 0.96 (on a scale from -1 to 1), which is very high.\n",
    "\n",
    "This means that we can confidently apply sentiment analysis to text even when no numeric ratings data is present to test against, e.g. on social media sites."
   ]
  },
  {
   "cell_type": "markdown",
   "metadata": {
    "colab_type": "text",
    "id": "lR7KQzFykPKx"
   },
   "source": [
    "# Summary"
   ]
  },
  {
   "cell_type": "markdown",
   "metadata": {
    "colab_type": "text",
    "id": "MWGoRJDjkPKx"
   },
   "source": [
    "This analysis has given a brief overview of data from Accelo/competitor reviews on Capterra, which could easily be extended to other companies/data sets.\n",
    "\n",
    "In summary, we have shown:\n",
    "\n",
    "* Examples of data wrangling and cleaning, including filling in missing values\n",
    "\n",
    "* How to use descriptive statistics/boxplots and summary statistics to compare different data sets\n",
    "\n",
    "* How to find correlations between numeric values, and to present these is an aesthetically pleasing way\n",
    "\n",
    "* How to show a aggregated event frequencies as a line graph\n",
    "\n",
    "* An application of textual analysis, including word frequences, bigrams, and trigrams\n",
    "\n",
    "* An application of sentiment analysis using Vader, and a quantitiative confirmation of its accuracy \n",
    "\n",
    "It would be valuable to continue repeating this study as more reviews are submitted to determine if these trends change or remain constant."
   ]
  }
 ],
 "metadata": {
  "colab": {
   "collapsed_sections": [
    "AmVULkdVkPJy"
   ],
   "name": "2019 Q3: Capterra VC Reviews + Competitors.ipynb",
   "provenance": []
  },
  "kernelspec": {
   "display_name": "Python 3",
   "language": "python",
   "name": "python3"
  },
  "language_info": {
   "codemirror_mode": {
    "name": "ipython",
    "version": 3
   },
   "file_extension": ".py",
   "mimetype": "text/x-python",
   "name": "python",
   "nbconvert_exporter": "python",
   "pygments_lexer": "ipython3",
   "version": "3.7.4"
  }
 },
 "nbformat": 4,
 "nbformat_minor": 1
}
