{
 "cells": [
  {
   "cell_type": "markdown",
   "metadata": {
    "colab_type": "text",
    "id": "J5yXlxWlDLq4"
   },
   "source": [
    "# Intro\n",
    "\n",
    "This notebook pulls the latest comments on Facebook relating to a page that you manage, and updates a running list in Google Sheets.\n",
    "\n",
    "Note that this script only pulls the latest records, so suggest running e.g. once a day/week. Next step would be to extend so Facebook/Google Sheets authentication is automated.\n",
    "\n",
    "# Code\n",
    "\n",
    "To run all: Runtime/Cell > Run all\n",
    "\n",
    "Note that you will need to create a new access token from https://developers.facebook.com/tools/explorer, and paste in to step 1, as well as the Facebook page id/name and Google Sheets name/worksheet."
   ]
  },
  {
   "cell_type": "code",
   "execution_count": null,
   "metadata": {
    "colab": {
     "base_uri": "https://localhost:8080/",
     "height": 255
    },
    "colab_type": "code",
    "id": "kNkDflyDm5jV",
    "outputId": "f2647840-3709-453b-fe9a-691151a15e81"
   },
   "outputs": [],
   "source": [
    "!pip install facebook-sdk\n",
    "!pip install vaderSentiment"
   ]
  },
  {
   "cell_type": "code",
   "execution_count": null,
   "metadata": {
    "colab": {},
    "colab_type": "code",
    "id": "3-nZ-VJG8gLA"
   },
   "outputs": [],
   "source": [
    "import pandas as pd\n",
    "import facebook\n",
    "from vaderSentiment.vaderSentiment import SentimentIntensityAnalyzer"
   ]
  },
  {
   "cell_type": "code",
   "execution_count": null,
   "metadata": {
    "colab": {},
    "colab_type": "code",
    "id": "QIKQ5ulinQQw"
   },
   "outputs": [],
   "source": [
    "# Step 1 - Get Facebook posts\n",
    "PAGE_ID = \"YOUR_PAGE_ID\"\n",
    "PAGE_NAME = \"YOUR_PAGE_NAME\"\n",
    "TOKEN = \"YOUR_TOKEN\"\n",
    "\n",
    "graph = facebook.GraphAPI(access_token=TOKEN, version=\"3.0\")\n",
    "posts = graph.get_object(id=PAGE_ID, fields=\"posts\")\n",
    "\n",
    "post_ids = []\n",
    "for post in posts['posts']['data']:\n",
    "    post_ids.append(post['id'])"
   ]
  },
  {
   "cell_type": "code",
   "execution_count": null,
   "metadata": {
    "colab": {
     "base_uri": "https://localhost:8080/",
     "height": 80
    },
    "colab_type": "code",
    "id": "hcz7CBww0KCf",
    "outputId": "8f6856fb-99fd-4d88-aa92-4be4088288e6"
   },
   "outputs": [],
   "source": [
    "# Step 2 - Load comments into data frame, add sentiment. Exclude comments from page owner\n",
    "comments_df = pd.DataFrame(columns=[\"post_id\",\"comment_id\",\"created_time\",\"sentiment\",\"message\",\"date\"])\n",
    "analyser = SentimentIntensityAnalyzer()\n",
    "\n",
    "def get_comments(object_id):\n",
    "    comments = graph.get_object(id=object_id, fields=\"comments{created_time,id,message,from}\")\n",
    "\n",
    "    if 'comments' in comments:  \n",
    "        for comment in comments['comments']['data']:\n",
    "            # Add comment if not a duplicate for same day and not posted by page owner\n",
    "            date = comment['created_time'].split('T')[0]\n",
    "            if not ((comments_df['date'] == date) & (comments_df['message'] == comment['message'])).any() and comment['message'] != \"\" and ('from' not in comment or comment['from']['name'] != PAGE_NAME):\n",
    "                sentiment = analyser.polarity_scores(comment['message'])['compound']\n",
    "                comments_df.loc[len(comments_df)] = [post_id,comment['id'],comment['created_time'],sentiment,comment['message'],date]\n",
    "\n",
    "            # Call function recursively in case there are replies to *this* comment\n",
    "            get_comments(comment['id'])\n",
    "  \n",
    "for post_id in post_ids:\n",
    "    get_comments(post_id)\n",
    "    \n",
    "del comments_df['date']\n",
    "comments_df.head(1)"
   ]
  },
  {
   "cell_type": "code",
   "execution_count": null,
   "metadata": {
    "colab": {
     "base_uri": "https://localhost:8080/",
     "height": 80
    },
    "colab_type": "code",
    "id": "SnDqcXTN4Dzd",
    "outputId": "a49d954c-b136-48d6-bb0e-b8c6c39af40e"
   },
   "outputs": [],
   "source": [
    "# Step 3 - Open Google Sheet and get existing comments\n",
    "from google.colab import auth\n",
    "auth.authenticate_user()\n",
    "\n",
    "import gspread\n",
    "from oauth2client.client import GoogleCredentials\n",
    "\n",
    "SHEET_NAME = \"YOUR_SHEET_NAME\"\n",
    "WORKSHEET_NAME = \"YOUR_WORKSHEET_NAME\"\n",
    "\n",
    "gc = gspread.authorize(GoogleCredentials.get_application_default())\n",
    "\n",
    "worksheet = gc.open(SHEET_NAME).worksheet(WORKSHEET_NAME)\n",
    "\n",
    "rows = worksheet.get_all_values()\n",
    "existing_df = pd.DataFrame.from_records(rows[1:],columns=rows[0])\n",
    "existing_df.head(1)"
   ]
  },
  {
   "cell_type": "code",
   "execution_count": null,
   "metadata": {
    "colab": {
     "base_uri": "https://localhost:8080/",
     "height": 80
    },
    "colab_type": "code",
    "id": "z8ONJAvi-O59",
    "outputId": "c9fa4329-6501-4fff-e53f-df506d58a997"
   },
   "outputs": [],
   "source": [
    "# Step 4 - Identify new comments (not in existing)\n",
    "new_comments_df = comments_df[~comments_df['comment_id'].isin(existing_df['comment_id'])]\n",
    "new_comments_df"
   ]
  },
  {
   "cell_type": "code",
   "execution_count": null,
   "metadata": {
    "colab": {
     "base_uri": "https://localhost:8080/",
     "height": 34
    },
    "colab_type": "code",
    "id": "AzY2PvwrADL1",
    "outputId": "0625e2e5-ef9c-4cac-b332-1df4e1b3f090"
   },
   "outputs": [],
   "source": [
    "# Step 5 - Write all comments to the sheet\n",
    "from gspread_dataframe import set_with_dataframe\n",
    "all_comments = existing_df.append(new_comments_df, sort=False).sort_values(['created_time'], ascending=[False])\n",
    "set_with_dataframe(worksheet, all_comments)\n",
    "print(\"Done: added %d new comments to sheet\" % len(new_comments_df))"
   ]
  }
 ],
 "metadata": {
  "colab": {
   "collapsed_sections": [],
   "name": "Facebook.ipynb",
   "provenance": []
  },
  "kernelspec": {
   "display_name": "Python 3",
   "language": "python",
   "name": "python3"
  },
  "language_info": {
   "codemirror_mode": {
    "name": "ipython",
    "version": 3
   },
   "file_extension": ".py",
   "mimetype": "text/x-python",
   "name": "python",
   "nbconvert_exporter": "python",
   "pygments_lexer": "ipython3",
   "version": "3.7.4"
  }
 },
 "nbformat": 4,
 "nbformat_minor": 1
}
