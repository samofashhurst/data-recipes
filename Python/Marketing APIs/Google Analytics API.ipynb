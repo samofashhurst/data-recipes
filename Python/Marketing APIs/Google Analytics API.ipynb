{
  "nbformat": 4,
  "nbformat_minor": 0,
  "metadata": {
    "colab": {
      "name": "Google Analytics API.ipynb",
      "provenance": [],
      "collapsed_sections": []
    },
    "kernelspec": {
      "name": "python3",
      "display_name": "Python 3"
    }
  },
  "cells": [
    {
      "cell_type": "code",
      "metadata": {
        "id": "Q8DwCBTfb_kp",
        "colab_type": "code",
        "colab": {}
      },
      "source": [
        "# A simple example of using the Google Analytics API\n",
        "# Following the instructions at https://developers.google.com/analytics/devguides/reporting/core/v4/quickstart/service-py\n",
        "\n",
        "!pip install --upgrade google-api-python-client"
      ],
      "execution_count": 0,
      "outputs": []
    },
    {
      "cell_type": "code",
      "metadata": {
        "id": "8DJpd-Njt2Uv",
        "colab_type": "code",
        "colab": {}
      },
      "source": [
        "from apiclient.discovery import build\n",
        "from oauth2client.service_account import ServiceAccountCredentials\n",
        "\n",
        "SCOPES = ['https://www.googleapis.com/auth/analytics.readonly']\n",
        "KEY_FILE_NAME = 'analytics-251701-ba04e22bf39e.json'\n",
        "VIEW_ID = '168439923'"
      ],
      "execution_count": 0,
      "outputs": []
    },
    {
      "cell_type": "code",
      "metadata": {
        "id": "UkOLDYzqvhuU",
        "colab_type": "code",
        "colab": {}
      },
      "source": [
        "from google.colab import files\n",
        "import pandas as pd\n",
        "import io\n",
        "\n",
        "print(\"Upload config.txt file for Google Analytics:\")\n",
        "uploaded = files.upload()"
      ],
      "execution_count": 0,
      "outputs": []
    },
    {
      "cell_type": "code",
      "metadata": {
        "id": "cUiwgqcLuAiA",
        "colab_type": "code",
        "colab": {}
      },
      "source": [
        "def initialize_analyticsreporting():\n",
        "  \"\"\"Initializes an Analytics Reporting API V4 service object.\n",
        "\n",
        "  Returns:\n",
        "    An authorized Analytics Reporting API V4 service object.\n",
        "  \"\"\"\n",
        "  credentials = ServiceAccountCredentials.from_json_keyfile_name(\n",
        "      KEY_FILE_NAME, SCOPES)\n",
        "\n",
        "  # Build the service object.\n",
        "  analytics = build('analyticsreporting', 'v4', credentials=credentials)\n",
        "\n",
        "  return analytics"
      ],
      "execution_count": 0,
      "outputs": []
    },
    {
      "cell_type": "code",
      "metadata": {
        "id": "Y3MN6JPbuF1Q",
        "colab_type": "code",
        "colab": {}
      },
      "source": [
        "analytics = initialize_analyticsreporting()\n",
        "analytics.reports().batchGet(\n",
        "      body={\n",
        "        'reportRequests': [\n",
        "        {\n",
        "          'viewId': VIEW_ID,\n",
        "          'dateRanges': [{'startDate': '2019-08-26', 'endDate': '2019-09-02'}],\n",
        "          'metrics': [{'expression': 'ga:sessions'}],\n",
        "          'dimensions': [{'name': 'ga:country'}]\n",
        "        }]\n",
        "      }\n",
        "  ).execute()"
      ],
      "execution_count": 0,
      "outputs": []
    }
  ]
}