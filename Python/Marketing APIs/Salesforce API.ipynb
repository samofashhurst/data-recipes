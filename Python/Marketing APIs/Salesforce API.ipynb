{
 "cells": [
  {
   "cell_type": "code",
   "execution_count": 0,
   "metadata": {
    "colab": {},
    "colab_type": "code",
    "id": "Has48bVab2Sm"
   },
   "outputs": [],
   "source": [
    "# A simple example of using the Salesforce API\n",
    "# Following the instructions at https://pypi.org/project/simple-salesforce/\n",
    "# Requires your organisation to have single sign-on (some organisations turn this off, e.g. if you also use Okta)\n",
    "# To get your Salesforce security token, follow instructions at https://help.salesforce.com/articleView?id=user_security_token.htm&type=5:\n",
    "# .   - save this is a configuration file, e.g. like:\n",
    "# [configuration]\n",
    "# username = YOUR_USERNAME\n",
    "# password = YOUR_PASSWORD\n",
    "# token = YOUR_TOKEN\n",
    "\n",
    "!pip install simple-salesforce"
   ]
  },
  {
   "cell_type": "code",
   "execution_count": 0,
   "metadata": {
    "colab": {},
    "colab_type": "code",
    "id": "DM3pTK55tVH5"
   },
   "outputs": [],
   "source": [
    "# Load config file (apologies for convoluted method to work with Colab)\n",
    "from google.colab import files\n",
    "import pandas as pd\n",
    "import io\n",
    "\n",
    "TOKEN_FILE_NAME = 'YOUR_TOKEN_FILE_NAME'\n",
    "\n",
    "print(\"Upload token file for Salesforce:\")\n",
    "uploaded = files.upload()\n",
    "\n",
    "import configparser\n",
    "\n",
    "config = configparser.ConfigParser()\n",
    "config.read(\"config.txt\")\n",
    "username = config[\"configuration\"][\"username\"]\n",
    "password = config[\"configuration\"][\"password\"]\n",
    "token = config[\"configuration\"][\"token\"]"
   ]
  },
  {
   "cell_type": "code",
   "execution_count": 0,
   "metadata": {
    "colab": {},
    "colab_type": "code",
    "id": "elhAvkYNtVH8"
   },
   "outputs": [],
   "source": [
    "# Authenticate with Salesforce\n",
    "from simple_salesforce import Salesforce\n",
    "\n",
    "sf = Salesforce(username=username, password=password, security_token=token)"
   ]
  },
  {
   "cell_type": "code",
   "execution_count": 0,
   "metadata": {
    "colab": {},
    "colab_type": "code",
    "id": "mn2BMLQGtVIB"
   },
   "outputs": [],
   "source": [
    "# 1) Simple one-off query, featuring the two types of SOQL joins ('up' and 'down')\n",
    "# See https://www.sfdc99.com/2013/06/09/example-how-to-write-a-cross-object-soql-query/ and \n",
    "# https://www.sfdc99.com/2013/06/24/example-how-to-write-a-cross-object-soql-query-part-2/ for more tips on SOQL joins\n",
    "# Schema at https://developer.salesforce.com/docs/atlas.en-us.api.meta/api/sforce_api_erd_majors.htm\n",
    "query = \"\"\"\n",
    "select id, name, createddate, account.name, (select contact.name from opportunitycontactroles)\n",
    "from opportunity\n",
    "order by createddate asc\n",
    "limit 10\n",
    "\"\"\"\n",
    "sf.query(query)"
   ]
  },
  {
   "cell_type": "code",
   "execution_count": 0,
   "metadata": {
    "colab": {},
    "colab_type": "code",
    "id": "fa5o6OzjtVIR"
   },
   "outputs": [],
   "source": [
    "# 2) More complex example for larger data sets: loop through a date range day by day and concatenate results\n",
    "import datetime\n",
    "\n",
    "# First create list of dates\n",
    "base = datetime.datetime.today()\n",
    "date_list = [base - datetime.timedelta(days=x) for x in range(188)]\n",
    "date_list.reverse()"
   ]
  },
  {
   "cell_type": "code",
   "execution_count": 0,
   "metadata": {
    "colab": {},
    "colab_type": "code",
    "id": "QcUcjkjCtVIW"
   },
   "outputs": [],
   "source": [
    "# Then loop through list of dates with one query per day\n",
    "for i in range(0,len(date_list)):\n",
    "    print(i)\n",
    "    if i < len(date_list):\n",
    "        from_date = date_list[i].strftime(\"%Y-%m-%d\") + \"T00:00:00.000+0000\"\n",
    "        to_date = date_list[i+1].strftime(\"%Y-%m-%d\") + \"T00:00:00.000+0000\"\n",
    "        \n",
    "        query = \"\"\"\n",
    "select leadid, createddate, field, oldvalue, newvalue from leadhistory\n",
    "where createddate >= \"\"\" + from_date + \"\"\" and createddate < \"\"\" + to_date + \"\"\"\n",
    "and field='LeadSource'\n",
    "order by createddate asc\n",
    "\"\"\"\n",
    "        response = sf.query_all(query)\n",
    "        df = pd.DataFrame(response['records'], columns=response['records'][1].keys())\n",
    "        if i == 0:\n",
    "            all_df = df\n",
    "        else:\n",
    "            all_df = pd.concat([all_df, df], ignore_index=True)"
   ]
  },
  {
   "cell_type": "code",
   "execution_count": 0,
   "metadata": {
    "colab": {},
    "colab_type": "code",
    "id": "2r02L9aNtVIa"
   },
   "outputs": [],
   "source": [
    "# Output results to csv\n",
    "all_df.to_csv(r'lead_source_changes_salesforce.csv')"
   ]
  }
 ],
 "metadata": {
  "colab": {
   "collapsed_sections": [],
   "name": "Salesforce API.ipynb",
   "provenance": []
  },
  "hide_input": false,
  "kernelspec": {
   "display_name": "Python 3",
   "language": "python",
   "name": "python3"
  },
  "language_info": {
   "codemirror_mode": {
    "name": "ipython",
    "version": 3
   },
   "file_extension": ".py",
   "mimetype": "text/x-python",
   "name": "python",
   "nbconvert_exporter": "python",
   "pygments_lexer": "ipython3",
   "version": "3.7.4"
  },
  "toc": {
   "base_numbering": 1,
   "nav_menu": {},
   "number_sections": true,
   "sideBar": true,
   "skip_h1_title": false,
   "title_cell": "Table of Contents",
   "title_sidebar": "Contents",
   "toc_cell": true,
   "toc_position": {},
   "toc_section_display": true,
   "toc_window_display": false
  }
 },
 "nbformat": 4,
 "nbformat_minor": 1
}
