{
 "cells": [
  {
   "cell_type": "code",
   "execution_count": 1,
   "metadata": {
    "colab": {},
    "colab_type": "code",
    "id": "-uvIWTyd9yBx"
   },
   "outputs": [],
   "source": [
    "# Assorted stats functions:\n",
    "# 1) One-way ANOVA\n",
    "# 2) Two sample proportions z test\n",
    "# 3) Chi-square (2x2 + multiple)\n",
    "# 4) Pandas summary_cat + crosstab\n",
    "# 5) Bayes theorem\n",
    "# 6) Moving average\n",
    "# 7) Beta distribution\n",
    "# 8) Pandas indexing + slicing\n",
    "# 9) Time series indexing\n",
    "# 10) Ploting a manual normal distribution\n",
    "# 11) Numpy random numbers/lists\n",
    "# 12) Pandas categorical type\n",
    "# 13) Tuples, pivot tables\n",
    "# 14) Plotting random walks\n",
    "# 15) xkcd plots!\n",
    "# 16) Assorted matplotlib plots\n",
    "# 17) Diagonal matrices, numpy linspace\n",
    "# 18) Check for missing values in a data frame\n",
    "# 19) Birthday paradox\n",
    "\n",
    "%matplotlib inline"
   ]
  },
  {
   "cell_type": "code",
   "execution_count": 2,
   "metadata": {
    "colab": {
     "base_uri": "https://localhost:8080/",
     "height": 34
    },
    "colab_type": "code",
    "id": "caFnYlNk9yBz",
    "outputId": "19dc59e7-315b-4310-f60f-9e6bfce2b6c2"
   },
   "outputs": [
    {
     "data": {
      "text/plain": [
       "F_onewayResult(statistic=7.121019471642447, pvalue=0.0002812242314534544)"
      ]
     },
     "execution_count": 2,
     "metadata": {},
     "output_type": "execute_result"
    }
   ],
   "source": [
    "# 1) How to do a one-way ANOVA\n",
    "import scipy.stats as stats\n",
    "\n",
    "tillamook = [0.0571, 0.0813, 0.0831, 0.0976, 0.0817, 0.0859, 0.0735, 0.0659, 0.0923, 0.0836]\n",
    "newport = [0.0873, 0.0662, 0.0672, 0.0819, 0.0749, 0.0649, 0.0835, 0.0725]\n",
    "petersburg = [0.0974, 0.1352, 0.0817, 0.1016, 0.0968, 0.1064, 0.105]\n",
    "magadan = [0.1033, 0.0915, 0.0781, 0.0685, 0.0677, 0.0697, 0.0764, 0.0689]\n",
    "tvarminne = [0.0703, 0.1026, 0.0956, 0.0973, 0.1039, 0.1045]\n",
    "\n",
    "stats.f_oneway(tillamook, newport, petersburg, magadan, tvarminne)"
   ]
  },
  {
   "cell_type": "code",
   "execution_count": 3,
   "metadata": {
    "colab": {
     "base_uri": "https://localhost:8080/",
     "height": 34
    },
    "colab_type": "code",
    "id": "sN0QBxFF9yB2",
    "outputId": "3ff86742-5164-424f-9448-f8a2484b9a6e"
   },
   "outputs": [
    {
     "data": {
      "text/plain": [
       "0.03138843833320864"
      ]
     },
     "execution_count": 3,
     "metadata": {},
     "output_type": "execute_result"
    }
   ],
   "source": [
    "# 2) Two sample proportions z test\n",
    "from statsmodels.stats.proportion import proportions_ztest\n",
    "import numpy as np\n",
    "\n",
    "smb = np.array([36,60])\n",
    "traffic = np.array([4203,4478])\n",
    "stat, pval = proportions_ztest(smb, traffic)\n",
    "pval"
   ]
  },
  {
   "cell_type": "code",
   "execution_count": 4,
   "metadata": {
    "colab": {
     "base_uri": "https://localhost:8080/",
     "height": 34
    },
    "colab_type": "code",
    "id": "NCvDsGOg9yB4",
    "outputId": "208e2bdd-ea5d-4ff4-82d6-5fae7e05dc63"
   },
   "outputs": [
    {
     "data": {
      "text/plain": [
       "-2.152113218103622"
      ]
     },
     "execution_count": 4,
     "metadata": {},
     "output_type": "execute_result"
    }
   ],
   "source": [
    "stat"
   ]
  },
  {
   "cell_type": "code",
   "execution_count": 5,
   "metadata": {
    "colab": {
     "base_uri": "https://localhost:8080/",
     "height": 34
    },
    "colab_type": "code",
    "id": "kojiiqku9yB6",
    "outputId": "b1ea293a-6f92-448d-aef3-247d5227acbf"
   },
   "outputs": [
    {
     "data": {
      "text/plain": [
       "0.031388438333208604"
      ]
     },
     "execution_count": 5,
     "metadata": {},
     "output_type": "execute_result"
    }
   ],
   "source": [
    "# 3) Chi square (returns same result as two sample proportions z test for 2x2)\n",
    "from statsmodels.stats.proportion import proportions_chisquare\n",
    "\n",
    "stat, pval, table = proportions_chisquare(smb, traffic)\n",
    "pval"
   ]
  },
  {
   "cell_type": "code",
   "execution_count": 6,
   "metadata": {
    "colab": {
     "base_uri": "https://localhost:8080/",
     "height": 102
    },
    "colab_type": "code",
    "id": "HNzlrlYa9yB8",
    "outputId": "6c51c640-5fdd-41fa-e1a7-e6098fbde520"
   },
   "outputs": [
    {
     "data": {
      "text/plain": [
       "(array([[  407, 25396],\n",
       "        [  429, 25262],\n",
       "        [  363, 25131]]), array([[  401.85219775, 25401.14780225],\n",
       "        [  400.10792591, 25290.89207409],\n",
       "        [  397.03987634, 25096.96012366]]))"
      ]
     },
     "execution_count": 6,
     "metadata": {},
     "output_type": "execute_result"
    }
   ],
   "source": [
    "# Chi square for multiple proportions (e.g. A/B/C test)\n",
    "conversions = np.array([407,429,363])\n",
    "traffic = np.array([25803,25691,25494])\n",
    "groups = np.array(['2 step','3 step','1 step'])\n",
    "stat, pval, table = proportions_chisquare(conversions, traffic)\n",
    "table"
   ]
  },
  {
   "cell_type": "code",
   "execution_count": 7,
   "metadata": {
    "colab": {
     "base_uri": "https://localhost:8080/",
     "height": 34
    },
    "colab_type": "code",
    "id": "X5k5YjPZ9yB-",
    "outputId": "b8036932-2513-4f83-bfe1-1bad5d6e52d1"
   },
   "outputs": [
    {
     "data": {
      "text/plain": [
       "0.07612108847127831"
      ]
     },
     "execution_count": 7,
     "metadata": {},
     "output_type": "execute_result"
    }
   ],
   "source": [
    "pval"
   ]
  },
  {
   "cell_type": "code",
   "execution_count": 8,
   "metadata": {
    "colab": {
     "base_uri": "https://localhost:8080/",
     "height": 68
    },
    "colab_type": "code",
    "id": "pUZEJoZ79yCA",
    "outputId": "dedf153f-a191-4835-b3aa-2cfa6002ecd3"
   },
   "outputs": [
    {
     "name": "stdout",
     "output_type": "stream",
     "text": [
      "0.7509232754841703\n",
      "0.07451096280195875\n",
      "0.035265811599596714\n"
     ]
    }
   ],
   "source": [
    "# Now do post-hoc tests to determine *which* value(s) are statistically significant when compared to the rest\n",
    "results = []\n",
    "for n in range(0,len(conversions)):\n",
    "    observations = [conversions[n], sum(conversions[:n]) + sum(conversions[n+1:])]\n",
    "    sample = [traffic[n], sum(traffic[:n]) + sum(traffic[n+1:])]\n",
    "    stat, pval, table = proportions_chisquare(observations, sample)\n",
    "    results.append(pval)\n",
    "    print(pval)"
   ]
  },
  {
   "cell_type": "code",
   "execution_count": 9,
   "metadata": {
    "colab": {
     "base_uri": "https://localhost:8080/",
     "height": 34
    },
    "colab_type": "code",
    "id": "u0GFsGef9yCC",
    "outputId": "c7113c11-47f5-4e5b-e075-5b7205a5919d"
   },
   "outputs": [
    {
     "data": {
      "text/plain": [
       "0.016666666666666666"
      ]
     },
     "execution_count": 9,
     "metadata": {},
     "output_type": "execute_result"
    }
   ],
   "source": [
    "# Instead of comparing these p-values to 0.05, correct to allow for chance by dividing by the number of comparisons\n",
    "bonferroni = 0.05/len(results)\n",
    "bonferroni"
   ]
  },
  {
   "cell_type": "code",
   "execution_count": 10,
   "metadata": {
    "colab": {
     "base_uri": "https://localhost:8080/",
     "height": 34
    },
    "colab_type": "code",
    "id": "W2eZ8wkU9yCD",
    "outputId": "38644d6c-35bf-4bf8-da53-bcbaf09a6155"
   },
   "outputs": [
    {
     "data": {
      "text/plain": [
       "[False, False, False]"
      ]
     },
     "execution_count": 10,
     "metadata": {},
     "output_type": "execute_result"
    }
   ],
   "source": [
    "significants = [result < bonferroni for result in results]\n",
    "significants"
   ]
  },
  {
   "cell_type": "code",
   "execution_count": 11,
   "metadata": {
    "colab": {
     "base_uri": "https://localhost:8080/",
     "height": 102
    },
    "colab_type": "code",
    "id": "COJxBAjm9yCF",
    "outputId": "5317acc2-0ff3-4e36-9633-a225fbfb30f6"
   },
   "outputs": [
    {
     "name": "stdout",
     "output_type": "stream",
     "text": [
      "(2 step, 3 step): 0.4062307824572483\n",
      "(2 step, 1 step): 0.15292049825345072\n",
      "(3 step, 1 step): 0.024169776849748737\n",
      "bonferroni = 0.016666666666666666\n",
      "[False, False, False]\n"
     ]
    }
   ],
   "source": [
    "# Now repeat the above, except comparing each combination of individual proportions this time\n",
    "results = []\n",
    "for n in range(0,len(conversions)):\n",
    "    for m in range(n+1, len(conversions)):\n",
    "        observations = [conversions[n], conversions[m]]\n",
    "        sample = [traffic[n], traffic[m]]\n",
    "        stat, pval, table = proportions_chisquare(observations, sample)\n",
    "        results.append(pval)\n",
    "        print(\"({}, {}): {}\".format(groups[n], groups[m], pval))\n",
    "bonferroni = 0.05/len(results)\n",
    "print(\"bonferroni = {}\".format(bonferroni))\n",
    "significants = [result < bonferroni for result in results]\n",
    "print(significants)"
   ]
  },
  {
   "cell_type": "code",
   "execution_count": 12,
   "metadata": {
    "colab": {
     "base_uri": "https://localhost:8080/",
     "height": 204
    },
    "colab_type": "code",
    "id": "WF9JFD1i9yCH",
    "outputId": "fbf4682d-9481-4706-a0e7-de8b8a3b0f44"
   },
   "outputs": [
    {
     "data": {
      "text/html": [
       "<div>\n",
       "<style scoped>\n",
       "    .dataframe tbody tr th:only-of-type {\n",
       "        vertical-align: middle;\n",
       "    }\n",
       "\n",
       "    .dataframe tbody tr th {\n",
       "        vertical-align: top;\n",
       "    }\n",
       "\n",
       "    .dataframe thead th {\n",
       "        text-align: right;\n",
       "    }\n",
       "</style>\n",
       "<table border=\"1\" class=\"dataframe\">\n",
       "  <thead>\n",
       "    <tr style=\"text-align: right;\">\n",
       "      <th></th>\n",
       "      <th>disease</th>\n",
       "      <th>treatment</th>\n",
       "      <th>survived</th>\n",
       "    </tr>\n",
       "  </thead>\n",
       "  <tbody>\n",
       "    <tr>\n",
       "      <td>0</td>\n",
       "      <td>0</td>\n",
       "      <td>0</td>\n",
       "      <td>0</td>\n",
       "    </tr>\n",
       "    <tr>\n",
       "      <td>1</td>\n",
       "      <td>1</td>\n",
       "      <td>0</td>\n",
       "      <td>0</td>\n",
       "    </tr>\n",
       "    <tr>\n",
       "      <td>2</td>\n",
       "      <td>0</td>\n",
       "      <td>1</td>\n",
       "      <td>1</td>\n",
       "    </tr>\n",
       "    <tr>\n",
       "      <td>3</td>\n",
       "      <td>1</td>\n",
       "      <td>0</td>\n",
       "      <td>0</td>\n",
       "    </tr>\n",
       "    <tr>\n",
       "      <td>4</td>\n",
       "      <td>0</td>\n",
       "      <td>1</td>\n",
       "      <td>0</td>\n",
       "    </tr>\n",
       "  </tbody>\n",
       "</table>\n",
       "</div>"
      ],
      "text/plain": [
       "   disease  treatment  survived\n",
       "0        0          0         0\n",
       "1        1          0         0\n",
       "2        0          1         1\n",
       "3        1          0         0\n",
       "4        0          1         0"
      ]
     },
     "execution_count": 12,
     "metadata": {},
     "output_type": "execute_result"
    }
   ],
   "source": [
    "# 4) Playing around with rp.summary_cat and pd.crosstab\n",
    "import pandas as pd\n",
    "df = pd.DataFrame(np.random.randint(2, size= (101, 3)),\n",
    "                  columns= ['disease', 'treatment', 'survived'])\n",
    "df.head()"
   ]
  },
  {
   "cell_type": "code",
   "execution_count": 13,
   "metadata": {
    "colab": {
     "base_uri": "https://localhost:8080/",
     "height": 170
    },
    "colab_type": "code",
    "id": "7GoOq2639-M-",
    "outputId": "72263e75-3f74-44ec-9757-1090e23a3970"
   },
   "outputs": [
    {
     "name": "stdout",
     "output_type": "stream",
     "text": [
      "Collecting researchpy\n",
      "  Downloading https://files.pythonhosted.org/packages/5c/c7/f3a7fd06fd9da99d46f159da91942106d1da32a4a6d08e453d5e7e8d81f2/researchpy-0.1.8-py3-none-any.whl\n",
      "Requirement already satisfied: statsmodels in /Users/sam/opt/anaconda3/lib/python3.7/site-packages (from researchpy) (0.10.1)\n",
      "Requirement already satisfied: pandas in /Users/sam/opt/anaconda3/lib/python3.7/site-packages (from researchpy) (0.25.1)\n",
      "Requirement already satisfied: numpy in /Users/sam/opt/anaconda3/lib/python3.7/site-packages (from researchpy) (1.17.2)\n",
      "Requirement already satisfied: scipy in /Users/sam/opt/anaconda3/lib/python3.7/site-packages (from researchpy) (1.3.1)\n",
      "Requirement already satisfied: patsy>=0.4.0 in /Users/sam/opt/anaconda3/lib/python3.7/site-packages (from statsmodels->researchpy) (0.5.1)\n",
      "Requirement already satisfied: python-dateutil>=2.6.1 in /Users/sam/opt/anaconda3/lib/python3.7/site-packages (from pandas->researchpy) (2.8.0)\n",
      "Requirement already satisfied: pytz>=2017.2 in /Users/sam/opt/anaconda3/lib/python3.7/site-packages (from pandas->researchpy) (2019.3)\n",
      "Requirement already satisfied: six in /Users/sam/opt/anaconda3/lib/python3.7/site-packages (from patsy>=0.4.0->statsmodels->researchpy) (1.12.0)\n",
      "Installing collected packages: researchpy\n",
      "Successfully installed researchpy-0.1.8\n"
     ]
    }
   ],
   "source": [
    "!pip install researchpy"
   ]
  },
  {
   "cell_type": "code",
   "execution_count": 14,
   "metadata": {
    "colab": {
     "base_uri": "https://localhost:8080/",
     "height": 235
    },
    "colab_type": "code",
    "id": "6xPjyMdn9yCJ",
    "outputId": "4f9bad11-4a31-4db0-cf8b-13188bc9358d"
   },
   "outputs": [
    {
     "data": {
      "text/html": [
       "<div>\n",
       "<style scoped>\n",
       "    .dataframe tbody tr th:only-of-type {\n",
       "        vertical-align: middle;\n",
       "    }\n",
       "\n",
       "    .dataframe tbody tr th {\n",
       "        vertical-align: top;\n",
       "    }\n",
       "\n",
       "    .dataframe thead th {\n",
       "        text-align: right;\n",
       "    }\n",
       "</style>\n",
       "<table border=\"1\" class=\"dataframe\">\n",
       "  <thead>\n",
       "    <tr style=\"text-align: right;\">\n",
       "      <th></th>\n",
       "      <th>Variable</th>\n",
       "      <th>Outcome</th>\n",
       "      <th>Count</th>\n",
       "      <th>Percent</th>\n",
       "    </tr>\n",
       "  </thead>\n",
       "  <tbody>\n",
       "    <tr>\n",
       "      <td>0</td>\n",
       "      <td>disease</td>\n",
       "      <td>0</td>\n",
       "      <td>53</td>\n",
       "      <td>52.48</td>\n",
       "    </tr>\n",
       "    <tr>\n",
       "      <td>1</td>\n",
       "      <td></td>\n",
       "      <td>1</td>\n",
       "      <td>48</td>\n",
       "      <td>47.52</td>\n",
       "    </tr>\n",
       "    <tr>\n",
       "      <td>2</td>\n",
       "      <td>treatment</td>\n",
       "      <td>1</td>\n",
       "      <td>57</td>\n",
       "      <td>56.44</td>\n",
       "    </tr>\n",
       "    <tr>\n",
       "      <td>3</td>\n",
       "      <td></td>\n",
       "      <td>0</td>\n",
       "      <td>44</td>\n",
       "      <td>43.56</td>\n",
       "    </tr>\n",
       "    <tr>\n",
       "      <td>4</td>\n",
       "      <td>survived</td>\n",
       "      <td>1</td>\n",
       "      <td>52</td>\n",
       "      <td>51.49</td>\n",
       "    </tr>\n",
       "    <tr>\n",
       "      <td>5</td>\n",
       "      <td></td>\n",
       "      <td>0</td>\n",
       "      <td>49</td>\n",
       "      <td>48.51</td>\n",
       "    </tr>\n",
       "  </tbody>\n",
       "</table>\n",
       "</div>"
      ],
      "text/plain": [
       "    Variable  Outcome  Count  Percent\n",
       "0    disease        0     53    52.48\n",
       "1                   1     48    47.52\n",
       "2  treatment        1     57    56.44\n",
       "3                   0     44    43.56\n",
       "4   survived        1     52    51.49\n",
       "5                   0     49    48.51"
      ]
     },
     "execution_count": 14,
     "metadata": {},
     "output_type": "execute_result"
    }
   ],
   "source": [
    "import researchpy as rp\n",
    "rp.summary_cat(df[['disease', 'treatment', 'survived']])"
   ]
  },
  {
   "cell_type": "code",
   "execution_count": 15,
   "metadata": {
    "colab": {
     "base_uri": "https://localhost:8080/",
     "height": 204
    },
    "colab_type": "code",
    "id": "s8TbM6dQ9yCK",
    "outputId": "28ec015c-ff5b-47bd-a971-d32b2462a197"
   },
   "outputs": [
    {
     "data": {
      "text/html": [
       "<div>\n",
       "<style scoped>\n",
       "    .dataframe tbody tr th:only-of-type {\n",
       "        vertical-align: middle;\n",
       "    }\n",
       "\n",
       "    .dataframe tbody tr th {\n",
       "        vertical-align: top;\n",
       "    }\n",
       "\n",
       "    .dataframe thead th {\n",
       "        text-align: right;\n",
       "    }\n",
       "</style>\n",
       "<table border=\"1\" class=\"dataframe\">\n",
       "  <thead>\n",
       "    <tr style=\"text-align: right;\">\n",
       "      <th></th>\n",
       "      <th>survived</th>\n",
       "      <th>0</th>\n",
       "      <th>1</th>\n",
       "    </tr>\n",
       "    <tr>\n",
       "      <th>disease</th>\n",
       "      <th>treatment</th>\n",
       "      <th></th>\n",
       "      <th></th>\n",
       "    </tr>\n",
       "  </thead>\n",
       "  <tbody>\n",
       "    <tr>\n",
       "      <td rowspan=\"2\" valign=\"top\">0</td>\n",
       "      <td>0</td>\n",
       "      <td>8</td>\n",
       "      <td>15</td>\n",
       "    </tr>\n",
       "    <tr>\n",
       "      <td>1</td>\n",
       "      <td>15</td>\n",
       "      <td>15</td>\n",
       "    </tr>\n",
       "    <tr>\n",
       "      <td rowspan=\"2\" valign=\"top\">1</td>\n",
       "      <td>0</td>\n",
       "      <td>14</td>\n",
       "      <td>7</td>\n",
       "    </tr>\n",
       "    <tr>\n",
       "      <td>1</td>\n",
       "      <td>12</td>\n",
       "      <td>15</td>\n",
       "    </tr>\n",
       "  </tbody>\n",
       "</table>\n",
       "</div>"
      ],
      "text/plain": [
       "survived            0   1\n",
       "disease treatment        \n",
       "0       0           8  15\n",
       "        1          15  15\n",
       "1       0          14   7\n",
       "        1          12  15"
      ]
     },
     "execution_count": 15,
     "metadata": {},
     "output_type": "execute_result"
    }
   ],
   "source": [
    "pd.crosstab([df['disease'], df['treatment']], df['survived'])"
   ]
  },
  {
   "cell_type": "code",
   "execution_count": 16,
   "metadata": {
    "colab": {},
    "colab_type": "code",
    "id": "vPn-ydjk9yCM"
   },
   "outputs": [],
   "source": [
    "# 5) Bayes theorem\n",
    "# \"A gambler mixed a \"cheat\" die with all sixes into a box of eight normal dice. She chooses one at random, \n",
    "# rolls it twice, and gets six both times. What is the probability that she chose the \"cheat\" die?\"\n",
    "# p_h = 1/9\n",
    "# p_not_h = 8/9\n",
    "# p_e_bar_h = 1\n",
    "# p_e_bar_not_h = 1/36\n",
    "\n",
    "#https://anesi.com/bayes.htm\n",
    "p_h = .15\n",
    "p_not_h = .85\n",
    "p_e_bar_h = .8\n",
    "p_e_bar_not_h = .2"
   ]
  },
  {
   "cell_type": "code",
   "execution_count": 17,
   "metadata": {
    "colab": {
     "base_uri": "https://localhost:8080/",
     "height": 34
    },
    "colab_type": "code",
    "id": "4fIilAHc9yCO",
    "outputId": "eb43338e-0b5f-40cc-aaff-12e29a09a435"
   },
   "outputs": [
    {
     "data": {
      "text/plain": [
       "0.4137931034482758"
      ]
     },
     "execution_count": 17,
     "metadata": {},
     "output_type": "execute_result"
    }
   ],
   "source": [
    "p_e_bar_h * p_h / (p_e_bar_h * p_h + p_e_bar_not_h * p_not_h)"
   ]
  },
  {
   "cell_type": "code",
   "execution_count": 18,
   "metadata": {
    "colab": {
     "base_uri": "https://localhost:8080/",
     "height": 204
    },
    "colab_type": "code",
    "id": "H0dkL8kA9yCP",
    "outputId": "f161fa48-12dd-4f6a-d897-ac5d81d9ae5c"
   },
   "outputs": [
    {
     "data": {
      "text/html": [
       "<div>\n",
       "<style scoped>\n",
       "    .dataframe tbody tr th:only-of-type {\n",
       "        vertical-align: middle;\n",
       "    }\n",
       "\n",
       "    .dataframe tbody tr th {\n",
       "        vertical-align: top;\n",
       "    }\n",
       "\n",
       "    .dataframe thead th {\n",
       "        text-align: right;\n",
       "    }\n",
       "</style>\n",
       "<table border=\"1\" class=\"dataframe\">\n",
       "  <thead>\n",
       "    <tr style=\"text-align: right;\">\n",
       "      <th></th>\n",
       "      <th>foo</th>\n",
       "      <th>bar</th>\n",
       "    </tr>\n",
       "  </thead>\n",
       "  <tbody>\n",
       "    <tr>\n",
       "      <td>0</td>\n",
       "      <td>1</td>\n",
       "      <td>3</td>\n",
       "    </tr>\n",
       "    <tr>\n",
       "      <td>1</td>\n",
       "      <td>2</td>\n",
       "      <td>7</td>\n",
       "    </tr>\n",
       "    <tr>\n",
       "      <td>2</td>\n",
       "      <td>3</td>\n",
       "      <td>9</td>\n",
       "    </tr>\n",
       "    <tr>\n",
       "      <td>3</td>\n",
       "      <td>4</td>\n",
       "      <td>11</td>\n",
       "    </tr>\n",
       "    <tr>\n",
       "      <td>4</td>\n",
       "      <td>5</td>\n",
       "      <td>60</td>\n",
       "    </tr>\n",
       "  </tbody>\n",
       "</table>\n",
       "</div>"
      ],
      "text/plain": [
       "   foo  bar\n",
       "0    1    3\n",
       "1    2    7\n",
       "2    3    9\n",
       "3    4   11\n",
       "4    5   60"
      ]
     },
     "execution_count": 18,
     "metadata": {},
     "output_type": "execute_result"
    }
   ],
   "source": [
    "# 6) Moving average\n",
    "import pandas as pd\n",
    "\n",
    "numbers = pd.DataFrame(columns=[\"foo\",\"bar\"],data=[[1,3],[2,7],[3,9],[4,11],[5,60]])\n",
    "ma = numbers.rolling(3, on='foo').std()\n",
    "numbers"
   ]
  },
  {
   "cell_type": "code",
   "execution_count": 19,
   "metadata": {
    "colab": {
     "base_uri": "https://localhost:8080/",
     "height": 204
    },
    "colab_type": "code",
    "id": "xCG9qsxz9yCR",
    "outputId": "9229c66b-9f4c-439e-952e-9d905e6f5dd3"
   },
   "outputs": [
    {
     "data": {
      "text/html": [
       "<div>\n",
       "<style scoped>\n",
       "    .dataframe tbody tr th:only-of-type {\n",
       "        vertical-align: middle;\n",
       "    }\n",
       "\n",
       "    .dataframe tbody tr th {\n",
       "        vertical-align: top;\n",
       "    }\n",
       "\n",
       "    .dataframe thead th {\n",
       "        text-align: right;\n",
       "    }\n",
       "</style>\n",
       "<table border=\"1\" class=\"dataframe\">\n",
       "  <thead>\n",
       "    <tr style=\"text-align: right;\">\n",
       "      <th></th>\n",
       "      <th>foo</th>\n",
       "      <th>bar</th>\n",
       "    </tr>\n",
       "  </thead>\n",
       "  <tbody>\n",
       "    <tr>\n",
       "      <td>0</td>\n",
       "      <td>1</td>\n",
       "      <td>NaN</td>\n",
       "    </tr>\n",
       "    <tr>\n",
       "      <td>1</td>\n",
       "      <td>2</td>\n",
       "      <td>NaN</td>\n",
       "    </tr>\n",
       "    <tr>\n",
       "      <td>2</td>\n",
       "      <td>3</td>\n",
       "      <td>3.055050</td>\n",
       "    </tr>\n",
       "    <tr>\n",
       "      <td>3</td>\n",
       "      <td>4</td>\n",
       "      <td>2.000000</td>\n",
       "    </tr>\n",
       "    <tr>\n",
       "      <td>4</td>\n",
       "      <td>5</td>\n",
       "      <td>28.884829</td>\n",
       "    </tr>\n",
       "  </tbody>\n",
       "</table>\n",
       "</div>"
      ],
      "text/plain": [
       "   foo        bar\n",
       "0    1        NaN\n",
       "1    2        NaN\n",
       "2    3   3.055050\n",
       "3    4   2.000000\n",
       "4    5  28.884829"
      ]
     },
     "execution_count": 19,
     "metadata": {},
     "output_type": "execute_result"
    }
   ],
   "source": [
    "ma"
   ]
  },
  {
   "cell_type": "code",
   "execution_count": 20,
   "metadata": {
    "colab": {
     "base_uri": "https://localhost:8080/",
     "height": 34
    },
    "colab_type": "code",
    "id": "eV7WUjOv9yCS",
    "outputId": "3db34853-6ce3-4527-bb15-2d1107727596"
   },
   "outputs": [
    {
     "data": {
      "text/plain": [
       "0.9319770261645317"
      ]
     },
     "execution_count": 20,
     "metadata": {},
     "output_type": "execute_result"
    }
   ],
   "source": [
    "# 7) Beta distribution\n",
    "# https://www.countbayesie.com/blog/2015/3/17/interrogating-probability-distributions\n",
    "from scipy.special import btdtr,btdtri\n",
    "btdtr(11,19,0.5)"
   ]
  },
  {
   "cell_type": "code",
   "execution_count": 21,
   "metadata": {
    "colab": {
     "base_uri": "https://localhost:8080/",
     "height": 34
    },
    "colab_type": "code",
    "id": "lyvA8o599yCU",
    "outputId": "89a83a8d-b917-4e73-c2a1-195e6b94b1c1"
   },
   "outputs": [
    {
     "data": {
      "text/plain": [
       "0.5"
      ]
     },
     "execution_count": 21,
     "metadata": {},
     "output_type": "execute_result"
    }
   ],
   "source": [
    "btdtri(11,19,0.9319770261645317)"
   ]
  },
  {
   "cell_type": "code",
   "execution_count": 22,
   "metadata": {
    "colab": {
     "base_uri": "https://localhost:8080/",
     "height": 34
    },
    "colab_type": "code",
    "id": "_PPKJ51p9yCX",
    "outputId": "63596140-bfbe-45cb-ac9e-f418ddb06537"
   },
   "outputs": [
    {
     "data": {
      "text/plain": [
       "0.5160706153018945"
      ]
     },
     "execution_count": 22,
     "metadata": {},
     "output_type": "execute_result"
    }
   ],
   "source": [
    "btdtri(622,651,0.975)"
   ]
  },
  {
   "cell_type": "code",
   "execution_count": 23,
   "metadata": {
    "colab": {
     "base_uri": "https://localhost:8080/",
     "height": 34
    },
    "colab_type": "code",
    "id": "rkLd1QKp9yCb",
    "outputId": "54c4bf9d-ac87-4425-b5a0-d4558acbae65"
   },
   "outputs": [
    {
     "data": {
      "text/plain": [
       "0.9122725863214266"
      ]
     },
     "execution_count": 23,
     "metadata": {},
     "output_type": "execute_result"
    }
   ],
   "source": [
    "btdtr(11,19,0.5)-btdtr(11,19,0.2)"
   ]
  },
  {
   "cell_type": "code",
   "execution_count": 24,
   "metadata": {
    "colab": {
     "base_uri": "https://localhost:8080/",
     "height": 34
    },
    "colab_type": "code",
    "id": "fwRINQSf9yCe",
    "outputId": "33e4583d-1fe5-4ed8-a823-34713f1a094c"
   },
   "outputs": [
    {
     "data": {
      "text/plain": [
       "0.26948831788579786"
      ]
     },
     "execution_count": 24,
     "metadata": {},
     "output_type": "execute_result"
    }
   ],
   "source": [
    "# http://varianceexplained.org/statistics/beta_distribution_and_baseball/\n",
    "btdtri(81,219,0.5)"
   ]
  },
  {
   "cell_type": "code",
   "execution_count": 25,
   "metadata": {
    "colab": {
     "base_uri": "https://localhost:8080/",
     "height": 34
    },
    "colab_type": "code",
    "id": "kZedkx9q9yCf",
    "outputId": "a30b3190-3f28-414a-ad94-e4a0acffef7b"
   },
   "outputs": [
    {
     "data": {
      "text/plain": [
       "0.01248151030012834"
      ]
     },
     "execution_count": 25,
     "metadata": {},
     "output_type": "execute_result"
    }
   ],
   "source": [
    "# https://www.countbayesie.com/blog/2015/4/4/parameter-estimation-the-pdf-cdf-and-quantile-function\n",
    "btdtr(300,39700,1)-btdtr(300,39700,0.0085)"
   ]
  },
  {
   "cell_type": "code",
   "execution_count": 26,
   "metadata": {
    "colab": {
     "base_uri": "https://localhost:8080/",
     "height": 34
    },
    "colab_type": "code",
    "id": "DOivJ9XD9yCh",
    "outputId": "1a063a3e-cd33-4da1-a653-e0c16d0706b8"
   },
   "outputs": [
    {
     "data": {
      "text/plain": [
       "0.006952699764581994"
      ]
     },
     "execution_count": 26,
     "metadata": {},
     "output_type": "execute_result"
    }
   ],
   "source": [
    "btdtri(300,39700,0.1)"
   ]
  },
  {
   "cell_type": "code",
   "execution_count": 27,
   "metadata": {
    "colab": {
     "base_uri": "https://localhost:8080/",
     "height": 462
    },
    "colab_type": "code",
    "id": "jGExJal69yCj",
    "outputId": "e35ab558-2416-45a2-d8cb-28fa702d843d"
   },
   "outputs": [
    {
     "data": {
      "text/plain": [
       "[<matplotlib.lines.Line2D at 0x1a1c850ad0>]"
      ]
     },
     "execution_count": 27,
     "metadata": {},
     "output_type": "execute_result"
    },
    {
     "data": {
      "image/png": "[encoded data removed]",
      "text/plain": [
       "<Figure size 1080x360 with 1 Axes>"
      ]
     },
     "metadata": {
      "needs_background": "light"
     },
     "output_type": "display_data"
    }
   ],
   "source": [
    "# https://www.countbayesie.com/blog/2015/4/4/parameter-estimation-adding-bayesian-priors\n",
    "# http://stats.stackexchange.com/questions/47771/what-is-the-intuition-behind-beta-distribution/47782#47782\n",
    "from scipy.stats import beta\n",
    "import matplotlib.pyplot as plt\n",
    "import numpy as np\n",
    "plt.figure(figsize=(15,5))\n",
    "a =  133\n",
    "b = 49259-a\n",
    "x = np.arange(0.00, 1, 0.01)\n",
    "y = beta.pdf(x,a,b)\n",
    "plt.plot(x,y)\n",
    "a2 =  399\n",
    "b2 = 49259-a2\n",
    "y2 = beta.pdf(x,a2,b2)\n",
    "plt.plot(x,y2)"
   ]
  },
  {
   "cell_type": "code",
   "execution_count": 28,
   "metadata": {
    "colab": {
     "base_uri": "https://localhost:8080/",
     "height": 282
    },
    "colab_type": "code",
    "id": "T3YUpybr9yCl",
    "outputId": "ee0d4397-fa19-4eaf-87f7-5fd73de2035a"
   },
   "outputs": [
    {
     "data": {
      "text/plain": [
       "[<matplotlib.lines.Line2D at 0x1a1ca7fe90>]"
      ]
     },
     "execution_count": 28,
     "metadata": {},
     "output_type": "execute_result"
    },
    {
     "data": {
      "image/png": "[encoded data removed]",
      "text/plain": [
       "<Figure size 432x288 with 1 Axes>"
      ]
     },
     "metadata": {
      "needs_background": "light"
     },
     "output_type": "display_data"
    }
   ],
   "source": [
    "y = beta.cdf(x,a,b)\n",
    "plt.plot(x,y)\n",
    "upper_bound = np.full((100,1),0.975)\n",
    "lower_bound = np.full((100,1),0.025)\n",
    "plt.plot(x,upper_bound,linestyle='dashed')\n",
    "plt.plot(x,lower_bound,linestyle='dashed')"
   ]
  },
  {
   "cell_type": "code",
   "execution_count": 29,
   "metadata": {
    "colab": {
     "base_uri": "https://localhost:8080/",
     "height": 173
    },
    "colab_type": "code",
    "id": "Abbx3WQv9yCm",
    "outputId": "e876a057-b102-4730-df82-171c2a0b1e1b"
   },
   "outputs": [
    {
     "data": {
      "text/html": [
       "<div>\n",
       "<style scoped>\n",
       "    .dataframe tbody tr th:only-of-type {\n",
       "        vertical-align: middle;\n",
       "    }\n",
       "\n",
       "    .dataframe tbody tr th {\n",
       "        vertical-align: top;\n",
       "    }\n",
       "\n",
       "    .dataframe thead th {\n",
       "        text-align: right;\n",
       "    }\n",
       "</style>\n",
       "<table border=\"1\" class=\"dataframe\">\n",
       "  <thead>\n",
       "    <tr style=\"text-align: right;\">\n",
       "      <th></th>\n",
       "      <th>l1</th>\n",
       "      <th>l4</th>\n",
       "    </tr>\n",
       "    <tr>\n",
       "      <th>l2</th>\n",
       "      <th></th>\n",
       "      <th></th>\n",
       "    </tr>\n",
       "  </thead>\n",
       "  <tbody>\n",
       "    <tr>\n",
       "      <td>a</td>\n",
       "      <td>1</td>\n",
       "      <td>0</td>\n",
       "    </tr>\n",
       "    <tr>\n",
       "      <td>a</td>\n",
       "      <td>1</td>\n",
       "      <td>9</td>\n",
       "    </tr>\n",
       "    <tr>\n",
       "      <td>b</td>\n",
       "      <td>1</td>\n",
       "      <td>8</td>\n",
       "    </tr>\n",
       "  </tbody>\n",
       "</table>\n",
       "</div>"
      ],
      "text/plain": [
       "    l1  l4\n",
       "l2        \n",
       "a    1   0\n",
       "a    1   9\n",
       "b    1   8"
      ]
     },
     "execution_count": 29,
     "metadata": {},
     "output_type": "execute_result"
    }
   ],
   "source": [
    "# 8) Pandas indexing + slicing\n",
    "import pandas as pd\n",
    "l1 = [1,1,1]\n",
    "l2 = ['a','a','b']\n",
    "l3 = [0,9,8]\n",
    "a = pd.DataFrame()\n",
    "a['l1'] = l1\n",
    "a['l2'] = l2\n",
    "a['l4'] = l3\n",
    "a.set_index('l2',inplace=True)\n",
    "a"
   ]
  },
  {
   "cell_type": "code",
   "execution_count": 30,
   "metadata": {
    "colab": {
     "base_uri": "https://localhost:8080/",
     "height": 34
    },
    "colab_type": "code",
    "id": "YuBj8iVs9yCo",
    "outputId": "1e39f17a-5935-42ca-a909-a966aafd4f5d"
   },
   "outputs": [
    {
     "data": {
      "text/plain": [
       "array([False,  True, False])"
      ]
     },
     "execution_count": 30,
     "metadata": {},
     "output_type": "execute_result"
    }
   ],
   "source": [
    "a.index.duplicated()"
   ]
  },
  {
   "cell_type": "code",
   "execution_count": 31,
   "metadata": {
    "colab": {
     "base_uri": "https://localhost:8080/",
     "height": 142
    },
    "colab_type": "code",
    "id": "Mb0G0yIW9yCq",
    "outputId": "ab65d6ed-fbee-45f9-b6d4-94e6adc49ff1"
   },
   "outputs": [
    {
     "data": {
      "text/html": [
       "<div>\n",
       "<style scoped>\n",
       "    .dataframe tbody tr th:only-of-type {\n",
       "        vertical-align: middle;\n",
       "    }\n",
       "\n",
       "    .dataframe tbody tr th {\n",
       "        vertical-align: top;\n",
       "    }\n",
       "\n",
       "    .dataframe thead th {\n",
       "        text-align: right;\n",
       "    }\n",
       "</style>\n",
       "<table border=\"1\" class=\"dataframe\">\n",
       "  <thead>\n",
       "    <tr style=\"text-align: right;\">\n",
       "      <th></th>\n",
       "      <th>l1</th>\n",
       "      <th>l4</th>\n",
       "    </tr>\n",
       "    <tr>\n",
       "      <th>l2</th>\n",
       "      <th></th>\n",
       "      <th></th>\n",
       "    </tr>\n",
       "  </thead>\n",
       "  <tbody>\n",
       "    <tr>\n",
       "      <td>a</td>\n",
       "      <td>1</td>\n",
       "      <td>0</td>\n",
       "    </tr>\n",
       "    <tr>\n",
       "      <td>a</td>\n",
       "      <td>1</td>\n",
       "      <td>9</td>\n",
       "    </tr>\n",
       "  </tbody>\n",
       "</table>\n",
       "</div>"
      ],
      "text/plain": [
       "    l1  l4\n",
       "l2        \n",
       "a    1   0\n",
       "a    1   9"
      ]
     },
     "execution_count": 31,
     "metadata": {},
     "output_type": "execute_result"
    }
   ],
   "source": [
    "# How to slice by index (row) and column at the same time\n",
    "a.loc[a.index=='a',['l1','l4']]"
   ]
  },
  {
   "cell_type": "code",
   "execution_count": 32,
   "metadata": {
    "colab": {
     "base_uri": "https://localhost:8080/",
     "height": 235
    },
    "colab_type": "code",
    "id": "AOsCNxeh9yCr",
    "outputId": "e8b7c060-3fde-4378-9388-df37fd985dce"
   },
   "outputs": [
    {
     "data": {
      "text/html": [
       "<div>\n",
       "<style scoped>\n",
       "    .dataframe tbody tr th:only-of-type {\n",
       "        vertical-align: middle;\n",
       "    }\n",
       "\n",
       "    .dataframe tbody tr th {\n",
       "        vertical-align: top;\n",
       "    }\n",
       "\n",
       "    .dataframe thead th {\n",
       "        text-align: right;\n",
       "    }\n",
       "</style>\n",
       "<table border=\"1\" class=\"dataframe\">\n",
       "  <thead>\n",
       "    <tr style=\"text-align: right;\">\n",
       "      <th></th>\n",
       "      <th>A</th>\n",
       "      <th>B</th>\n",
       "      <th>C</th>\n",
       "      <th>D</th>\n",
       "    </tr>\n",
       "  </thead>\n",
       "  <tbody>\n",
       "    <tr>\n",
       "      <td>2013-01-01</td>\n",
       "      <td>0.615106</td>\n",
       "      <td>-1.800160</td>\n",
       "      <td>-1.341939</td>\n",
       "      <td>-0.880899</td>\n",
       "    </tr>\n",
       "    <tr>\n",
       "      <td>2013-01-02</td>\n",
       "      <td>-0.720576</td>\n",
       "      <td>0.319607</td>\n",
       "      <td>-0.396350</td>\n",
       "      <td>-0.595429</td>\n",
       "    </tr>\n",
       "    <tr>\n",
       "      <td>2013-01-03</td>\n",
       "      <td>1.058334</td>\n",
       "      <td>-0.696447</td>\n",
       "      <td>-1.017298</td>\n",
       "      <td>0.614211</td>\n",
       "    </tr>\n",
       "    <tr>\n",
       "      <td>2013-01-04</td>\n",
       "      <td>-0.298454</td>\n",
       "      <td>-1.293276</td>\n",
       "      <td>-0.425083</td>\n",
       "      <td>-0.218095</td>\n",
       "    </tr>\n",
       "    <tr>\n",
       "      <td>2013-01-05</td>\n",
       "      <td>0.625372</td>\n",
       "      <td>0.332981</td>\n",
       "      <td>-0.405736</td>\n",
       "      <td>-0.692614</td>\n",
       "    </tr>\n",
       "    <tr>\n",
       "      <td>2013-01-06</td>\n",
       "      <td>0.700298</td>\n",
       "      <td>-0.836826</td>\n",
       "      <td>-1.057017</td>\n",
       "      <td>0.257594</td>\n",
       "    </tr>\n",
       "  </tbody>\n",
       "</table>\n",
       "</div>"
      ],
      "text/plain": [
       "                   A         B         C         D\n",
       "2013-01-01  0.615106 -1.800160 -1.341939 -0.880899\n",
       "2013-01-02 -0.720576  0.319607 -0.396350 -0.595429\n",
       "2013-01-03  1.058334 -0.696447 -1.017298  0.614211\n",
       "2013-01-04 -0.298454 -1.293276 -0.425083 -0.218095\n",
       "2013-01-05  0.625372  0.332981 -0.405736 -0.692614\n",
       "2013-01-06  0.700298 -0.836826 -1.057017  0.257594"
      ]
     },
     "execution_count": 32,
     "metadata": {},
     "output_type": "execute_result"
    }
   ],
   "source": [
    "# 9) Time series indexing\n",
    "# Create a date range, a 2d array, a list from a string, and bundle all of these into a data frame\n",
    "dates = pd.date_range('20130101', periods=6)\n",
    "array = np.random.randn(6, 4)\n",
    "df = pd.DataFrame(array, index=dates, columns=list('ABCD'))\n",
    "df"
   ]
  },
  {
   "cell_type": "code",
   "execution_count": 33,
   "metadata": {
    "colab": {
     "base_uri": "https://localhost:8080/",
     "height": 235
    },
    "colab_type": "code",
    "id": "aDTK0vJ59yCt",
    "outputId": "d83aff05-aff8-42ba-cf29-78b9760e2571"
   },
   "outputs": [
    {
     "data": {
      "text/html": [
       "<div>\n",
       "<style scoped>\n",
       "    .dataframe tbody tr th:only-of-type {\n",
       "        vertical-align: middle;\n",
       "    }\n",
       "\n",
       "    .dataframe tbody tr th {\n",
       "        vertical-align: top;\n",
       "    }\n",
       "\n",
       "    .dataframe thead th {\n",
       "        text-align: right;\n",
       "    }\n",
       "</style>\n",
       "<table border=\"1\" class=\"dataframe\">\n",
       "  <thead>\n",
       "    <tr style=\"text-align: right;\">\n",
       "      <th></th>\n",
       "      <th>A</th>\n",
       "      <th>B</th>\n",
       "      <th>C</th>\n",
       "      <th>D</th>\n",
       "    </tr>\n",
       "  </thead>\n",
       "  <tbody>\n",
       "    <tr>\n",
       "      <td>2013-01-01</td>\n",
       "      <td>999.000000</td>\n",
       "      <td>-1.800160</td>\n",
       "      <td>-1.341939</td>\n",
       "      <td>-0.880899</td>\n",
       "    </tr>\n",
       "    <tr>\n",
       "      <td>2013-01-02</td>\n",
       "      <td>-0.720576</td>\n",
       "      <td>0.319607</td>\n",
       "      <td>-0.396350</td>\n",
       "      <td>-0.595429</td>\n",
       "    </tr>\n",
       "    <tr>\n",
       "      <td>2013-01-03</td>\n",
       "      <td>1.058334</td>\n",
       "      <td>-0.696447</td>\n",
       "      <td>-1.017298</td>\n",
       "      <td>0.614211</td>\n",
       "    </tr>\n",
       "    <tr>\n",
       "      <td>2013-01-04</td>\n",
       "      <td>-0.298454</td>\n",
       "      <td>-1.293276</td>\n",
       "      <td>-0.425083</td>\n",
       "      <td>-0.218095</td>\n",
       "    </tr>\n",
       "    <tr>\n",
       "      <td>2013-01-05</td>\n",
       "      <td>0.625372</td>\n",
       "      <td>0.332981</td>\n",
       "      <td>-0.405736</td>\n",
       "      <td>-0.692614</td>\n",
       "    </tr>\n",
       "    <tr>\n",
       "      <td>2013-01-06</td>\n",
       "      <td>0.700298</td>\n",
       "      <td>-0.836826</td>\n",
       "      <td>-1.057017</td>\n",
       "      <td>-999.000000</td>\n",
       "    </tr>\n",
       "  </tbody>\n",
       "</table>\n",
       "</div>"
      ],
      "text/plain": [
       "                     A         B         C           D\n",
       "2013-01-01  999.000000 -1.800160 -1.341939   -0.880899\n",
       "2013-01-02   -0.720576  0.319607 -0.396350   -0.595429\n",
       "2013-01-03    1.058334 -0.696447 -1.017298    0.614211\n",
       "2013-01-04   -0.298454 -1.293276 -0.425083   -0.218095\n",
       "2013-01-05    0.625372  0.332981 -0.405736   -0.692614\n",
       "2013-01-06    0.700298 -0.836826 -1.057017 -999.000000"
      ]
     },
     "execution_count": 33,
     "metadata": {},
     "output_type": "execute_result"
    }
   ],
   "source": [
    "# Set value in df by label, position\n",
    "df.at[dates[0], 'A'] = 999\n",
    "df.iat[5, 3] = -999\n",
    "df"
   ]
  },
  {
   "cell_type": "code",
   "execution_count": 34,
   "metadata": {
    "colab": {
     "base_uri": "https://localhost:8080/",
     "height": 142
    },
    "colab_type": "code",
    "id": "RkmhxpSx9yCu",
    "outputId": "8e55ca58-2302-4082-e26f-3c9817429ea0"
   },
   "outputs": [
    {
     "data": {
      "text/html": [
       "<div>\n",
       "<style scoped>\n",
       "    .dataframe tbody tr th:only-of-type {\n",
       "        vertical-align: middle;\n",
       "    }\n",
       "\n",
       "    .dataframe tbody tr th {\n",
       "        vertical-align: top;\n",
       "    }\n",
       "\n",
       "    .dataframe thead th {\n",
       "        text-align: right;\n",
       "    }\n",
       "</style>\n",
       "<table border=\"1\" class=\"dataframe\">\n",
       "  <thead>\n",
       "    <tr style=\"text-align: right;\">\n",
       "      <th></th>\n",
       "      <th>A</th>\n",
       "      <th>B</th>\n",
       "    </tr>\n",
       "  </thead>\n",
       "  <tbody>\n",
       "    <tr>\n",
       "      <td>2013-01-02</td>\n",
       "      <td>-0.720576</td>\n",
       "      <td>0.319607</td>\n",
       "    </tr>\n",
       "    <tr>\n",
       "      <td>2013-01-03</td>\n",
       "      <td>1.058334</td>\n",
       "      <td>-0.696447</td>\n",
       "    </tr>\n",
       "    <tr>\n",
       "      <td>2013-01-04</td>\n",
       "      <td>-0.298454</td>\n",
       "      <td>-1.293276</td>\n",
       "    </tr>\n",
       "  </tbody>\n",
       "</table>\n",
       "</div>"
      ],
      "text/plain": [
       "                   A         B\n",
       "2013-01-02 -0.720576  0.319607\n",
       "2013-01-03  1.058334 -0.696447\n",
       "2013-01-04 -0.298454 -1.293276"
      ]
     },
     "execution_count": 34,
     "metadata": {},
     "output_type": "execute_result"
    }
   ],
   "source": [
    "# Use .loc to slice rows and subset columns\n",
    "df.loc['20130102':'20130104', ['A', 'B']]"
   ]
  },
  {
   "cell_type": "code",
   "execution_count": 35,
   "metadata": {
    "colab": {
     "base_uri": "https://localhost:8080/",
     "height": 34
    },
    "colab_type": "code",
    "id": "psx1TFgU9yCw",
    "outputId": "0462b95d-3a07-4059-8db7-49c780ef82c4"
   },
   "outputs": [
    {
     "data": {
      "text/plain": [
       "True"
      ]
     },
     "execution_count": 35,
     "metadata": {},
     "output_type": "execute_result"
    }
   ],
   "source": [
    "# And show can change the dataframe back to an array\n",
    "np.array_equal(array,df.to_numpy())"
   ]
  },
  {
   "cell_type": "code",
   "execution_count": 36,
   "metadata": {
    "colab": {
     "base_uri": "https://localhost:8080/",
     "height": 297
    },
    "colab_type": "code",
    "id": "IlVIpULJ9yCx",
    "outputId": "4cdaf0f8-bf79-4434-891b-a911131da518"
   },
   "outputs": [
    {
     "data": {
      "text/html": [
       "<div>\n",
       "<style scoped>\n",
       "    .dataframe tbody tr th:only-of-type {\n",
       "        vertical-align: middle;\n",
       "    }\n",
       "\n",
       "    .dataframe tbody tr th {\n",
       "        vertical-align: top;\n",
       "    }\n",
       "\n",
       "    .dataframe thead th {\n",
       "        text-align: right;\n",
       "    }\n",
       "</style>\n",
       "<table border=\"1\" class=\"dataframe\">\n",
       "  <thead>\n",
       "    <tr style=\"text-align: right;\">\n",
       "      <th></th>\n",
       "      <th>A</th>\n",
       "      <th>B</th>\n",
       "      <th>C</th>\n",
       "      <th>D</th>\n",
       "    </tr>\n",
       "  </thead>\n",
       "  <tbody>\n",
       "    <tr>\n",
       "      <td>count</td>\n",
       "      <td>6.000000</td>\n",
       "      <td>6.000000</td>\n",
       "      <td>6.000000</td>\n",
       "      <td>6.000000</td>\n",
       "    </tr>\n",
       "    <tr>\n",
       "      <td>mean</td>\n",
       "      <td>166.727496</td>\n",
       "      <td>-0.662354</td>\n",
       "      <td>-0.773904</td>\n",
       "      <td>-166.795471</td>\n",
       "    </tr>\n",
       "    <tr>\n",
       "      <td>std</td>\n",
       "      <td>407.729141</td>\n",
       "      <td>0.857812</td>\n",
       "      <td>0.415170</td>\n",
       "      <td>407.695636</td>\n",
       "    </tr>\n",
       "    <tr>\n",
       "      <td>min</td>\n",
       "      <td>-0.720576</td>\n",
       "      <td>-1.800160</td>\n",
       "      <td>-1.341939</td>\n",
       "      <td>-999.000000</td>\n",
       "    </tr>\n",
       "    <tr>\n",
       "      <td>25%</td>\n",
       "      <td>-0.067498</td>\n",
       "      <td>-1.179163</td>\n",
       "      <td>-1.047087</td>\n",
       "      <td>-0.833828</td>\n",
       "    </tr>\n",
       "    <tr>\n",
       "      <td>50%</td>\n",
       "      <td>0.662835</td>\n",
       "      <td>-0.766637</td>\n",
       "      <td>-0.721191</td>\n",
       "      <td>-0.644021</td>\n",
       "    </tr>\n",
       "    <tr>\n",
       "      <td>75%</td>\n",
       "      <td>0.968825</td>\n",
       "      <td>0.065594</td>\n",
       "      <td>-0.410573</td>\n",
       "      <td>-0.312429</td>\n",
       "    </tr>\n",
       "    <tr>\n",
       "      <td>max</td>\n",
       "      <td>999.000000</td>\n",
       "      <td>0.332981</td>\n",
       "      <td>-0.396350</td>\n",
       "      <td>0.614211</td>\n",
       "    </tr>\n",
       "  </tbody>\n",
       "</table>\n",
       "</div>"
      ],
      "text/plain": [
       "                A         B         C           D\n",
       "count    6.000000  6.000000  6.000000    6.000000\n",
       "mean   166.727496 -0.662354 -0.773904 -166.795471\n",
       "std    407.729141  0.857812  0.415170  407.695636\n",
       "min     -0.720576 -1.800160 -1.341939 -999.000000\n",
       "25%     -0.067498 -1.179163 -1.047087   -0.833828\n",
       "50%      0.662835 -0.766637 -0.721191   -0.644021\n",
       "75%      0.968825  0.065594 -0.410573   -0.312429\n",
       "max    999.000000  0.332981 -0.396350    0.614211"
      ]
     },
     "execution_count": 36,
     "metadata": {},
     "output_type": "execute_result"
    }
   ],
   "source": [
    "# Describe, copy, add index\n",
    "df.describe()"
   ]
  },
  {
   "cell_type": "code",
   "execution_count": 37,
   "metadata": {
    "colab": {
     "base_uri": "https://localhost:8080/",
     "height": 235
    },
    "colab_type": "code",
    "id": "0thQIW1W9yCy",
    "outputId": "67e798af-0939-4e9f-eae6-7c2a36aa2d1a"
   },
   "outputs": [
    {
     "data": {
      "text/html": [
       "<div>\n",
       "<style scoped>\n",
       "    .dataframe tbody tr th:only-of-type {\n",
       "        vertical-align: middle;\n",
       "    }\n",
       "\n",
       "    .dataframe tbody tr th {\n",
       "        vertical-align: top;\n",
       "    }\n",
       "\n",
       "    .dataframe thead th {\n",
       "        text-align: right;\n",
       "    }\n",
       "</style>\n",
       "<table border=\"1\" class=\"dataframe\">\n",
       "  <thead>\n",
       "    <tr style=\"text-align: right;\">\n",
       "      <th></th>\n",
       "      <th>A</th>\n",
       "      <th>B</th>\n",
       "      <th>C</th>\n",
       "      <th>D</th>\n",
       "    </tr>\n",
       "  </thead>\n",
       "  <tbody>\n",
       "    <tr>\n",
       "      <td>2013-01-01</td>\n",
       "      <td>-999.000000</td>\n",
       "      <td>-1.800160</td>\n",
       "      <td>-1.341939</td>\n",
       "      <td>-0.880899</td>\n",
       "    </tr>\n",
       "    <tr>\n",
       "      <td>2013-01-02</td>\n",
       "      <td>-0.720576</td>\n",
       "      <td>-0.319607</td>\n",
       "      <td>-0.396350</td>\n",
       "      <td>-0.595429</td>\n",
       "    </tr>\n",
       "    <tr>\n",
       "      <td>2013-01-03</td>\n",
       "      <td>-1.058334</td>\n",
       "      <td>-0.696447</td>\n",
       "      <td>-1.017298</td>\n",
       "      <td>-0.614211</td>\n",
       "    </tr>\n",
       "    <tr>\n",
       "      <td>2013-01-04</td>\n",
       "      <td>-0.298454</td>\n",
       "      <td>-1.293276</td>\n",
       "      <td>-0.425083</td>\n",
       "      <td>-0.218095</td>\n",
       "    </tr>\n",
       "    <tr>\n",
       "      <td>2013-01-05</td>\n",
       "      <td>-0.625372</td>\n",
       "      <td>-0.332981</td>\n",
       "      <td>-0.405736</td>\n",
       "      <td>-0.692614</td>\n",
       "    </tr>\n",
       "    <tr>\n",
       "      <td>2013-01-06</td>\n",
       "      <td>-0.700298</td>\n",
       "      <td>-0.836826</td>\n",
       "      <td>-1.057017</td>\n",
       "      <td>-999.000000</td>\n",
       "    </tr>\n",
       "  </tbody>\n",
       "</table>\n",
       "</div>"
      ],
      "text/plain": [
       "                     A         B         C           D\n",
       "2013-01-01 -999.000000 -1.800160 -1.341939   -0.880899\n",
       "2013-01-02   -0.720576 -0.319607 -0.396350   -0.595429\n",
       "2013-01-03   -1.058334 -0.696447 -1.017298   -0.614211\n",
       "2013-01-04   -0.298454 -1.293276 -0.425083   -0.218095\n",
       "2013-01-05   -0.625372 -0.332981 -0.405736   -0.692614\n",
       "2013-01-06   -0.700298 -0.836826 -1.057017 -999.000000"
      ]
     },
     "execution_count": 37,
     "metadata": {},
     "output_type": "execute_result"
    }
   ],
   "source": [
    "df_copy = df.copy()\n",
    "df_copy[df_copy > 0] = -df_copy\n",
    "df_copy"
   ]
  },
  {
   "cell_type": "code",
   "execution_count": 38,
   "metadata": {
    "colab": {
     "base_uri": "https://localhost:8080/",
     "height": 235
    },
    "colab_type": "code",
    "id": "hUhbcLVB9yC1",
    "outputId": "f09a43e1-3315-4bca-8d67-3e1087f6abc7"
   },
   "outputs": [
    {
     "data": {
      "text/html": [
       "<div>\n",
       "<style scoped>\n",
       "    .dataframe tbody tr th:only-of-type {\n",
       "        vertical-align: middle;\n",
       "    }\n",
       "\n",
       "    .dataframe tbody tr th {\n",
       "        vertical-align: top;\n",
       "    }\n",
       "\n",
       "    .dataframe thead th {\n",
       "        text-align: right;\n",
       "    }\n",
       "</style>\n",
       "<table border=\"1\" class=\"dataframe\">\n",
       "  <thead>\n",
       "    <tr style=\"text-align: right;\">\n",
       "      <th></th>\n",
       "      <th>A</th>\n",
       "      <th>B</th>\n",
       "      <th>C</th>\n",
       "      <th>D</th>\n",
       "    </tr>\n",
       "  </thead>\n",
       "  <tbody>\n",
       "    <tr>\n",
       "      <td>2013-01-01</td>\n",
       "      <td>1000.000000</td>\n",
       "      <td>-0.800160</td>\n",
       "      <td>-0.341939</td>\n",
       "      <td>0.119101</td>\n",
       "    </tr>\n",
       "    <tr>\n",
       "      <td>2013-01-02</td>\n",
       "      <td>0.279424</td>\n",
       "      <td>1.319607</td>\n",
       "      <td>0.603650</td>\n",
       "      <td>0.404571</td>\n",
       "    </tr>\n",
       "    <tr>\n",
       "      <td>2013-01-03</td>\n",
       "      <td>2.058334</td>\n",
       "      <td>0.303553</td>\n",
       "      <td>-0.017298</td>\n",
       "      <td>1.614211</td>\n",
       "    </tr>\n",
       "    <tr>\n",
       "      <td>2013-01-04</td>\n",
       "      <td>0.701546</td>\n",
       "      <td>-0.293276</td>\n",
       "      <td>0.574917</td>\n",
       "      <td>0.781905</td>\n",
       "    </tr>\n",
       "    <tr>\n",
       "      <td>2013-01-05</td>\n",
       "      <td>1.625372</td>\n",
       "      <td>1.332981</td>\n",
       "      <td>0.594264</td>\n",
       "      <td>0.307386</td>\n",
       "    </tr>\n",
       "    <tr>\n",
       "      <td>2013-01-06</td>\n",
       "      <td>1.700298</td>\n",
       "      <td>0.163174</td>\n",
       "      <td>-0.057017</td>\n",
       "      <td>-998.000000</td>\n",
       "    </tr>\n",
       "  </tbody>\n",
       "</table>\n",
       "</div>"
      ],
      "text/plain": [
       "                      A         B         C           D\n",
       "2013-01-01  1000.000000 -0.800160 -0.341939    0.119101\n",
       "2013-01-02     0.279424  1.319607  0.603650    0.404571\n",
       "2013-01-03     2.058334  0.303553 -0.017298    1.614211\n",
       "2013-01-04     0.701546 -0.293276  0.574917    0.781905\n",
       "2013-01-05     1.625372  1.332981  0.594264    0.307386\n",
       "2013-01-06     1.700298  0.163174 -0.057017 -998.000000"
      ]
     },
     "execution_count": 38,
     "metadata": {},
     "output_type": "execute_result"
    }
   ],
   "source": [
    "s = pd.Series([1] * len(df), index=dates)\n",
    "df.add(s, axis='index')"
   ]
  },
  {
   "cell_type": "code",
   "execution_count": 39,
   "metadata": {
    "colab": {
     "base_uri": "https://localhost:8080/",
     "height": 235
    },
    "colab_type": "code",
    "id": "Ux5o__Y89yC2",
    "outputId": "31311f45-d901-41ec-a4f6-5e66040a0e73"
   },
   "outputs": [
    {
     "data": {
      "text/html": [
       "<div>\n",
       "<style scoped>\n",
       "    .dataframe tbody tr th:only-of-type {\n",
       "        vertical-align: middle;\n",
       "    }\n",
       "\n",
       "    .dataframe tbody tr th {\n",
       "        vertical-align: top;\n",
       "    }\n",
       "\n",
       "    .dataframe thead th {\n",
       "        text-align: right;\n",
       "    }\n",
       "</style>\n",
       "<table border=\"1\" class=\"dataframe\">\n",
       "  <thead>\n",
       "    <tr style=\"text-align: right;\">\n",
       "      <th></th>\n",
       "      <th>A</th>\n",
       "      <th>B</th>\n",
       "      <th>C</th>\n",
       "      <th>D</th>\n",
       "      <th>E</th>\n",
       "    </tr>\n",
       "  </thead>\n",
       "  <tbody>\n",
       "    <tr>\n",
       "      <td>2013-01-01</td>\n",
       "      <td>999.000000</td>\n",
       "      <td>-1.800160</td>\n",
       "      <td>-1.341939</td>\n",
       "      <td>-0.880899</td>\n",
       "      <td>-0.880899</td>\n",
       "    </tr>\n",
       "    <tr>\n",
       "      <td>2013-01-02</td>\n",
       "      <td>-0.720576</td>\n",
       "      <td>0.319607</td>\n",
       "      <td>-0.396350</td>\n",
       "      <td>-0.595429</td>\n",
       "      <td>-1.476328</td>\n",
       "    </tr>\n",
       "    <tr>\n",
       "      <td>2013-01-03</td>\n",
       "      <td>1.058334</td>\n",
       "      <td>-0.696447</td>\n",
       "      <td>-1.017298</td>\n",
       "      <td>0.614211</td>\n",
       "      <td>-0.862117</td>\n",
       "    </tr>\n",
       "    <tr>\n",
       "      <td>2013-01-04</td>\n",
       "      <td>-0.298454</td>\n",
       "      <td>-1.293276</td>\n",
       "      <td>-0.425083</td>\n",
       "      <td>-0.218095</td>\n",
       "      <td>-1.080213</td>\n",
       "    </tr>\n",
       "    <tr>\n",
       "      <td>2013-01-05</td>\n",
       "      <td>0.625372</td>\n",
       "      <td>0.332981</td>\n",
       "      <td>-0.405736</td>\n",
       "      <td>-0.692614</td>\n",
       "      <td>-1.772827</td>\n",
       "    </tr>\n",
       "    <tr>\n",
       "      <td>2013-01-06</td>\n",
       "      <td>0.700298</td>\n",
       "      <td>-0.836826</td>\n",
       "      <td>-1.057017</td>\n",
       "      <td>-999.000000</td>\n",
       "      <td>-1000.772827</td>\n",
       "    </tr>\n",
       "  </tbody>\n",
       "</table>\n",
       "</div>"
      ],
      "text/plain": [
       "                     A         B         C           D            E\n",
       "2013-01-01  999.000000 -1.800160 -1.341939   -0.880899    -0.880899\n",
       "2013-01-02   -0.720576  0.319607 -0.396350   -0.595429    -1.476328\n",
       "2013-01-03    1.058334 -0.696447 -1.017298    0.614211    -0.862117\n",
       "2013-01-04   -0.298454 -1.293276 -0.425083   -0.218095    -1.080213\n",
       "2013-01-05    0.625372  0.332981 -0.405736   -0.692614    -1.772827\n",
       "2013-01-06    0.700298 -0.836826 -1.057017 -999.000000 -1000.772827"
      ]
     },
     "execution_count": 39,
     "metadata": {},
     "output_type": "execute_result"
    }
   ],
   "source": [
    "df['E'] = np.cumsum(df['D'])\n",
    "df"
   ]
  },
  {
   "cell_type": "code",
   "execution_count": 40,
   "metadata": {
    "colab": {
     "base_uri": "https://localhost:8080/",
     "height": 153
    },
    "colab_type": "code",
    "id": "uyIQFqi89yC4",
    "outputId": "3d1e989a-ade5-4a35-f6c6-aa47967ac211"
   },
   "outputs": [
    {
     "data": {
      "text/plain": [
       "[                     A         B         C         D         E\n",
       " 2013-01-01  999.000000 -1.800160 -1.341939 -0.880899 -0.880899\n",
       " 2013-01-02   -0.720576  0.319607 -0.396350 -0.595429 -1.476328,\n",
       "                    A         B         C           D            E\n",
       " 2013-01-03  1.058334 -0.696447 -1.017298    0.614211    -0.862117\n",
       " 2013-01-04 -0.298454 -1.293276 -0.425083   -0.218095    -1.080213\n",
       " 2013-01-05  0.625372  0.332981 -0.405736   -0.692614    -1.772827\n",
       " 2013-01-06  0.700298 -0.836826 -1.057017 -999.000000 -1000.772827]"
      ]
     },
     "execution_count": 40,
     "metadata": {},
     "output_type": "execute_result"
    }
   ],
   "source": [
    "# More spliting, concatenating\n",
    "pieces = [df[:2],df[2:]]\n",
    "pieces"
   ]
  },
  {
   "cell_type": "code",
   "execution_count": 41,
   "metadata": {
    "colab": {
     "base_uri": "https://localhost:8080/",
     "height": 235
    },
    "colab_type": "code",
    "id": "ZOp6VB__9yC6",
    "outputId": "d1beb1e7-08fd-48a9-f87a-771507c27b8c"
   },
   "outputs": [
    {
     "data": {
      "text/html": [
       "<div>\n",
       "<style scoped>\n",
       "    .dataframe tbody tr th:only-of-type {\n",
       "        vertical-align: middle;\n",
       "    }\n",
       "\n",
       "    .dataframe tbody tr th {\n",
       "        vertical-align: top;\n",
       "    }\n",
       "\n",
       "    .dataframe thead th {\n",
       "        text-align: right;\n",
       "    }\n",
       "</style>\n",
       "<table border=\"1\" class=\"dataframe\">\n",
       "  <thead>\n",
       "    <tr style=\"text-align: right;\">\n",
       "      <th></th>\n",
       "      <th>A</th>\n",
       "      <th>B</th>\n",
       "      <th>C</th>\n",
       "      <th>D</th>\n",
       "      <th>E</th>\n",
       "    </tr>\n",
       "  </thead>\n",
       "  <tbody>\n",
       "    <tr>\n",
       "      <td>2013-01-01</td>\n",
       "      <td>999.000000</td>\n",
       "      <td>-1.800160</td>\n",
       "      <td>-1.341939</td>\n",
       "      <td>-0.880899</td>\n",
       "      <td>-0.880899</td>\n",
       "    </tr>\n",
       "    <tr>\n",
       "      <td>2013-01-02</td>\n",
       "      <td>-0.720576</td>\n",
       "      <td>0.319607</td>\n",
       "      <td>-0.396350</td>\n",
       "      <td>-0.595429</td>\n",
       "      <td>-1.476328</td>\n",
       "    </tr>\n",
       "    <tr>\n",
       "      <td>2013-01-03</td>\n",
       "      <td>1.058334</td>\n",
       "      <td>-0.696447</td>\n",
       "      <td>-1.017298</td>\n",
       "      <td>0.614211</td>\n",
       "      <td>-0.862117</td>\n",
       "    </tr>\n",
       "    <tr>\n",
       "      <td>2013-01-04</td>\n",
       "      <td>-0.298454</td>\n",
       "      <td>-1.293276</td>\n",
       "      <td>-0.425083</td>\n",
       "      <td>-0.218095</td>\n",
       "      <td>-1.080213</td>\n",
       "    </tr>\n",
       "    <tr>\n",
       "      <td>2013-01-05</td>\n",
       "      <td>0.625372</td>\n",
       "      <td>0.332981</td>\n",
       "      <td>-0.405736</td>\n",
       "      <td>-0.692614</td>\n",
       "      <td>-1.772827</td>\n",
       "    </tr>\n",
       "    <tr>\n",
       "      <td>2013-01-06</td>\n",
       "      <td>0.700298</td>\n",
       "      <td>-0.836826</td>\n",
       "      <td>-1.057017</td>\n",
       "      <td>-999.000000</td>\n",
       "      <td>-1000.772827</td>\n",
       "    </tr>\n",
       "  </tbody>\n",
       "</table>\n",
       "</div>"
      ],
      "text/plain": [
       "                     A         B         C           D            E\n",
       "2013-01-01  999.000000 -1.800160 -1.341939   -0.880899    -0.880899\n",
       "2013-01-02   -0.720576  0.319607 -0.396350   -0.595429    -1.476328\n",
       "2013-01-03    1.058334 -0.696447 -1.017298    0.614211    -0.862117\n",
       "2013-01-04   -0.298454 -1.293276 -0.425083   -0.218095    -1.080213\n",
       "2013-01-05    0.625372  0.332981 -0.405736   -0.692614    -1.772827\n",
       "2013-01-06    0.700298 -0.836826 -1.057017 -999.000000 -1000.772827"
      ]
     },
     "execution_count": 41,
     "metadata": {},
     "output_type": "execute_result"
    }
   ],
   "source": [
    "pd.concat(pieces)"
   ]
  },
  {
   "cell_type": "code",
   "execution_count": 42,
   "metadata": {
    "colab": {
     "base_uri": "https://localhost:8080/",
     "height": 282
    },
    "colab_type": "code",
    "id": "gOavgDAz9yC8",
    "outputId": "5ee40f2b-bade-4cc1-d805-6b53c369f6e9"
   },
   "outputs": [
    {
     "data": {
      "text/plain": [
       "<matplotlib.collections.PathCollection at 0x1a1eac6a90>"
      ]
     },
     "execution_count": 42,
     "metadata": {},
     "output_type": "execute_result"
    },
    {
     "data": {
      "image/png": "[encoded data removed]",
      "text/plain": [
       "<Figure size 432x288 with 1 Axes>"
      ]
     },
     "metadata": {
      "needs_background": "light"
     },
     "output_type": "display_data"
    }
   ],
   "source": [
    "# 10) Ploting a manual normal distribution\n",
    "# Make an numpy array using a normal distribution, round to 1dp\n",
    "# Then plot frequencies using a data frame and matplotlib\n",
    "ser = pd.Series(np.random.randn(1000000))\n",
    "ser = np.round(ser,1)\n",
    "vals = pd.DataFrame(ser.value_counts(), columns=[\"numbers\"])\n",
    "plt.scatter(vals.index, vals['numbers'])"
   ]
  },
  {
   "cell_type": "code",
   "execution_count": 43,
   "metadata": {
    "colab": {
     "base_uri": "https://localhost:8080/",
     "height": 119
    },
    "colab_type": "code",
    "id": "D3MqN8AX9yC9",
    "outputId": "299882b2-19e0-4980-e29f-f50c974d26aa"
   },
   "outputs": [
    {
     "name": "stdout",
     "output_type": "stream",
     "text": [
      "<class 'pandas.core.frame.DataFrame'>\n",
      "Float64Index: 94 entries, 0.1 to 4.5\n",
      "Data columns (total 1 columns):\n",
      "numbers    94 non-null int64\n",
      "dtypes: int64(1)\n",
      "memory usage: 1.5 KB\n"
     ]
    }
   ],
   "source": [
    "vals.info()"
   ]
  },
  {
   "cell_type": "code",
   "execution_count": 44,
   "metadata": {
    "colab": {
     "base_uri": "https://localhost:8080/",
     "height": 129
    },
    "colab_type": "code",
    "id": "T8aCzw7o9yC-",
    "outputId": "cfb7d0cf-d1b2-4821-d43a-3fdf4a2ae9bc"
   },
   "outputs": [
    {
     "data": {
      "text/html": [
       "<div>\n",
       "<style scoped>\n",
       "    .dataframe tbody tr th:only-of-type {\n",
       "        vertical-align: middle;\n",
       "    }\n",
       "\n",
       "    .dataframe tbody tr th {\n",
       "        vertical-align: top;\n",
       "    }\n",
       "\n",
       "    .dataframe thead th {\n",
       "        text-align: right;\n",
       "    }\n",
       "</style>\n",
       "<table border=\"1\" class=\"dataframe\">\n",
       "  <thead>\n",
       "    <tr style=\"text-align: right;\">\n",
       "      <th></th>\n",
       "      <th>0.1</th>\n",
       "      <th>-0.0</th>\n",
       "      <th>-0.1</th>\n",
       "      <th>-0.2</th>\n",
       "      <th>0.2</th>\n",
       "      <th>0.3</th>\n",
       "      <th>-0.3</th>\n",
       "      <th>0.4</th>\n",
       "      <th>-0.4</th>\n",
       "      <th>-0.5</th>\n",
       "      <th>...</th>\n",
       "      <th>-4.1</th>\n",
       "      <th>-4.3</th>\n",
       "      <th>-4.4</th>\n",
       "      <th>4.3</th>\n",
       "      <th>4.6</th>\n",
       "      <th>4.4</th>\n",
       "      <th>4.8</th>\n",
       "      <th>-4.7</th>\n",
       "      <th>4.7</th>\n",
       "      <th>4.5</th>\n",
       "    </tr>\n",
       "  </thead>\n",
       "  <tbody>\n",
       "    <tr>\n",
       "      <td>numbers</td>\n",
       "      <td>39798</td>\n",
       "      <td>39610</td>\n",
       "      <td>39553</td>\n",
       "      <td>39259</td>\n",
       "      <td>38799</td>\n",
       "      <td>38300</td>\n",
       "      <td>37819</td>\n",
       "      <td>36850</td>\n",
       "      <td>36786</td>\n",
       "      <td>35405</td>\n",
       "      <td>...</td>\n",
       "      <td>7</td>\n",
       "      <td>6</td>\n",
       "      <td>5</td>\n",
       "      <td>4</td>\n",
       "      <td>3</td>\n",
       "      <td>3</td>\n",
       "      <td>2</td>\n",
       "      <td>2</td>\n",
       "      <td>2</td>\n",
       "      <td>1</td>\n",
       "    </tr>\n",
       "  </tbody>\n",
       "</table>\n",
       "<p>1 rows × 94 columns</p>\n",
       "</div>"
      ],
      "text/plain": [
       "           0.1   -0.0   -0.1   -0.2    0.2    0.3   -0.3    0.4   -0.4   -0.5  \\\n",
       "numbers  39798  39610  39553  39259  38799  38300  37819  36850  36786  35405   \n",
       "\n",
       "         ...  -4.1  -4.3  -4.4   4.3   4.6   4.4   4.8  -4.7   4.7   4.5  \n",
       "numbers  ...     7     6     5     4     3     3     2     2     2     1  \n",
       "\n",
       "[1 rows x 94 columns]"
      ]
     },
     "execution_count": 44,
     "metadata": {},
     "output_type": "execute_result"
    }
   ],
   "source": [
    "vals.T"
   ]
  },
  {
   "cell_type": "code",
   "execution_count": 45,
   "metadata": {
    "colab": {
     "base_uri": "https://localhost:8080/",
     "height": 282
    },
    "colab_type": "code",
    "id": "h2NS183d9yDA",
    "outputId": "c5f430c3-91d5-4b02-a54b-3aa39fcbd99e"
   },
   "outputs": [
    {
     "data": {
      "text/plain": [
       "<matplotlib.axes._subplots.AxesSubplot at 0x1a1eb01810>"
      ]
     },
     "execution_count": 45,
     "metadata": {},
     "output_type": "execute_result"
    },
    {
     "data": {
      "image/png": "[encoded data removed]",
      "text/plain": [
       "<Figure size 432x288 with 1 Axes>"
      ]
     },
     "metadata": {
      "needs_background": "light"
     },
     "output_type": "display_data"
    }
   ],
   "source": [
    "ser = pd.Series(np.random.randn(100000))\n",
    "\n",
    "ser.plot.kde()"
   ]
  },
  {
   "cell_type": "code",
   "execution_count": 46,
   "metadata": {
    "colab": {
     "base_uri": "https://localhost:8080/",
     "height": 34
    },
    "colab_type": "code",
    "id": "YcAM-lZo9yDB",
    "outputId": "45667790-075c-4eec-d86f-c282b8270d1f"
   },
   "outputs": [
    {
     "data": {
      "text/plain": [
       "array([ 0.14486041, -1.76874092, -0.67600908, -0.06487239,  0.05396454])"
      ]
     },
     "execution_count": 46,
     "metadata": {},
     "output_type": "execute_result"
    }
   ],
   "source": [
    "# 11) Numpy random numbers/lists\n",
    "np.random.randn(5)"
   ]
  },
  {
   "cell_type": "code",
   "execution_count": 47,
   "metadata": {
    "colab": {
     "base_uri": "https://localhost:8080/",
     "height": 102
    },
    "colab_type": "code",
    "id": "9rwL9LO-9yDE",
    "outputId": "fcf14e8b-a625-4186-8ac8-5e124f654077"
   },
   "outputs": [
    {
     "data": {
      "text/plain": [
       "array([[ 0.89236439],\n",
       "       [-0.87190458],\n",
       "       [ 0.01552626],\n",
       "       [-1.69556813],\n",
       "       [ 1.18579084]])"
      ]
     },
     "execution_count": 47,
     "metadata": {},
     "output_type": "execute_result"
    }
   ],
   "source": [
    "np.random.randn(5,1)"
   ]
  },
  {
   "cell_type": "code",
   "execution_count": 48,
   "metadata": {
    "colab": {
     "base_uri": "https://localhost:8080/",
     "height": 51
    },
    "colab_type": "code",
    "id": "fSDfzxgP9yDH",
    "outputId": "47e26a10-5d72-4b7a-c256-ed95abf9d8b4"
   },
   "outputs": [
    {
     "data": {
      "text/plain": [
       "[test, train, test, train]\n",
       "Categories (2, object): [test, train]"
      ]
     },
     "execution_count": 48,
     "metadata": {},
     "output_type": "execute_result"
    }
   ],
   "source": [
    "# 12) Pandas categorical type\n",
    "pd.Categorical([\"test\", \"train\", \"test\", \"train\"])"
   ]
  },
  {
   "cell_type": "code",
   "execution_count": 49,
   "metadata": {
    "colab": {
     "base_uri": "https://localhost:8080/",
     "height": 153
    },
    "colab_type": "code",
    "id": "qKrMe4jt9yDI",
    "outputId": "6c1adac6-d55e-41b1-d4c6-d2694bf004de"
   },
   "outputs": [
    {
     "data": {
      "text/plain": [
       "[('bar', 'one'),\n",
       " ('bar', 'two'),\n",
       " ('baz', 'one'),\n",
       " ('baz', 'two'),\n",
       " ('foo', 'one'),\n",
       " ('foo', 'two'),\n",
       " ('qux', 'one'),\n",
       " ('qux', 'two')]"
      ]
     },
     "execution_count": 49,
     "metadata": {},
     "output_type": "execute_result"
    }
   ],
   "source": [
    "# 13) Tuples, pivot tables\n",
    "tuples = list(zip(*[['bar', 'bar', 'baz', 'baz',\n",
    "                      'foo', 'foo', 'qux', 'qux'],\n",
    "                    ['one', 'two', 'one', 'two',\n",
    "                      'one', 'two', 'one', 'two']]))\n",
    "tuples"
   ]
  },
  {
   "cell_type": "code",
   "execution_count": 50,
   "metadata": {
    "colab": {
     "base_uri": "https://localhost:8080/",
     "height": 170
    },
    "colab_type": "code",
    "id": "QrOCkbYu9yDK",
    "outputId": "4e6c7471-c826-4664-9fbb-97c602ccac40"
   },
   "outputs": [
    {
     "data": {
      "text/plain": [
       "MultiIndex([('bar', 'one'),\n",
       "            ('bar', 'two'),\n",
       "            ('baz', 'one'),\n",
       "            ('baz', 'two'),\n",
       "            ('foo', 'one'),\n",
       "            ('foo', 'two'),\n",
       "            ('qux', 'one'),\n",
       "            ('qux', 'two')],\n",
       "           names=['first', 'second'])"
      ]
     },
     "execution_count": 50,
     "metadata": {},
     "output_type": "execute_result"
    }
   ],
   "source": [
    "index = pd.MultiIndex.from_tuples(tuples, names=['first', 'second'])\n",
    "index"
   ]
  },
  {
   "cell_type": "code",
   "execution_count": 51,
   "metadata": {
    "colab": {
     "base_uri": "https://localhost:8080/",
     "height": 328
    },
    "colab_type": "code",
    "id": "dzYhx9PO9yDL",
    "outputId": "7ea7e75b-5f81-47c6-f08d-46a206ead612"
   },
   "outputs": [
    {
     "data": {
      "text/html": [
       "<div>\n",
       "<style scoped>\n",
       "    .dataframe tbody tr th:only-of-type {\n",
       "        vertical-align: middle;\n",
       "    }\n",
       "\n",
       "    .dataframe tbody tr th {\n",
       "        vertical-align: top;\n",
       "    }\n",
       "\n",
       "    .dataframe thead th {\n",
       "        text-align: right;\n",
       "    }\n",
       "</style>\n",
       "<table border=\"1\" class=\"dataframe\">\n",
       "  <thead>\n",
       "    <tr style=\"text-align: right;\">\n",
       "      <th></th>\n",
       "      <th></th>\n",
       "      <th>A</th>\n",
       "      <th>B</th>\n",
       "    </tr>\n",
       "    <tr>\n",
       "      <th>first</th>\n",
       "      <th>second</th>\n",
       "      <th></th>\n",
       "      <th></th>\n",
       "    </tr>\n",
       "  </thead>\n",
       "  <tbody>\n",
       "    <tr>\n",
       "      <td rowspan=\"2\" valign=\"top\">bar</td>\n",
       "      <td>one</td>\n",
       "      <td>-0.910410</td>\n",
       "      <td>0.991803</td>\n",
       "    </tr>\n",
       "    <tr>\n",
       "      <td>two</td>\n",
       "      <td>0.750914</td>\n",
       "      <td>-1.134105</td>\n",
       "    </tr>\n",
       "    <tr>\n",
       "      <td rowspan=\"2\" valign=\"top\">baz</td>\n",
       "      <td>one</td>\n",
       "      <td>-0.999499</td>\n",
       "      <td>-1.099899</td>\n",
       "    </tr>\n",
       "    <tr>\n",
       "      <td>two</td>\n",
       "      <td>-0.353068</td>\n",
       "      <td>1.102704</td>\n",
       "    </tr>\n",
       "    <tr>\n",
       "      <td rowspan=\"2\" valign=\"top\">foo</td>\n",
       "      <td>one</td>\n",
       "      <td>1.499265</td>\n",
       "      <td>1.923522</td>\n",
       "    </tr>\n",
       "    <tr>\n",
       "      <td>two</td>\n",
       "      <td>-0.509760</td>\n",
       "      <td>1.019379</td>\n",
       "    </tr>\n",
       "    <tr>\n",
       "      <td rowspan=\"2\" valign=\"top\">qux</td>\n",
       "      <td>one</td>\n",
       "      <td>0.072208</td>\n",
       "      <td>0.967147</td>\n",
       "    </tr>\n",
       "    <tr>\n",
       "      <td>two</td>\n",
       "      <td>-1.943980</td>\n",
       "      <td>0.160991</td>\n",
       "    </tr>\n",
       "  </tbody>\n",
       "</table>\n",
       "</div>"
      ],
      "text/plain": [
       "                     A         B\n",
       "first second                    \n",
       "bar   one    -0.910410  0.991803\n",
       "      two     0.750914 -1.134105\n",
       "baz   one    -0.999499 -1.099899\n",
       "      two    -0.353068  1.102704\n",
       "foo   one     1.499265  1.923522\n",
       "      two    -0.509760  1.019379\n",
       "qux   one     0.072208  0.967147\n",
       "      two    -1.943980  0.160991"
      ]
     },
     "execution_count": 51,
     "metadata": {},
     "output_type": "execute_result"
    }
   ],
   "source": [
    "df3 = pd.DataFrame(np.random.randn(8, 2), index=index, columns=['A', 'B'])\n",
    "df3"
   ]
  },
  {
   "cell_type": "code",
   "execution_count": 52,
   "metadata": {
    "colab": {
     "base_uri": "https://localhost:8080/",
     "height": 323
    },
    "colab_type": "code",
    "id": "eHiCX0X59yDO",
    "outputId": "26006ae7-e599-47b2-d4d0-3c087e26aeb1"
   },
   "outputs": [
    {
     "data": {
      "text/plain": [
       "first  second   \n",
       "bar    one     A   -0.910410\n",
       "               B    0.991803\n",
       "       two     A    0.750914\n",
       "               B   -1.134105\n",
       "baz    one     A   -0.999499\n",
       "               B   -1.099899\n",
       "       two     A   -0.353068\n",
       "               B    1.102704\n",
       "foo    one     A    1.499265\n",
       "               B    1.923522\n",
       "       two     A   -0.509760\n",
       "               B    1.019379\n",
       "qux    one     A    0.072208\n",
       "               B    0.967147\n",
       "       two     A   -1.943980\n",
       "               B    0.160991\n",
       "dtype: float64"
      ]
     },
     "execution_count": 52,
     "metadata": {},
     "output_type": "execute_result"
    }
   ],
   "source": [
    "df3.stack()"
   ]
  },
  {
   "cell_type": "code",
   "execution_count": 53,
   "metadata": {
    "colab": {
     "base_uri": "https://localhost:8080/",
     "height": 235
    },
    "colab_type": "code",
    "id": "TbWKY8Bd9yDQ",
    "outputId": "03a2de4e-6a58-41af-cb4c-da5998a8eed2"
   },
   "outputs": [
    {
     "data": {
      "text/html": [
       "<div>\n",
       "<style scoped>\n",
       "    .dataframe tbody tr th:only-of-type {\n",
       "        vertical-align: middle;\n",
       "    }\n",
       "\n",
       "    .dataframe tbody tr th {\n",
       "        vertical-align: top;\n",
       "    }\n",
       "\n",
       "    .dataframe thead tr th {\n",
       "        text-align: left;\n",
       "    }\n",
       "\n",
       "    .dataframe thead tr:last-of-type th {\n",
       "        text-align: right;\n",
       "    }\n",
       "</style>\n",
       "<table border=\"1\" class=\"dataframe\">\n",
       "  <thead>\n",
       "    <tr>\n",
       "      <th></th>\n",
       "      <th colspan=\"2\" halign=\"left\">A</th>\n",
       "      <th colspan=\"2\" halign=\"left\">B</th>\n",
       "    </tr>\n",
       "    <tr>\n",
       "      <th>second</th>\n",
       "      <th>one</th>\n",
       "      <th>two</th>\n",
       "      <th>one</th>\n",
       "      <th>two</th>\n",
       "    </tr>\n",
       "    <tr>\n",
       "      <th>first</th>\n",
       "      <th></th>\n",
       "      <th></th>\n",
       "      <th></th>\n",
       "      <th></th>\n",
       "    </tr>\n",
       "  </thead>\n",
       "  <tbody>\n",
       "    <tr>\n",
       "      <td>bar</td>\n",
       "      <td>-0.910410</td>\n",
       "      <td>0.750914</td>\n",
       "      <td>0.991803</td>\n",
       "      <td>-1.134105</td>\n",
       "    </tr>\n",
       "    <tr>\n",
       "      <td>baz</td>\n",
       "      <td>-0.999499</td>\n",
       "      <td>-0.353068</td>\n",
       "      <td>-1.099899</td>\n",
       "      <td>1.102704</td>\n",
       "    </tr>\n",
       "    <tr>\n",
       "      <td>foo</td>\n",
       "      <td>1.499265</td>\n",
       "      <td>-0.509760</td>\n",
       "      <td>1.923522</td>\n",
       "      <td>1.019379</td>\n",
       "    </tr>\n",
       "    <tr>\n",
       "      <td>qux</td>\n",
       "      <td>0.072208</td>\n",
       "      <td>-1.943980</td>\n",
       "      <td>0.967147</td>\n",
       "      <td>0.160991</td>\n",
       "    </tr>\n",
       "  </tbody>\n",
       "</table>\n",
       "</div>"
      ],
      "text/plain": [
       "               A                   B          \n",
       "second       one       two       one       two\n",
       "first                                         \n",
       "bar    -0.910410  0.750914  0.991803 -1.134105\n",
       "baz    -0.999499 -0.353068 -1.099899  1.102704\n",
       "foo     1.499265 -0.509760  1.923522  1.019379\n",
       "qux     0.072208 -1.943980  0.967147  0.160991"
      ]
     },
     "execution_count": 53,
     "metadata": {},
     "output_type": "execute_result"
    }
   ],
   "source": [
    "df3.unstack()"
   ]
  },
  {
   "cell_type": "code",
   "execution_count": 54,
   "metadata": {
    "colab": {
     "base_uri": "https://localhost:8080/",
     "height": 421
    },
    "colab_type": "code",
    "id": "4VYvM0ei9yDR",
    "outputId": "ba43c8fb-96e0-45de-f28c-71d30d1ade2d"
   },
   "outputs": [
    {
     "data": {
      "text/html": [
       "<div>\n",
       "<style scoped>\n",
       "    .dataframe tbody tr th:only-of-type {\n",
       "        vertical-align: middle;\n",
       "    }\n",
       "\n",
       "    .dataframe tbody tr th {\n",
       "        vertical-align: top;\n",
       "    }\n",
       "\n",
       "    .dataframe thead th {\n",
       "        text-align: right;\n",
       "    }\n",
       "</style>\n",
       "<table border=\"1\" class=\"dataframe\">\n",
       "  <thead>\n",
       "    <tr style=\"text-align: right;\">\n",
       "      <th></th>\n",
       "      <th>A</th>\n",
       "      <th>B</th>\n",
       "      <th>C</th>\n",
       "      <th>D</th>\n",
       "      <th>E</th>\n",
       "    </tr>\n",
       "  </thead>\n",
       "  <tbody>\n",
       "    <tr>\n",
       "      <td>0</td>\n",
       "      <td>one</td>\n",
       "      <td>A</td>\n",
       "      <td>foo</td>\n",
       "      <td>-0.936647</td>\n",
       "      <td>-0.754403</td>\n",
       "    </tr>\n",
       "    <tr>\n",
       "      <td>1</td>\n",
       "      <td>one</td>\n",
       "      <td>B</td>\n",
       "      <td>foo</td>\n",
       "      <td>0.263917</td>\n",
       "      <td>0.304491</td>\n",
       "    </tr>\n",
       "    <tr>\n",
       "      <td>2</td>\n",
       "      <td>two</td>\n",
       "      <td>C</td>\n",
       "      <td>foo</td>\n",
       "      <td>1.644249</td>\n",
       "      <td>0.489921</td>\n",
       "    </tr>\n",
       "    <tr>\n",
       "      <td>3</td>\n",
       "      <td>three</td>\n",
       "      <td>A</td>\n",
       "      <td>foo</td>\n",
       "      <td>0.355768</td>\n",
       "      <td>-0.803601</td>\n",
       "    </tr>\n",
       "    <tr>\n",
       "      <td>4</td>\n",
       "      <td>one</td>\n",
       "      <td>B</td>\n",
       "      <td>foo</td>\n",
       "      <td>-0.063028</td>\n",
       "      <td>-2.951043</td>\n",
       "    </tr>\n",
       "    <tr>\n",
       "      <td>5</td>\n",
       "      <td>one</td>\n",
       "      <td>C</td>\n",
       "      <td>bar</td>\n",
       "      <td>-0.055007</td>\n",
       "      <td>-1.228278</td>\n",
       "    </tr>\n",
       "    <tr>\n",
       "      <td>6</td>\n",
       "      <td>two</td>\n",
       "      <td>A</td>\n",
       "      <td>foo</td>\n",
       "      <td>0.761026</td>\n",
       "      <td>0.677991</td>\n",
       "    </tr>\n",
       "    <tr>\n",
       "      <td>7</td>\n",
       "      <td>three</td>\n",
       "      <td>B</td>\n",
       "      <td>foo</td>\n",
       "      <td>1.212867</td>\n",
       "      <td>2.430371</td>\n",
       "    </tr>\n",
       "    <tr>\n",
       "      <td>8</td>\n",
       "      <td>one</td>\n",
       "      <td>C</td>\n",
       "      <td>foo</td>\n",
       "      <td>-1.408104</td>\n",
       "      <td>1.184192</td>\n",
       "    </tr>\n",
       "    <tr>\n",
       "      <td>9</td>\n",
       "      <td>one</td>\n",
       "      <td>A</td>\n",
       "      <td>foo</td>\n",
       "      <td>0.471085</td>\n",
       "      <td>1.638082</td>\n",
       "    </tr>\n",
       "    <tr>\n",
       "      <td>10</td>\n",
       "      <td>two</td>\n",
       "      <td>B</td>\n",
       "      <td>foo</td>\n",
       "      <td>-1.261728</td>\n",
       "      <td>-0.333516</td>\n",
       "    </tr>\n",
       "    <tr>\n",
       "      <td>11</td>\n",
       "      <td>three</td>\n",
       "      <td>C</td>\n",
       "      <td>bar</td>\n",
       "      <td>-1.757479</td>\n",
       "      <td>-0.661762</td>\n",
       "    </tr>\n",
       "  </tbody>\n",
       "</table>\n",
       "</div>"
      ],
      "text/plain": [
       "        A  B    C         D         E\n",
       "0     one  A  foo -0.936647 -0.754403\n",
       "1     one  B  foo  0.263917  0.304491\n",
       "2     two  C  foo  1.644249  0.489921\n",
       "3   three  A  foo  0.355768 -0.803601\n",
       "4     one  B  foo -0.063028 -2.951043\n",
       "5     one  C  bar -0.055007 -1.228278\n",
       "6     two  A  foo  0.761026  0.677991\n",
       "7   three  B  foo  1.212867  2.430371\n",
       "8     one  C  foo -1.408104  1.184192\n",
       "9     one  A  foo  0.471085  1.638082\n",
       "10    two  B  foo -1.261728 -0.333516\n",
       "11  three  C  bar -1.757479 -0.661762"
      ]
     },
     "execution_count": 54,
     "metadata": {},
     "output_type": "execute_result"
    }
   ],
   "source": [
    "df4 = pd.DataFrame({'A': ['one', 'one', 'two', 'three'] * 3,\n",
    "                    'B': ['A', 'B', 'C'] * 4,\n",
    "                    'C': ['foo', 'foo', 'foo', 'foo', 'foo', 'bar'] * 2,\n",
    "                    'D': np.random.randn(12),\n",
    "                    'E': np.random.randn(12)})\n",
    "df4"
   ]
  },
  {
   "cell_type": "code",
   "execution_count": 55,
   "metadata": {
    "colab": {
     "base_uri": "https://localhost:8080/",
     "height": 359
    },
    "colab_type": "code",
    "id": "UjoBQe6b9yDT",
    "outputId": "69a488c0-1c52-43ce-e1e9-004c602b1cd0"
   },
   "outputs": [
    {
     "data": {
      "text/html": [
       "<div>\n",
       "<style scoped>\n",
       "    .dataframe tbody tr th:only-of-type {\n",
       "        vertical-align: middle;\n",
       "    }\n",
       "\n",
       "    .dataframe tbody tr th {\n",
       "        vertical-align: top;\n",
       "    }\n",
       "\n",
       "    .dataframe thead th {\n",
       "        text-align: right;\n",
       "    }\n",
       "</style>\n",
       "<table border=\"1\" class=\"dataframe\">\n",
       "  <thead>\n",
       "    <tr style=\"text-align: right;\">\n",
       "      <th></th>\n",
       "      <th>C</th>\n",
       "      <th>bar</th>\n",
       "      <th>foo</th>\n",
       "    </tr>\n",
       "    <tr>\n",
       "      <th>A</th>\n",
       "      <th>B</th>\n",
       "      <th></th>\n",
       "      <th></th>\n",
       "    </tr>\n",
       "  </thead>\n",
       "  <tbody>\n",
       "    <tr>\n",
       "      <td rowspan=\"3\" valign=\"top\">one</td>\n",
       "      <td>A</td>\n",
       "      <td>NaN</td>\n",
       "      <td>-0.465562</td>\n",
       "    </tr>\n",
       "    <tr>\n",
       "      <td>B</td>\n",
       "      <td>NaN</td>\n",
       "      <td>0.200889</td>\n",
       "    </tr>\n",
       "    <tr>\n",
       "      <td>C</td>\n",
       "      <td>-0.055007</td>\n",
       "      <td>-1.408104</td>\n",
       "    </tr>\n",
       "    <tr>\n",
       "      <td rowspan=\"3\" valign=\"top\">three</td>\n",
       "      <td>A</td>\n",
       "      <td>NaN</td>\n",
       "      <td>0.355768</td>\n",
       "    </tr>\n",
       "    <tr>\n",
       "      <td>B</td>\n",
       "      <td>NaN</td>\n",
       "      <td>1.212867</td>\n",
       "    </tr>\n",
       "    <tr>\n",
       "      <td>C</td>\n",
       "      <td>-1.757479</td>\n",
       "      <td>NaN</td>\n",
       "    </tr>\n",
       "    <tr>\n",
       "      <td rowspan=\"3\" valign=\"top\">two</td>\n",
       "      <td>A</td>\n",
       "      <td>NaN</td>\n",
       "      <td>0.761026</td>\n",
       "    </tr>\n",
       "    <tr>\n",
       "      <td>B</td>\n",
       "      <td>NaN</td>\n",
       "      <td>-1.261728</td>\n",
       "    </tr>\n",
       "    <tr>\n",
       "      <td>C</td>\n",
       "      <td>NaN</td>\n",
       "      <td>1.644249</td>\n",
       "    </tr>\n",
       "  </tbody>\n",
       "</table>\n",
       "</div>"
      ],
      "text/plain": [
       "C             bar       foo\n",
       "A     B                    \n",
       "one   A       NaN -0.465562\n",
       "      B       NaN  0.200889\n",
       "      C -0.055007 -1.408104\n",
       "three A       NaN  0.355768\n",
       "      B       NaN  1.212867\n",
       "      C -1.757479       NaN\n",
       "two   A       NaN  0.761026\n",
       "      B       NaN -1.261728\n",
       "      C       NaN  1.644249"
      ]
     },
     "execution_count": 55,
     "metadata": {},
     "output_type": "execute_result"
    }
   ],
   "source": [
    "pd.pivot_table(df4, values='D',index=['A','B'],columns=['C'], aggfunc=np.sum)"
   ]
  },
  {
   "cell_type": "code",
   "execution_count": 56,
   "metadata": {
    "colab": {
     "base_uri": "https://localhost:8080/",
     "height": 294
    },
    "colab_type": "code",
    "id": "sPK7Ohon9yDU",
    "outputId": "531f35cd-1b1e-490f-e379-7f2e1c24b62f"
   },
   "outputs": [
    {
     "data": {
      "text/plain": [
       "<matplotlib.axes._subplots.AxesSubplot at 0x1a1f2a8d10>"
      ]
     },
     "execution_count": 56,
     "metadata": {},
     "output_type": "execute_result"
    },
    {
     "data": {
      "image/png": "[encoded data removed]",
      "text/plain": [
       "<Figure size 432x288 with 1 Axes>"
      ]
     },
     "metadata": {
      "needs_background": "light"
     },
     "output_type": "display_data"
    }
   ],
   "source": [
    "# 14) Plotting random walks\n",
    "ts = pd.Series(np.random.randn(1000),\n",
    "                index=pd.date_range('1/1/2000', periods=1000))\n",
    " \n",
    "ts = ts.cumsum()\n",
    "ts.plot()"
   ]
  },
  {
   "cell_type": "code",
   "execution_count": 57,
   "metadata": {
    "colab": {
     "base_uri": "https://localhost:8080/",
     "height": 311
    },
    "colab_type": "code",
    "id": "sU4CIEyo9yDV",
    "outputId": "99c68f5b-3b5a-43bc-86af-2ea4207d5756"
   },
   "outputs": [
    {
     "data": {
      "text/plain": [
       "<matplotlib.legend.Legend at 0x1a1f397c50>"
      ]
     },
     "execution_count": 57,
     "metadata": {},
     "output_type": "execute_result"
    },
    {
     "data": {
      "text/plain": [
       "<Figure size 432x288 with 0 Axes>"
      ]
     },
     "metadata": {},
     "output_type": "display_data"
    },
    {
     "data": {
      "image/png": "[encoded data removed]",
      "text/plain": [
       "<Figure size 432x288 with 1 Axes>"
      ]
     },
     "metadata": {
      "needs_background": "light"
     },
     "output_type": "display_data"
    }
   ],
   "source": [
    "df5 = pd.DataFrame(np.random.randn(1000, 4), index=ts.index,\n",
    "   .....:                   columns=['A', 'B', 'C', 'D'])\n",
    "   .....: \n",
    "df5 = df5.cumsum()\n",
    "plt.figure()\n",
    "df5.plot()\n",
    "plt.legend(loc='best')"
   ]
  },
  {
   "cell_type": "code",
   "execution_count": 58,
   "metadata": {
    "colab": {
     "base_uri": "https://localhost:8080/",
     "height": 282
    },
    "colab_type": "code",
    "id": "kF01bmLV9yDW",
    "outputId": "d657fd3d-e246-4e38-ea15-83547f0bbee2",
    "scrolled": true
   },
   "outputs": [
    {
     "data": {
      "text/plain": [
       "<matplotlib.collections.PolyCollection at 0x1a1f665210>"
      ]
     },
     "execution_count": 58,
     "metadata": {},
     "output_type": "execute_result"
    },
    {
     "data": {
      "image/png": "[encoded data removed]",
      "text/plain": [
       "<Figure size 432x288 with 1 Axes>"
      ]
     },
     "metadata": {
      "needs_background": "light"
     },
     "output_type": "display_data"
    }
   ],
   "source": [
    "price = pd.Series(np.random.randn(150).cumsum(),\n",
    "                   index=pd.date_range('2000-1-1', periods=150, freq='B'))\n",
    " \n",
    "\n",
    "ma = price.rolling(20).mean()\n",
    "\n",
    "mstd = price.rolling(20).std()\n",
    "\n",
    "plt.figure()\n",
    "\n",
    "plt.plot(price.index, price, 'k')\n",
    "\n",
    "plt.plot(ma.index, ma, 'b')\n",
    "\n",
    "plt.fill_between(mstd.index, ma - 2 * mstd, ma + 2 * mstd,\n",
    "                  color='b', alpha=0.1)"
   ]
  },
  {
   "cell_type": "code",
   "execution_count": 59,
   "metadata": {
    "colab": {
     "base_uri": "https://localhost:8080/",
     "height": 251
    },
    "colab_type": "code",
    "id": "PVS9wK-89yDX",
    "outputId": "4856ad77-5e97-4724-c2a4-b6697c3995b0",
    "scrolled": false
   },
   "outputs": [
    {
     "data": {
      "image/png": "[encoded data removed]",
      "text/plain": [
       "<Figure size 360x216 with 1 Axes>"
      ]
     },
     "metadata": {},
     "output_type": "display_data"
    }
   ],
   "source": [
    "# 15) xkcd plots! \n",
    "\n",
    "plt.xkcd()\n",
    "rng = np.arange(50)\n",
    "rnd = np.random.randint(0, 10, size=(3, rng.size))\n",
    "yrs = 1950 + rng\n",
    "\n",
    "fig, ax = plt.subplots(figsize=(5, 3))\n",
    "ax.stackplot(yrs, rng + rnd, labels=['Eastasia', 'Eurasia', 'Oceania'])\n",
    "ax.set_title('Combined debt growth over time')\n",
    "ax.legend(loc='upper left')\n",
    "ax.set_ylabel('TOTAL DEBT')\n",
    "ax.set_xlabel('Look at me go!')\n",
    "ax.set_xlim(left=yrs[0], right=yrs[-1])\n",
    "fig.tight_layout()"
   ]
  },
  {
   "cell_type": "code",
   "execution_count": 60,
   "metadata": {
    "colab": {
     "base_uri": "https://localhost:8080/",
     "height": 266
    },
    "colab_type": "code",
    "id": "f5hRlajA9yDY",
    "outputId": "424ee0ee-244a-45e8-e7a6-1c0b5f5923c7"
   },
   "outputs": [
    {
     "data": {
      "image/png": "[encoded data removed]",
      "text/plain": [
       "<Figure size 432x288 with 1 Axes>"
      ]
     },
     "metadata": {},
     "output_type": "display_data"
    }
   ],
   "source": [
    "fig = plt.figure()\n",
    "ax = fig.add_subplot(1, 1, 1)\n",
    "ax.spines['right'].set_color('none')\n",
    "ax.spines['top'].set_color('none')\n",
    "plt.xticks([])\n",
    "plt.yticks([])\n",
    "ax.set_ylim([-30, 10])\n",
    "\n",
    "data = np.ones(100)\n",
    "data[70:] -= np.arange(30)\n",
    "\n",
    "plt.annotate(\n",
    "    'THE DAY I REALIZED\\nI COULD COOK BACON\\nWHENEVER I WANTED',\n",
    "    xy=(70, 1), arrowprops=dict(arrowstyle='->'), xytext=(15, -10))\n",
    "\n",
    "plt.plot(data)\n",
    "\n",
    "plt.xlabel('time')\n",
    "plt.ylabel('my overall health')\n",
    "plt.rcdefaults()"
   ]
  },
  {
   "cell_type": "code",
   "execution_count": 61,
   "metadata": {
    "colab": {
     "base_uri": "https://localhost:8080/",
     "height": 412
    },
    "colab_type": "code",
    "id": "0ouhwwR-9yDZ",
    "outputId": "fd2eb5cc-d519-45c5-f572-87f6c70bc75d"
   },
   "outputs": [
    {
     "data": {
      "image/png": "[encoded data removed]",
      "text/plain": [
       "<Figure size 800x400 with 2 Axes>"
      ]
     },
     "metadata": {},
     "output_type": "display_data"
    }
   ],
   "source": [
    "# 16) Assorted matplotlib plots\n",
    "\n",
    "np.random.seed(444)\n",
    "x = np.random.randint(low=1, high=11, size=50)\n",
    "y = x + np.random.randint(1, 5, size=x.size)\n",
    "data = np.column_stack((x, y))\n",
    "\n",
    "fig, (ax1, ax2) = plt.subplots(nrows=1, ncols=2,\n",
    "                                figsize=(8, 4))\n",
    "\n",
    "ax1.scatter(x=x, y=y, marker='o', c='r', edgecolor='b')\n",
    "ax1.set_title('Scatter: $x$ versus $y$')\n",
    "ax1.set_xlabel('$x$')\n",
    "ax1.set_ylabel('$y$')\n",
    "\n",
    "ax2.hist(data, bins=np.arange(data.min(), data.max()),\n",
    "          label=('x', 'y'),color=('red','blue'))\n",
    "ax2.legend(loc=(0.65, 0.8))\n",
    "ax2.set_title('Frequencies of $x$ and $y$')\n",
    "ax2.yaxis.tick_right()"
   ]
  },
  {
   "cell_type": "code",
   "execution_count": 62,
   "metadata": {
    "colab": {
     "base_uri": "https://localhost:8080/",
     "height": 34
    },
    "colab_type": "code",
    "id": "0g_5q3zK9yDb",
    "outputId": "264fddba-a025-437c-a4dc-6eaaeef967d0"
   },
   "outputs": [
    {
     "data": {
      "text/plain": [
       "(True, True)"
      ]
     },
     "execution_count": 62,
     "metadata": {},
     "output_type": "execute_result"
    }
   ],
   "source": [
    "(fig.axes[0] is ax1, fig.axes[1] is ax2)"
   ]
  },
  {
   "cell_type": "code",
   "execution_count": 63,
   "metadata": {
    "colab": {
     "base_uri": "https://localhost:8080/",
     "height": 623
    },
    "colab_type": "code",
    "id": "As130uIf9yDc",
    "outputId": "73b91e9d-38c6-4100-a405-b29474ac4393"
   },
   "outputs": [
    {
     "data": {
      "image/png": "[encoded data removed]",
      "text/plain": [
       "<Figure size 700x700 with 4 Axes>"
      ]
     },
     "metadata": {},
     "output_type": "display_data"
    }
   ],
   "source": [
    "fig, ax = plt.subplots(nrows=2, ncols=2, figsize=(7, 7))\n",
    "ax1, ax2, ax3, ax4 = ax.flatten()\n",
    "ax1.scatter(x=x, y=y, marker='o', c='r', edgecolor='b')\n",
    "ax1.set_title('Scatter: $x$ versus $y$')\n",
    "ax1.set_xlabel('$x$')\n",
    "ax1.set_ylabel('$y$')\n",
    "ax4.hist(data, bins=np.arange(data.min(), data.max()),\n",
    "         label=('x', 'y'),color=('red','blue'))\n",
    "ax4.legend(loc=(0.65, 0.8))\n",
    "ax4.set_title('Frequencies of $x$ and $y$')\n",
    "ax4.yaxis.tick_right()"
   ]
  },
  {
   "cell_type": "code",
   "execution_count": 64,
   "metadata": {
    "colab": {},
    "colab_type": "code",
    "id": "sv856H3s9yDe"
   },
   "outputs": [],
   "source": [
    "from io import BytesIO\n",
    "import tarfile\n",
    "from urllib.request import urlopen\n",
    "\n",
    "url = 'http://www.dcc.fc.up.pt/~ltorgo/Regression/cal_housing.tgz'\n",
    "b = BytesIO(urlopen(url).read())\n",
    "fpath = 'CaliforniaHousing/cal_housing.data'\n",
    "\n",
    "with tarfile.open(mode='r', fileobj=b) as archive:\n",
    "     housing = np.loadtxt(archive.extractfile(fpath), delimiter=',')\n",
    "\n",
    "y = housing[:, -1]\n",
    "pop, age = housing[:, [4, 7]].T"
   ]
  },
  {
   "cell_type": "code",
   "execution_count": 65,
   "metadata": {
    "colab": {},
    "colab_type": "code",
    "id": "dknEc3Ah9yDg"
   },
   "outputs": [],
   "source": [
    "def add_titlebox(ax, text):\n",
    "     ax.text(.55, .8, text,\n",
    "         horizontalalignment='center',\n",
    "        transform=ax.transAxes,\n",
    "         bbox=dict(facecolor='white', alpha=0.6),\n",
    "         fontsize=12.5)\n",
    "     return ax"
   ]
  },
  {
   "cell_type": "code",
   "execution_count": 66,
   "metadata": {
    "colab": {
     "base_uri": "https://localhost:8080/",
     "height": 807
    },
    "colab_type": "code",
    "id": "Q8nPZGie9yDh",
    "outputId": "0c4ef499-4c63-41cd-e8dd-0b673996d109"
   },
   "outputs": [
    {
     "data": {
      "image/png": "[encoded data removed]",
      "text/plain": [
       "<Figure size 1200x800 with 4 Axes>"
      ]
     },
     "metadata": {},
     "output_type": "display_data"
    }
   ],
   "source": [
    "gridsize = (3, 2)\n",
    "fig = plt.figure(figsize=(12, 8))\n",
    "ax1 = plt.subplot2grid(gridsize, (0, 0), colspan=2, rowspan=2)\n",
    "ax2 = plt.subplot2grid(gridsize, (2, 0))\n",
    "ax3 = plt.subplot2grid(gridsize, (2, 1))\n",
    "\n",
    "ax1.set_title('Home value as a function of home age & area population',\n",
    "               fontsize=14)\n",
    "sctr = ax1.scatter(x=age, y=pop, c=y, cmap='RdYlGn')\n",
    "plt.colorbar(sctr, ax=ax1, format='$%d')\n",
    "#ax1.set_yscale('log')\n",
    "ax1.set_ylabel(\"Area Population\")\n",
    "ax1.set_xlabel(\"Home Age\")\n",
    "ax2.hist(age, bins='auto')\n",
    "ax3.hist(pop, bins='auto', log=True)\n",
    "\n",
    "add_titlebox(ax2, 'Histogram: home age')\n",
    "add_titlebox(ax3, 'Histogram: area population (log scl.)')\n",
    "fig.tight_layout()"
   ]
  },
  {
   "cell_type": "code",
   "execution_count": 67,
   "metadata": {
    "colab": {
     "base_uri": "https://localhost:8080/",
     "height": 187
    },
    "colab_type": "code",
    "id": "yZ-LuNF_9yDj",
    "outputId": "46ba50b3-ce54-4d54-b10e-9b0f0d9d9f39"
   },
   "outputs": [
    {
     "data": {
      "text/plain": [
       "array([[ 2,  0,  0,  0,  0,  0,  0,  0,  0, 11],\n",
       "       [ 0,  3,  0,  0,  0,  0,  0,  0, 10,  0],\n",
       "       [ 0,  0,  4,  0,  0,  0,  0,  9,  0,  0],\n",
       "       [ 0,  0,  0,  5,  0,  0,  8,  0,  0,  0],\n",
       "       [ 0,  0,  0,  0,  6,  7,  0,  0,  0,  0],\n",
       "       [ 0,  0,  0,  0,  6,  7,  0,  0,  0,  0],\n",
       "       [ 0,  0,  0,  5,  0,  0,  8,  0,  0,  0],\n",
       "       [ 0,  0,  4,  0,  0,  0,  0,  9,  0,  0],\n",
       "       [ 0,  3,  0,  0,  0,  0,  0,  0, 10,  0],\n",
       "       [ 2,  0,  0,  0,  0,  0,  0,  0,  0, 11]])"
      ]
     },
     "execution_count": 67,
     "metadata": {},
     "output_type": "execute_result"
    }
   ],
   "source": [
    "# 17) Diagonal matrices, numpy linspace\n",
    "x = np.diag(np.arange(2, 12))[::-1]\n",
    "x[np.diag_indices_from(x[::-1])] = np.arange(2, 12)\n",
    "x"
   ]
  },
  {
   "cell_type": "code",
   "execution_count": 68,
   "metadata": {
    "colab": {
     "base_uri": "https://localhost:8080/",
     "height": 34
    },
    "colab_type": "code",
    "id": "HW8dPOmW9yDn",
    "outputId": "ebc979f9-0ae8-4b0e-a141-b42ac0782194"
   },
   "outputs": [
    {
     "data": {
      "text/plain": [
       "(array([0, 1, 2, 3, 4, 5, 6, 7, 8, 9]), array([0, 1, 2, 3, 4, 5, 6, 7, 8, 9]))"
      ]
     },
     "execution_count": 68,
     "metadata": {},
     "output_type": "execute_result"
    }
   ],
   "source": [
    "np.diag_indices_from(x[::-1])"
   ]
  },
  {
   "cell_type": "code",
   "execution_count": 69,
   "metadata": {
    "colab": {
     "base_uri": "https://localhost:8080/",
     "height": 187
    },
    "colab_type": "code",
    "id": "UF2R108Q9yDq",
    "outputId": "3d5584d7-1982-424f-f338-f65f8c6cdaa7",
    "scrolled": true
   },
   "outputs": [
    {
     "data": {
      "text/plain": [
       "array([ 0. ,  0.1,  0.2,  0.3,  0.4,  0.5,  0.6,  0.7,  0.8,  0.9,  1. ,\n",
       "        1.1,  1.2,  1.3,  1.4,  1.5,  1.6,  1.7,  1.8,  1.9,  2. ,  2.1,\n",
       "        2.2,  2.3,  2.4,  2.5,  2.6,  2.7,  2.8,  2.9,  3. ,  3.1,  3.2,\n",
       "        3.3,  3.4,  3.5,  3.6,  3.7,  3.8,  3.9,  4. ,  4.1,  4.2,  4.3,\n",
       "        4.4,  4.5,  4.6,  4.7,  4.8,  4.9,  5. ,  5.1,  5.2,  5.3,  5.4,\n",
       "        5.5,  5.6,  5.7,  5.8,  5.9,  6. ,  6.1,  6.2,  6.3,  6.4,  6.5,\n",
       "        6.6,  6.7,  6.8,  6.9,  7. ,  7.1,  7.2,  7.3,  7.4,  7.5,  7.6,\n",
       "        7.7,  7.8,  7.9,  8. ,  8.1,  8.2,  8.3,  8.4,  8.5,  8.6,  8.7,\n",
       "        8.8,  8.9,  9. ,  9.1,  9.2,  9.3,  9.4,  9.5,  9.6,  9.7,  9.8,\n",
       "        9.9, 10. ])"
      ]
     },
     "execution_count": 69,
     "metadata": {},
     "output_type": "execute_result"
    }
   ],
   "source": [
    "np.linspace(0, 10, 101)"
   ]
  },
  {
   "cell_type": "code",
   "execution_count": 70,
   "metadata": {
    "colab": {
     "base_uri": "https://localhost:8080/",
     "height": 119
    },
    "colab_type": "code",
    "id": "d5hQzMeR9yDr",
    "outputId": "c5474c6d-6b91-4942-8608-701fdec46f70"
   },
   "outputs": [
    {
     "data": {
      "text/plain": [
       "A    0\n",
       "B    0\n",
       "C    0\n",
       "D    0\n",
       "E    0\n",
       "dtype: int64"
      ]
     },
     "execution_count": 70,
     "metadata": {},
     "output_type": "execute_result"
    }
   ],
   "source": [
    "# 18) Check for missing values in a data frame\n",
    "df.apply(lambda x: sum(x.isnull()), axis=0)"
   ]
  },
  {
   "cell_type": "code",
   "execution_count": 71,
   "metadata": {
    "colab": {
     "base_uri": "https://localhost:8080/",
     "height": 34
    },
    "colab_type": "code",
    "id": "l--hJFqP9yDs",
    "outputId": "27fc9650-0514-4169-f782-e82be5d74431"
   },
   "outputs": [
    {
     "data": {
      "text/plain": [
       "3.5938128917256053e-06"
      ]
     },
     "execution_count": 71,
     "metadata": {},
     "output_type": "execute_result"
    }
   ],
   "source": [
    "# 19) Birthday paradox\n",
    "p = 5/34 * 4/33 * 3/32 * 2/31 * 1/30\n",
    "p"
   ]
  },
  {
   "cell_type": "code",
   "execution_count": 72,
   "metadata": {
    "colab": {
     "base_uri": "https://localhost:8080/",
     "height": 34
    },
    "colab_type": "code",
    "id": "ikuhM7Ep9yDt",
    "outputId": "45714f36-d7f0-498d-bbf3-305580e91554"
   },
   "outputs": [
    {
     "data": {
      "text/plain": [
       "210.0"
      ]
     },
     "execution_count": 72,
     "metadata": {},
     "output_type": "execute_result"
    }
   ],
   "source": [
    "perm = (21*20)/2\n",
    "perm"
   ]
  },
  {
   "cell_type": "code",
   "execution_count": 73,
   "metadata": {
    "colab": {
     "base_uri": "https://localhost:8080/",
     "height": 34
    },
    "colab_type": "code",
    "id": "dX7uDbVd9yDu",
    "outputId": "11c41f0f-470a-4bef-cd2a-a9e00235a259"
   },
   "outputs": [
    {
     "data": {
      "text/plain": [
       "1325.5262533678433"
      ]
     },
     "execution_count": 73,
     "metadata": {},
     "output_type": "execute_result"
    }
   ],
   "source": [
    "1/(1-(1-p)**perm)"
   ]
  },
  {
   "cell_type": "code",
   "execution_count": null,
   "metadata": {},
   "outputs": [],
   "source": []
  }
 ],
 "metadata": {
  "colab": {
   "collapsed_sections": [],
   "name": "Stats Playground.ipynb",
   "provenance": []
  },
  "hide_input": false,
  "kernelspec": {
   "display_name": "Python 3",
   "language": "python",
   "name": "python3"
  },
  "language_info": {
   "codemirror_mode": {
    "name": "ipython",
    "version": 3
   },
   "file_extension": ".py",
   "mimetype": "text/x-python",
   "name": "python",
   "nbconvert_exporter": "python",
   "pygments_lexer": "ipython3",
   "version": "3.7.4"
  },
  "toc": {
   "base_numbering": 1,
   "nav_menu": {},
   "number_sections": true,
   "sideBar": true,
   "skip_h1_title": false,
   "title_cell": "Table of Contents",
   "title_sidebar": "Contents",
   "toc_cell": true,
   "toc_position": {},
   "toc_section_display": true,
   "toc_window_display": false
  }
 },
 "nbformat": 4,
 "nbformat_minor": 1
}
