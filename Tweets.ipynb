{
 "cells": [
  {
   "cell_type": "markdown",
   "metadata": {
    "colab_type": "text",
    "id": "SW_o6U8JWHq1"
   },
   "source": [
    "# Intro\n",
    "\n",
    "This notebook pulls the latest tweets from Twitter relating to \"apples\", \"#apples\", or \"@apples\" (excluding retweets) from the last 7 days, applies sentiment analysis using Vader, and updates a running list in Google Sheets.\n",
    "\n",
    "Maybe you can extend to other types of fruit!\n",
    "\n",
    "Note that the free tier of the Twitter API only allows access to the last 7 days of data, so suggest running more often than that.\n",
    "\n",
    "# Code\n",
    "\n",
    "To run all: Runtime/Cell > Run all"
   ]
  },
  {
   "cell_type": "code",
   "execution_count": null,
   "metadata": {
    "colab": {
     "base_uri": "https://localhost:8080/",
     "height": 544
    },
    "colab_type": "code",
    "id": "k79JQm5KlPoQ",
    "outputId": "8959953d-af99-4751-f99e-adbd7c715906"
   },
   "outputs": [],
   "source": [
    "!pip install --upgrade --quiet gspread\n",
    "!pip install gspread-dataframe\n",
    "!pip install jsonpickle\n",
    "!pip install tweepy\n",
    "!pip install vaderSentiment"
   ]
  },
  {
   "cell_type": "code",
   "execution_count": null,
   "metadata": {
    "colab": {},
    "colab_type": "code",
    "id": "QiDr_rFCnYU9"
   },
   "outputs": [],
   "source": [
    "import pandas as pd\n",
    "import tweepy as tw\n",
    "import json\n",
    "import jsonpickle"
   ]
  },
  {
   "cell_type": "code",
   "execution_count": null,
   "metadata": {
    "colab": {},
    "colab_type": "code",
    "id": "wYOkohNBnWko"
   },
   "outputs": [],
   "source": [
    "# Step 1 - Authenticate\n",
    "consumer_key= 'YOUR_KEY'\n",
    "consumer_secret= 'YOUR_SECRET'\n",
    "\n",
    "access_token='YOUR_TOKEN'\n",
    "access_token_secret='YOUR_TOKEN_SECRET'\n",
    "\n",
    "auth = tw.OAuthHandler(consumer_key, consumer_secret)\n",
    "auth.set_access_token(access_token, access_token_secret)\n",
    "\n",
    "api = tw.API(auth)"
   ]
  },
  {
   "cell_type": "code",
   "execution_count": null,
   "metadata": {
    "cellView": "both",
    "colab": {},
    "colab_type": "code",
    "id": "VKbkrr76naqj"
   },
   "outputs": [],
   "source": [
    "#@title\n",
    "#(To see fields available on a tweet)\n",
    "# temp = tw.Cursor(api.search,q=\"apples\",lang='en').items(1)\n",
    "# for tweet in temp:\n",
    "#     j = jsonpickle.encode(tweet._json, unpicklable=False)\n",
    "#     parsed = json.loads(j)\n",
    "#     print(json.dumps(parsed, indent=4, sort_keys=True))"
   ]
  },
  {
   "cell_type": "code",
   "execution_count": null,
   "metadata": {
    "cellView": "both",
    "colab": {},
    "colab_type": "code",
    "id": "rPWLmUA_ncnD"
   },
   "outputs": [],
   "source": [
    "#@title\n",
    "# Functions to get/save/load tweets\n",
    "from vaderSentiment.vaderSentiment import SentimentIntensityAnalyzer\n",
    "from datetime import datetime\n",
    "import re\n",
    "\n",
    "def get_save_tweets(filepath, api, queries, max_tweets=1000, lang='en'):\n",
    "    tweetCount = 0\n",
    "\n",
    "    # Open file and save tweets as JSON\n",
    "    with open(filepath, 'w') as f:\n",
    "        for query in queries:\n",
    "            for tweet in tw.Cursor(api.search,q=query,lang=lang).items(max_tweets):         \n",
    "                f.write(jsonpickle.encode(tweet._json, unpicklable=False) + '\\n')\n",
    "                tweetCount += 1\n",
    "        print(\"Downloaded {0} tweets\".format(tweetCount))\n",
    "        \n",
    "def tweets_to_df(path):    \n",
    "    tweets = list(open(path, 'rt'))\n",
    "    analyser = SentimentIntensityAnalyzer()\n",
    "    \n",
    "    tweet_id = []\n",
    "    text = []\n",
    "    sentiment = []\n",
    "    date = []\n",
    "    hour = []\n",
    "    weekday = []\n",
    "    hashtag = []\n",
    "    url = []\n",
    "    favorite = []\n",
    "    reply = []\n",
    "    retweet = []\n",
    "    follower = []\n",
    "    following = []\n",
    "    user = []\n",
    "    screen_name = []\n",
    "\n",
    "    for t in tweets:\n",
    "        t = jsonpickle.decode(t)\n",
    "        \n",
    "        # Ignore if from a Verizon account\n",
    "        if 'Verizon' in t['user']['name']:\n",
    "            continue\n",
    "        \n",
    "        # Id\n",
    "        tweet_id.append(t['id'])\n",
    "        \n",
    "        # Text and sentiment (remove url from sentiment score)\n",
    "        text.append(t['text'])\n",
    "        trim_text = re.sub(r\"http\\S+\", \"\", t['text'])\n",
    "        sentiment.append(analyser.polarity_scores(trim_text)['compound'])\n",
    "        \n",
    "        # Decompose weekday, date, and hour\n",
    "        d = datetime.strptime(t['created_at'], '%a %b %d %H:%M:%S +0000 %Y')\n",
    "        date.append(d.strftime(\"%Y-%m-%d\"))\n",
    "        hour.append(d.strftime(\"%H\"))\n",
    "        weekday.append(d.strftime(\"%a\"))\n",
    "        \n",
    "        # Has hashtag\n",
    "        if len(t['entities']['hashtags']) == 0:\n",
    "            hashtag.append(0)\n",
    "        else:\n",
    "            hashtag.append(1)\n",
    "            \n",
    "        # Has url\n",
    "        if len(t['entities']['urls']) == 0:\n",
    "            url.append(0)\n",
    "        else:\n",
    "            url.append(1)\n",
    "            \n",
    "        # Number of favs\n",
    "        favorite.append(t['favorite_count'])\n",
    "        \n",
    "        # Is reply?\n",
    "        if t['in_reply_to_status_id'] == None:\n",
    "            reply.append(0)\n",
    "        else:\n",
    "            reply.append(1)       \n",
    "        \n",
    "        # Retweets count\n",
    "        retweet.append(t['retweet_count'])\n",
    "        \n",
    "        # Followers number\n",
    "        follower.append(t['user']['followers_count'])\n",
    "        \n",
    "        # Following number\n",
    "        following.append(t['user']['friends_count'])\n",
    "        \n",
    "        # Add user\n",
    "        user.append(t['user']['name'])\n",
    "\n",
    "        # Add screen name\n",
    "        screen_name.append(t['user']['screen_name'])\n",
    "        \n",
    "    d = {'id': tweet_id,\n",
    "         'text': text,\n",
    "         'sentiment': sentiment,\n",
    "         'date': date,\n",
    "         'hour' : hour,\n",
    "         'weekday': weekday,\n",
    "         'has_hashtag': hashtag,\n",
    "         'has_url': url,\n",
    "         'fav_count': favorite,\n",
    "         'is_reply': reply,\n",
    "         'retweet_count': retweet,\n",
    "         'followers': follower,\n",
    "         'following' : following,\n",
    "         'user': user,\n",
    "         'screen_name' : screen_name\n",
    "        }\n",
    "    \n",
    "    return pd.DataFrame(data = d)"
   ]
  },
  {
   "cell_type": "code",
   "execution_count": null,
   "metadata": {
    "colab": {
     "base_uri": "https://localhost:8080/",
     "height": 34
    },
    "colab_type": "code",
    "id": "Or3Y-aXLnrSO",
    "outputId": "c21fd045-7f8f-414c-b36a-1371db6dabd7"
   },
   "outputs": [],
   "source": [
    "# Step 2 - Get apple-related tweets\n",
    "queries = ['@apples -filter:retweets',\n",
    "           '\"apples\" -filter:retweets',\n",
    "           '#apples -filter:retweets']\n",
    "get_save_tweets('tweets.json', api, queries)"
   ]
  },
  {
   "cell_type": "code",
   "execution_count": null,
   "metadata": {
    "colab": {
     "base_uri": "https://localhost:8080/",
     "height": 97
    },
    "colab_type": "code",
    "id": "Dyf9KB-Kntk0",
    "outputId": "3bab3548-9e6c-4c70-af7e-5734c7b81d75"
   },
   "outputs": [],
   "source": [
    "# Step 3 - Load tweets into data frame\n",
    "tweets_df = tweets_to_df('tweets.json')\n",
    "tweets_df.head(1)"
   ]
  },
  {
   "cell_type": "code",
   "execution_count": null,
   "metadata": {
    "colab": {
     "base_uri": "https://localhost:8080/",
     "height": 97
    },
    "colab_type": "code",
    "id": "ebrshJqPlS-A",
    "outputId": "20e1067d-c7af-436c-b832-da768f5f86a5"
   },
   "outputs": [],
   "source": [
    "# Step 4 - Open Google Sheet and get existing tweets\n",
    "from google.colab import auth\n",
    "auth.authenticate_user()\n",
    "\n",
    "import gspread\n",
    "from oauth2client.client import GoogleCredentials\n",
    "\n",
    "SHEET_NAME = \"YOUR_SHEET_NAME\"\n",
    "WORKSHEET_NAME = \"YOUR_WORKSHEET_NAME\"\n",
    "\n",
    "gc = gspread.authorize(GoogleCredentials.get_application_default())\n",
    "\n",
    "worksheet = gc.open(SHEET_NAME).worksheet(WORKSHEET_NAME)\n",
    "\n",
    "rows = worksheet.get_all_values()\n",
    "existing_df = pd.DataFrame.from_records(rows[1:],columns=rows[0])\n",
    "existing_df.head(1)"
   ]
  },
  {
   "cell_type": "code",
   "execution_count": null,
   "metadata": {
    "colab": {
     "base_uri": "https://localhost:8080/",
     "height": 555
    },
    "colab_type": "code",
    "id": "okynKA56yupF",
    "outputId": "e3e061c2-8e5c-4ae8-bfac-256c87addcca"
   },
   "outputs": [],
   "source": [
    "# Step 5 - Identify new tweets (not in existing)\n",
    "new_tweets_df = tweets_df[~tweets_df['id'].isin(existing_df['id'])]\n",
    "new_tweets_df"
   ]
  },
  {
   "cell_type": "code",
   "execution_count": null,
   "metadata": {
    "colab": {
     "base_uri": "https://localhost:8080/",
     "height": 34
    },
    "colab_type": "code",
    "id": "NdD1LtiqvBkZ",
    "outputId": "3d31488c-487f-456e-8380-89d153ec4ba2"
   },
   "outputs": [],
   "source": [
    "# Step 6 - Write all tweets to the sheet\n",
    "from gspread_dataframe import set_with_dataframe\n",
    "all_tweets = existing_df.append(new_tweets_df, sort=False).sort_values(['date','hour'], ascending=[False, False])\n",
    "set_with_dataframe(worksheet, all_tweets)\n",
    "print(\"Done: added %d new tweets to sheet\" % len(new_tweets_df))"
   ]
  }
 ],
 "metadata": {
  "colab": {
   "collapsed_sections": [],
   "name": "Tweets.ipynb",
   "provenance": []
  },
  "kernelspec": {
   "display_name": "Python 3",
   "language": "python",
   "name": "python3"
  },
  "language_info": {
   "codemirror_mode": {
    "name": "ipython",
    "version": 3
   },
   "file_extension": ".py",
   "mimetype": "text/x-python",
   "name": "python",
   "nbconvert_exporter": "python",
   "pygments_lexer": "ipython3",
   "version": "3.7.4"
  }
 },
 "nbformat": 4,
 "nbformat_minor": 1
}
